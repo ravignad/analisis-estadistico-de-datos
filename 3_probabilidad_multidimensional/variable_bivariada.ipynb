{
 "cells": [
  {
   "cell_type": "markdown",
   "id": "cd5f87d6-6cab-47bb-be77-2e4d2c60f043",
   "metadata": {},
   "source": [
    "# Variable bivariada"
   ]
  },
  {
   "cell_type": "code",
   "execution_count": null,
   "id": "ba1a2eeb-0554-427f-954e-1e1b19cff721",
   "metadata": {},
   "outputs": [],
   "source": [
    "import numpy as np\n",
    "rng = np.random.default_rng(seed=6870)"
   ]
  },
  {
   "cell_type": "markdown",
   "id": "92fd8ea7-b60d-42d5-afcf-8b6c22673fdb",
   "metadata": {},
   "source": [
    "Usamos como ejemplo la variable aleatoria bivariada: (altura, peso) de una persona"
   ]
  },
  {
   "cell_type": "markdown",
   "id": "c71b2521-ae53-41ec-b1b0-74decc718696",
   "metadata": {},
   "source": [
    "## Simulación de datos"
   ]
  },
  {
   "cell_type": "markdown",
   "id": "258a86ee-407f-4c40-a4c6-e13f50fd32c0",
   "metadata": {},
   "source": [
    "Simulamos datos para una población de:"
   ]
  },
  {
   "cell_type": "code",
   "execution_count": null,
   "id": "ea0dd04f-98c1-458b-a0a1-aa20919b1f38",
   "metadata": {},
   "outputs": [],
   "source": [
    "population = 100000"
   ]
  },
  {
   "cell_type": "markdown",
   "id": "80cbf5d0-3f8f-4ca1-a6be-22f4dd9a6908",
   "metadata": {},
   "source": [
    "Generamos los datos. La distribución la vamos a ver más adelante."
   ]
  },
  {
   "cell_type": "code",
   "execution_count": null,
   "id": "b405d6e9-e039-4bde-985a-046782c9f11e",
   "metadata": {},
   "outputs": [],
   "source": [
    "from scipy.stats import multivariate_normal\n",
    "mean_height_cm = 159\n",
    "mean_weight_kg = 62.5\n",
    "height_sigma_cm = 10\n",
    "weight_sigma_kg = 7\n",
    "correlation = 0.7\n",
    "mean = np.array([mean_height_cm, mean_weight_kg])\n",
    "cov = np.empty(shape=(2,2))\n",
    "cov[0, 0] = height_sigma_cm**2\n",
    "cov[0, 1] = cov[1,0] = correlation*height_sigma_cm*weight_sigma_kg\n",
    "cov[1, 1] = weight_sigma_kg**2\n",
    "data = multivariate_normal.rvs(mean, cov, size=population, random_state=rng)"
   ]
  },
  {
   "cell_type": "markdown",
   "id": "ad9d8ac4-11da-4c17-8b59-dea64fe09317",
   "metadata": {},
   "source": [
    "Pasamos los datos a un dataframe de pandas para manipularlos con más comodidad. Mostramos los primeros datos generados."
   ]
  },
  {
   "cell_type": "code",
   "execution_count": null,
   "id": "a3b26584-763f-4ab5-8e29-36de9b519f41",
   "metadata": {},
   "outputs": [],
   "source": [
    "import pandas as pd\n",
    "df = pd.DataFrame({\"Height\": data[:,0], \"Weight\": data[:,1]})\n",
    "df.head(10)"
   ]
  },
  {
   "cell_type": "code",
   "execution_count": null,
   "id": "a68bfa85-51af-4529-aa13-8ee0592da79b",
   "metadata": {},
   "outputs": [],
   "source": [
    "import matplotlib.pyplot as plt\n",
    "fig, ax = plt.subplots()\n",
    "ax.set_xlabel(\"Height (cm)\")\n",
    "ax.set_ylabel(\"Weight (kg)\")\n",
    "ax.plot(df[\"Height\"], df[\"Weight\"], ls='None', marker='o', ms=1, label=\"Persona\")\n",
    "ax.legend()"
   ]
  },
  {
   "cell_type": "markdown",
   "id": "a026cbfd-f38c-45f7-b124-02dd177c0acf",
   "metadata": {},
   "source": [
    "## PDF marginales"
   ]
  },
  {
   "cell_type": "markdown",
   "id": "903fdaf9-a672-48e1-b659-514f64795d03",
   "metadata": {},
   "source": [
    "PDF marginal de la altura $g_X(x)$"
   ]
  },
  {
   "cell_type": "code",
   "execution_count": null,
   "id": "4ec4e7c7-8d91-4e55-a738-49db31b00a67",
   "metadata": {},
   "outputs": [],
   "source": [
    "x = 163\n",
    "delta_x = 2\n",
    "selected_people_x = df[ (x < df[\"Height\"]) & (df[\"Height\"] < x+delta_x) ]\n",
    "selected_people_x.head()"
   ]
  },
  {
   "cell_type": "code",
   "execution_count": null,
   "id": "b19215b9-baf9-435b-a9a3-cbe946297a32",
   "metadata": {},
   "outputs": [],
   "source": [
    "nselected_x = len(selected_people_x)\n",
    "nselected_x"
   ]
  },
  {
   "cell_type": "code",
   "execution_count": null,
   "id": "c4d3849a-8498-412f-901f-3bb4d60e6566",
   "metadata": {},
   "outputs": [],
   "source": [
    "marginal_proba_x = nselected_x / population\n",
    "marginal_proba_x"
   ]
  },
  {
   "cell_type": "code",
   "execution_count": null,
   "id": "50720ecb-20bc-4bd1-b9a1-49ac524353f8",
   "metadata": {},
   "outputs": [],
   "source": [
    "marginal_pdf_x =  marginal_proba_x / delta_x\n",
    "print(f\"{marginal_pdf_x:.3} cm⁻¹\")"
   ]
  },
  {
   "cell_type": "code",
   "execution_count": null,
   "id": "f1cc5f38-8356-4d89-a63f-278c7d813ad4",
   "metadata": {
    "scrolled": true
   },
   "outputs": [],
   "source": [
    "fig, ax = plt.subplots()\n",
    "ax.set_xlabel(\"Height (cm)\")\n",
    "ax.set_ylabel(\"Weight (kg)\")\n",
    "ax.plot(df[\"Height\"], df[\"Weight\"], ls='None', marker='o', ms=1, alpha=0.01, label=\"Persona\")\n",
    "ax.axvspan(x, x + delta_x, color='tab:orange', alpha=0.5)\n",
    "ax.text(0.1, 0.8, f\"N = {population}\", transform=ax.transAxes)\n",
    "ax.annotate(f\"{nselected_x}\", xy=(x, 0.25), xycoords=('data', 'axes fraction'), xytext=(0.75, 0.25), textcoords='axes fraction',\n",
    "            arrowprops=dict(arrowstyle=\"->\", connectionstyle=\"arc\", color=\"tab:gray\") \n",
    "            )"
   ]
  },
  {
   "cell_type": "markdown",
   "id": "b3c0fe12-abc3-4a38-81af-2e6cd16cbc33",
   "metadata": {},
   "source": [
    "PDF marginal del peso $g_Y(y)$"
   ]
  },
  {
   "cell_type": "code",
   "execution_count": null,
   "id": "a8f56cd3-bae4-49c6-8626-0465bc305d5b",
   "metadata": {},
   "outputs": [],
   "source": [
    "y = 66\n",
    "delta_y = 2\n",
    "selected_people_y = df[ (y < df[\"Weight\"]) & (df[\"Weight\"] < y+delta_y) ]\n",
    "nselected_y = len(selected_people_y)\n",
    "marginal_proba_y = nselected_y / population\n",
    "marginal_pdf_y = marginal_proba_y / delta_y\n",
    "print(f\"{marginal_pdf_y:.3} kg⁻¹\")"
   ]
  },
  {
   "cell_type": "code",
   "execution_count": null,
   "id": "0e12764d-8901-46a8-b813-19dec2aa2f3b",
   "metadata": {},
   "outputs": [],
   "source": [
    "fig, ax = plt.subplots()\n",
    "ax.set_xlabel(\"Height (cm)\")\n",
    "ax.set_ylabel(\"Weight (kg)\")\n",
    "ax.plot(df[\"Height\"], df[\"Weight\"], ls='None', marker='o', ms=1, alpha=0.01, label=\"Persona\")\n",
    "ax.axhspan(y, y + delta_y, color='tab:green', alpha=0.5)\n",
    "ax.text(0.1, 0.8, f\"N = {population}\", transform=ax.transAxes)\n",
    "ax.annotate(f\"{nselected_y}\", xy=(0.25, y), xycoords=('axes fraction', 'data'), xytext=(0.15, 0.15), textcoords='axes fraction',\n",
    "            arrowprops=dict(arrowstyle=\"->\", connectionstyle=\"arc\", color=\"tab:gray\") \n",
    "            )"
   ]
  },
  {
   "cell_type": "markdown",
   "id": "6baa6d46-6e1e-4080-88b7-cb319720a994",
   "metadata": {},
   "source": [
    "## PDF conjunta $f(x,y)$"
   ]
  },
  {
   "cell_type": "code",
   "execution_count": null,
   "id": "1b8039b6-2b83-4ed7-aa97-d150a99cfc48",
   "metadata": {},
   "outputs": [],
   "source": [
    "selected_people_xy = df[ (x < df[\"Height\"]) & (df[\"Height\"] < x+delta_x) & (y < df[\"Weight\"]) & (df[\"Weight\"] < y+delta_y) ]\n",
    "nselected_xy = len(selected_people_xy)\n",
    "nselected_xy"
   ]
  },
  {
   "cell_type": "code",
   "execution_count": null,
   "id": "14f09b23-c8a3-431b-8910-6a9e331d0e37",
   "metadata": {},
   "outputs": [],
   "source": [
    "joint_proba = nselected_xy / population\n",
    "joint_proba"
   ]
  },
  {
   "cell_type": "code",
   "execution_count": null,
   "id": "b4b13c4e-395a-40c2-a9cb-518c4a5a7e34",
   "metadata": {},
   "outputs": [],
   "source": [
    "joint_pdf = joint_proba / (delta_x * delta_y)\n",
    "print(f\"{joint_pdf:.3} cm⁻¹ kg⁻¹\")"
   ]
  },
  {
   "cell_type": "code",
   "execution_count": null,
   "id": "3789b752-ab06-48b0-84a8-149baa82b693",
   "metadata": {},
   "outputs": [],
   "source": [
    "fig, ax = plt.subplots()\n",
    "ax.set_xlabel(\"Height (cm)\")\n",
    "ax.set_ylabel(\"Weight (kg)\")\n",
    "ax.plot(df[\"Height\"], df[\"Weight\"], ls='None', marker='o', ms=1, alpha=0.01, label=\"Persona\")\n",
    "ax.axvspan(x, x + delta_x, color='tab:orange', alpha=0.5)\n",
    "ax.axhspan(y, y + delta_y, color='tab:green', alpha=0.5)\n",
    "ax.text(0.1, 0.8, f\"N = {population}\", transform=ax.transAxes)\n",
    "ax.annotate(f\"{nselected_xy}\", xy=(x, y), xycoords='data', xytext=(0.75, 0.25), textcoords='axes fraction',\n",
    "            arrowprops=dict(arrowstyle=\"->\", connectionstyle=\"arc\", color=\"tab:gray\") \n",
    "            )"
   ]
  },
  {
   "cell_type": "markdown",
   "id": "2ade19c3-f29b-4a06-807b-95dcf71d00c5",
   "metadata": {},
   "source": [
    "## PDFs condicionales"
   ]
  },
  {
   "cell_type": "markdown",
   "id": "c7ed92d3-7107-4da4-a55f-afa015569692",
   "metadata": {},
   "source": [
    "PDF condicional del peso dada la altura $h_{Y|X}(y|x)$"
   ]
  },
  {
   "cell_type": "code",
   "execution_count": null,
   "id": "792c25c1-5873-4152-96e4-9814d20faed0",
   "metadata": {},
   "outputs": [],
   "source": [
    "nselected_x"
   ]
  },
  {
   "cell_type": "code",
   "execution_count": null,
   "id": "46709a35-e916-4e28-9a38-17e03f84cab0",
   "metadata": {},
   "outputs": [],
   "source": [
    "nselected_xy"
   ]
  },
  {
   "cell_type": "code",
   "execution_count": null,
   "id": "4846afe4-5d8d-4358-869b-6fee9bf7c810",
   "metadata": {},
   "outputs": [],
   "source": [
    "conditional_proba_y = nselected_xy / nselected_x\n",
    "conditional_proba_y"
   ]
  },
  {
   "cell_type": "code",
   "execution_count": null,
   "id": "4a6a6671-9b28-4f2d-a409-3e8120dcc0b2",
   "metadata": {},
   "outputs": [],
   "source": [
    "conditional_pdf_y = conditional_proba_y / delta_y\n",
    "print(f\"{conditional_pdf_y:.3} kg⁻¹\")"
   ]
  },
  {
   "cell_type": "code",
   "execution_count": null,
   "id": "d5e8fda4-c431-4030-9075-23e527d19fc5",
   "metadata": {},
   "outputs": [],
   "source": [
    "fig, ax = plt.subplots()\n",
    "ax.set_xlabel(\"Height (cm)\")\n",
    "ax.set_ylabel(\"Weight (kg)\")\n",
    "ax.plot(df[\"Height\"], df[\"Weight\"], ls='None', marker='o', ms=1, alpha=0.01, label=\"Persona\")\n",
    "ax.axvspan(x, x + delta_x, color='tab:orange', alpha=0.5)\n",
    "ax.axhspan(y, y + delta_y, color='tab:green', alpha=0.5)\n",
    "ax.annotate(f\"{nselected_x}\", xy=(x, 0.25), xycoords=('data', 'axes fraction'), xytext=(0.25, 0.25), textcoords='axes fraction',\n",
    "            arrowprops=dict(arrowstyle=\"->\", connectionstyle=\"arc\", color=\"tab:gray\") \n",
    "            )\n",
    "ax.annotate(f\"{nselected_xy}\", xy=(x, y), xycoords='data', xytext=(0.75, 0.25), textcoords='axes fraction',\n",
    "            arrowprops=dict(arrowstyle=\"->\", connectionstyle=\"arc\", color=\"tab:gray\") \n",
    "            )"
   ]
  },
  {
   "cell_type": "markdown",
   "id": "49851ce3-aa43-435e-b13a-5806bb6f039e",
   "metadata": {},
   "source": [
    "PDF condicional de la altura dado el peso $h_{X|Y}(x|y)$"
   ]
  },
  {
   "cell_type": "code",
   "execution_count": null,
   "id": "7a3c12ef-d69e-44ca-a69c-d7ffa914629b",
   "metadata": {},
   "outputs": [],
   "source": [
    "conditional_proba_x = nselected_xy / nselected_y\n",
    "conditional_pdf_x = conditional_proba_x / delta_x\n",
    "print(f\"{conditional_pdf_x:.3} cm⁻¹\")"
   ]
  },
  {
   "cell_type": "code",
   "execution_count": null,
   "id": "882a6977-68b2-4a1d-802b-0500cb78836e",
   "metadata": {},
   "outputs": [],
   "source": [
    "fig, ax = plt.subplots()\n",
    "ax.set_xlabel(\"Height (cm)\")\n",
    "ax.set_ylabel(\"Weight (kg)\")\n",
    "ax.plot(df[\"Height\"], df[\"Weight\"], ls='None', marker='o', ms=1, alpha=0.01, label=\"Persona\")\n",
    "ax.axvspan(x, x + delta_x, color='tab:orange', alpha=0.5)\n",
    "ax.axhspan(y, y + delta_y, color='tab:green', alpha=0.5)\n",
    "ax.annotate(f\"{nselected_y}\", xy=(0.25, y), xycoords=('axes fraction', 'data'), xytext=(0.15, 0.15), textcoords='axes fraction',\n",
    "            arrowprops=dict(arrowstyle=\"->\", connectionstyle=\"arc\", color=\"tab:gray\") \n",
    "            )\n",
    "ax.annotate(f\"{nselected_xy}\", xy=(x, y), xycoords='data', xytext=(0.75, 0.25), textcoords='axes fraction',\n",
    "            arrowprops=dict(arrowstyle=\"->\", connectionstyle=\"arc\", color=\"tab:gray\") \n",
    "            )"
   ]
  }
 ],
 "metadata": {
  "kernelspec": {
   "display_name": "Python 3 (ipykernel)",
   "language": "python",
   "name": "python3"
  },
  "language_info": {
   "codemirror_mode": {
    "name": "ipython",
    "version": 3
   },
   "file_extension": ".py",
   "mimetype": "text/x-python",
   "name": "python",
   "nbconvert_exporter": "python",
   "pygments_lexer": "ipython3",
   "version": "3.10.12"
  }
 },
 "nbformat": 4,
 "nbformat_minor": 5
}
