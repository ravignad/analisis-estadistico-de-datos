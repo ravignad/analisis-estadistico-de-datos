{
 "cells": [
  {
   "cell_type": "markdown",
   "id": "bcf2d892-9494-487e-af0a-1e654890d94a",
   "metadata": {},
   "source": [
    "# Fórmula de propagación de errores"
   ]
  },
  {
   "cell_type": "markdown",
   "id": "cee98133-8a36-4806-ac24-a3d7902c5101",
   "metadata": {},
   "source": [
    "Consideramos una variable normal bivariada $X = (X_1, X_2) $ y una variable aleatoria univariada $Y$ obtenida a partir de $X$, $Y = X_1 \\, \\exp(X_2)$. Conocida la media y la matriz de covarianza de $X$ calculamos la media y varianza de $Y$ mediante la fórmula de propagación de errores. Comparamos los resultados con simulaciones."
   ]
  },
  {
   "cell_type": "markdown",
   "id": "45ee9617-e047-4203-9240-90d25c9c2205",
   "metadata": {},
   "source": [
    "Media de $X$"
   ]
  },
  {
   "cell_type": "code",
   "execution_count": null,
   "id": "f5f76cfe-de55-4b23-9290-ae9fe4984ed6",
   "metadata": {
    "scrolled": true
   },
   "outputs": [],
   "source": [
    "import numpy as np\n",
    "x1_mean = 1\n",
    "x2_mean = -1\n",
    "x_mean = np.array([x1_mean, x2_mean])\n",
    "x_mean"
   ]
  },
  {
   "cell_type": "markdown",
   "id": "88397ea6-5760-4caf-b23c-988458314bd6",
   "metadata": {},
   "source": [
    "Matriz de covarianza de $X$"
   ]
  },
  {
   "cell_type": "code",
   "execution_count": null,
   "id": "973e8592-b7b6-47dc-9619-3f8fa7e08853",
   "metadata": {},
   "outputs": [],
   "source": [
    "x1_sigma = 0.056"
   ]
  },
  {
   "cell_type": "markdown",
   "id": "70d52544-25e3-4ccf-8ed6-1c5787acb963",
   "metadata": {},
   "source": [
    "Probamos por separado los casos de errores chicos y grandes en $X_2$."
   ]
  },
  {
   "cell_type": "code",
   "execution_count": null,
   "id": "584ac422-c0a0-4080-8df2-0353b9793dc3",
   "metadata": {},
   "outputs": [],
   "source": [
    "# Seleccionar una de las dos opciones\n",
    "# Caso errores chicos en X₂\n",
    "x2_sigma = 0.048\n",
    "# Caso errores grandes en X₂\n",
    "#x2_sigma = 0.48"
   ]
  },
  {
   "cell_type": "code",
   "execution_count": null,
   "id": "8a5e4fe6-954f-4516-abb1-56dde0f4a532",
   "metadata": {},
   "outputs": [],
   "source": [
    "import danatools\n",
    "correlation =  -0.85\n",
    "covariance_x = danatools.covariance_matrix_2d(x1_sigma, x2_sigma, correlation)\n",
    "covariance_x"
   ]
  },
  {
   "cell_type": "markdown",
   "id": "7e1f081e-a606-4bdb-93b2-05007cd19c3d",
   "metadata": {},
   "source": [
    "## Varianza analítica de la variable Y"
   ]
  },
  {
   "cell_type": "code",
   "execution_count": null,
   "id": "d370c33e-816e-41fc-b8bb-fca487d9cf8d",
   "metadata": {},
   "outputs": [],
   "source": [
    "def function(x1, x2):\n",
    "    return x1 * np.exp(x2)"
   ]
  },
  {
   "cell_type": "markdown",
   "id": "07674d31-8821-4de7-af5d-fe8ee3c83563",
   "metadata": {},
   "source": [
    "Media de $Y$"
   ]
  },
  {
   "cell_type": "code",
   "execution_count": null,
   "id": "03ec9c17-474f-4d71-acca-433a5cdfcf9b",
   "metadata": {},
   "outputs": [],
   "source": [
    "y_mean_ana = function(x1_mean, x2_mean)\n",
    "y_mean_ana"
   ]
  },
  {
   "cell_type": "markdown",
   "id": "855dfc0e-3364-495c-aadb-33b65a9928f1",
   "metadata": {},
   "source": [
    "Varianza de $Y$"
   ]
  },
  {
   "cell_type": "code",
   "execution_count": null,
   "id": "b33df118-9d9c-42c4-b761-250eb8a554a4",
   "metadata": {},
   "outputs": [],
   "source": [
    "import math\n",
    "x1_gradient = math.exp(x2_mean)\n",
    "x1_gradient"
   ]
  },
  {
   "cell_type": "code",
   "execution_count": null,
   "id": "efcb0b1a-346b-4c26-ab60-083dee525f71",
   "metadata": {},
   "outputs": [],
   "source": [
    "x2_gradient = x1_mean * math.exp(x2_mean)\n",
    "x2_gradient"
   ]
  },
  {
   "cell_type": "code",
   "execution_count": null,
   "id": "f777fb48-d21b-4b7d-a384-0104652fc134",
   "metadata": {},
   "outputs": [],
   "source": [
    "y_variance_ana = x1_gradient**2 * covariance_x[0,0] + x2_gradient**2 * covariance_x[1,1] + 2 * x1_gradient * x2_gradient *  covariance_x[0,1]\n",
    "y_variance_ana"
   ]
  },
  {
   "cell_type": "code",
   "execution_count": null,
   "id": "f8bd3107-c009-4be9-86c0-637090aef1ac",
   "metadata": {},
   "outputs": [],
   "source": [
    "y_sigma_ana = math.sqrt(y_variance_ana)\n",
    "y_sigma_ana"
   ]
  },
  {
   "cell_type": "markdown",
   "id": "17203200-a2e5-4b3e-8326-c549b24caeaf",
   "metadata": {},
   "source": [
    "## Varianza con bootstrapping"
   ]
  },
  {
   "cell_type": "code",
   "execution_count": null,
   "id": "2a1dbfe4-4970-4842-b58f-ae85e782482a",
   "metadata": {},
   "outputs": [],
   "source": [
    "x_mean"
   ]
  },
  {
   "cell_type": "code",
   "execution_count": null,
   "id": "c181df4e-7d30-4ecd-9130-5f4439b243ca",
   "metadata": {},
   "outputs": [],
   "source": [
    "from scipy.stats import multivariate_normal\n",
    "population = 1000000\n",
    "rng = np.random.default_rng(seed=6870)\n",
    "x_data = multivariate_normal.rvs(x_mean, covariance_x, size=population, random_state=rng)\n",
    "x_data"
   ]
  },
  {
   "cell_type": "code",
   "execution_count": null,
   "id": "13cf0800-9afe-4be8-87f2-d707058fc830",
   "metadata": {},
   "outputs": [],
   "source": [
    "y_data = function(x_data[:,0], x_data[:,1])\n",
    "y_data"
   ]
  },
  {
   "cell_type": "code",
   "execution_count": null,
   "id": "53419673-df62-4079-9953-9b0ae75bd95b",
   "metadata": {},
   "outputs": [],
   "source": [
    "y_mean_sim = y_data.mean()\n",
    "y_mean_sim"
   ]
  },
  {
   "cell_type": "code",
   "execution_count": null,
   "id": "4c71ac61-cc56-41c2-b7d2-d1658b67faa6",
   "metadata": {},
   "outputs": [],
   "source": [
    "y_sigma_sim = y_data.std(ddof=1)\n",
    "y_sigma_sim"
   ]
  },
  {
   "cell_type": "markdown",
   "id": "f805d718-269d-4ec4-b401-26f1abf5c2d1",
   "metadata": {},
   "source": [
    "## Comparación fórmula analítica con simulaciones"
   ]
  },
  {
   "cell_type": "code",
   "execution_count": null,
   "id": "c14048ee-6db8-402a-bd7e-e4723c97c49d",
   "metadata": {
    "scrolled": true
   },
   "outputs": [],
   "source": [
    "delta_mean = (y_mean_ana / y_mean_sim - 1) \n",
    "print(f\"Relative difference of the mean: {delta_mean*100:.2f}%\")"
   ]
  },
  {
   "cell_type": "code",
   "execution_count": null,
   "id": "d776cec2-43ec-4cc2-aed5-bd60a4235b03",
   "metadata": {},
   "outputs": [],
   "source": [
    "delta_sigma = (y_sigma_ana / y_sigma_sim - 1) \n",
    "print(f\"Relative difference of the standard deviation: {delta_sigma*100:.2f}%\")"
   ]
  },
  {
   "cell_type": "markdown",
   "id": "6e856896-5d9a-4cca-88b5-b9ed7a822078",
   "metadata": {},
   "source": [
    "## Plot de la PDF conjunta de $X$"
   ]
  },
  {
   "cell_type": "code",
   "execution_count": null,
   "id": "8c8133fa-e93b-4cfe-8bde-7a5e0186c459",
   "metadata": {},
   "outputs": [],
   "source": [
    "import matplotlib.pyplot as plt\n",
    "from matplotlib import cm\n",
    "fig, ax = plt.subplots()\n",
    "ax.set_xlabel(\"$X_1$\")\n",
    "ax.set_ylabel(\"$X_2$\")\n",
    "\n",
    "height_limits = [x1_mean-3*x1_sigma, x1_mean+3*x1_sigma]\n",
    "weight_limits = [x2_mean-3*x2_sigma, x2_mean+3*x2_sigma]\n",
    "counts, xedges, yedges, im = ax.hist2d(x_data[:,0], x_data[:,1], range=[height_limits, weight_limits], bins=100, density=True, cmap=cm.viridis)\n",
    "clb = plt.colorbar(im)\n",
    "\n",
    "ax.plot(*danatools.get_ellipse(x_mean, covariance_x, nsigma=1), color='tab:red', ls='--')\n",
    "ax.plot(*danatools.get_ellipse(x_mean, covariance_x, nsigma=2), color='tab:red', ls='--')"
   ]
  },
  {
   "cell_type": "markdown",
   "id": "ea135e15-08ab-489f-8c9b-29a103cb55c3",
   "metadata": {},
   "source": [
    "## Plot de la PDF de $Y$"
   ]
  },
  {
   "cell_type": "code",
   "execution_count": null,
   "id": "5192863e-4e2b-4d4a-9867-d91b61d83594",
   "metadata": {},
   "outputs": [],
   "source": [
    "fig, ax = plt.subplots()\n",
    "ax.set_xlabel(\"$Y$\")\n",
    "ax.set_ylabel(\" Probability density\")\n",
    "\n",
    "limits = [y_mean_ana-3*y_sigma_ana, y_mean_ana+3*y_sigma_ana] \n",
    "ax.hist(y_data, range=limits, bins=100, density=True, label=\"Simulation\")\n",
    "\n",
    "from scipy.stats import norm\n",
    "x = np.linspace(*limits, 100)\n",
    "y = norm.pdf(x, loc=y_mean_ana, scale=y_sigma_ana)\n",
    "plt.plot(x, y, label=\"Analytical\")\n",
    "\n",
    "ax.legend()"
   ]
  },
  {
   "cell_type": "markdown",
   "id": "2ba58d8b-3f38-4e88-b2f5-8fa4164d669c",
   "metadata": {},
   "source": [
    "## Validez de la aproximación"
   ]
  },
  {
   "cell_type": "markdown",
   "id": "bd7d3b15-c5d0-4596-ba18-a221b0e372ad",
   "metadata": {},
   "source": [
    "Comparamos el desarrollo lineal con $f(X_1, X_2)$ en el intervalo $X_2 \\in \\mu_2 \\pm \\sigma_2$. No consideramos $X_1$ porque $f(X_1, X_2)$ ya es lineal en esta variable."
   ]
  },
  {
   "cell_type": "code",
   "execution_count": null,
   "id": "c93ee006-e98e-4c7f-aaed-1101aa84084d",
   "metadata": {},
   "outputs": [],
   "source": [
    "fig, ax = plt.subplots()\n",
    "ax.set_xlabel(\"$X_2$\")\n",
    "ax.set_ylabel(\"$Y$\")\n",
    "\n",
    "x2_min = -2\n",
    "x2_max = 0\n",
    "x2 = np.linspace(x2_min, x2_max)\n",
    "fx2 = function(x1_mean, x2)\n",
    "plt.plot(x2, fx2, label=\"$f(x_2)$\")\n",
    "\n",
    "fapprox = y_mean_ana + x2_gradient * (x2 - x2_mean)\n",
    "plt.plot(x2, fapprox, label=\"Approx\")\n",
    "\n",
    "ax.axvline(x2_mean, ls='--', label=\"$\\mu_2$\")\n",
    "ax.axvspan(x2_mean-x2_sigma, x2_mean+x2_sigma, alpha=0.25, label=\"1σ\")\n",
    "\n",
    "ax.legend()"
   ]
  },
  {
   "cell_type": "markdown",
   "id": "c36e7c1e-f8bc-4669-b689-b78a10c5bab6",
   "metadata": {},
   "source": [
    "La fórmula de propagación de errores es válida si la aproximación lineal de la función $Y = f(X)$ en el entorno alrededor de $X = \\mu_X$. En la práctica se puede considerar este entorno como algún intervalo de unos pocos σ ya que contiene la mayoría de la probabilidad de $X$. "
   ]
  }
 ],
 "metadata": {
  "kernelspec": {
   "display_name": "Python 3 (ipykernel)",
   "language": "python",
   "name": "python3"
  },
  "language_info": {
   "codemirror_mode": {
    "name": "ipython",
    "version": 3
   },
   "file_extension": ".py",
   "mimetype": "text/x-python",
   "name": "python",
   "nbconvert_exporter": "python",
   "pygments_lexer": "ipython3",
   "version": "3.10.12"
  }
 },
 "nbformat": 4,
 "nbformat_minor": 5
}
