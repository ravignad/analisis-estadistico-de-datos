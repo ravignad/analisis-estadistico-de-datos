{
 "cells": [
  {
   "cell_type": "markdown",
   "metadata": {
    "id": "3nD6QaV0QHZR"
   },
   "source": [
    "# Probabilidad de los bines de un histograma"
   ]
  },
  {
   "cell_type": "markdown",
   "metadata": {
    "id": "ihBjJOI8QHZU"
   },
   "source": [
    "Compara la probabilidad exacta de un bin con la aproximada: \\\n",
    "$p_i = \\int_{x_i}^{x_{i+1}} f(u) \\, du \\approx f(\\hat{x}_i) \\, \\Delta x$ "
   ]
  },
  {
   "cell_type": "code",
   "execution_count": null,
   "metadata": {
    "executionInfo": {
     "elapsed": 385,
     "status": "ok",
     "timestamp": 1693504274760,
     "user": {
      "displayName": "Diego Ravignani Guerrero",
      "userId": "10540030550289703153"
     },
     "user_tz": 180
    },
    "id": "ZbhMdRZIQHZW"
   },
   "outputs": [],
   "source": [
    "import numpy as np\n",
    "import matplotlib.pyplot as plt\n",
    "from scipy.stats import norm"
   ]
  },
  {
   "cell_type": "markdown",
   "metadata": {
    "id": "_h11XQPHQHZX"
   },
   "source": [
    "## Bines del histograma"
   ]
  },
  {
   "cell_type": "markdown",
   "metadata": {},
   "source": [
    "Rango del histograma"
   ]
  },
  {
   "cell_type": "code",
   "execution_count": null,
   "metadata": {
    "executionInfo": {
     "elapsed": 25,
     "status": "ok",
     "timestamp": 1693504274762,
     "user": {
      "displayName": "Diego Ravignani Guerrero",
      "userId": "10540030550289703153"
     },
     "user_tz": 180
    },
    "id": "TUqEcKQmQHZX"
   },
   "outputs": [],
   "source": [
    "xmin, xmax = -5, 5"
   ]
  },
  {
   "cell_type": "markdown",
   "metadata": {},
   "source": [
    "Número de bines"
   ]
  },
  {
   "cell_type": "code",
   "execution_count": null,
   "metadata": {},
   "outputs": [],
   "source": [
    "nbins = 5"
   ]
  },
  {
   "cell_type": "markdown",
   "metadata": {},
   "source": [
    "Borde de los bines"
   ]
  },
  {
   "cell_type": "code",
   "execution_count": null,
   "metadata": {
    "colab": {
     "base_uri": "https://localhost:8080/"
    },
    "executionInfo": {
     "elapsed": 24,
     "status": "ok",
     "timestamp": 1693504274763,
     "user": {
      "displayName": "Diego Ravignani Guerrero",
      "userId": "10540030550289703153"
     },
     "user_tz": 180
    },
    "id": "LEvmROc4QHZY",
    "outputId": "9115102c-39a3-45d3-aba9-c3e299629d49"
   },
   "outputs": [],
   "source": [
    "bin_edges = np.linspace(xmin, xmax, nbins+1)\n",
    "bin_edges"
   ]
  },
  {
   "cell_type": "markdown",
   "metadata": {},
   "source": [
    "Centro de los bines"
   ]
  },
  {
   "cell_type": "code",
   "execution_count": null,
   "metadata": {
    "colab": {
     "base_uri": "https://localhost:8080/"
    },
    "executionInfo": {
     "elapsed": 22,
     "status": "ok",
     "timestamp": 1693504274763,
     "user": {
      "displayName": "Diego Ravignani Guerrero",
      "userId": "10540030550289703153"
     },
     "user_tz": 180
    },
    "id": "QRhwp1-rQHZZ",
    "outputId": "e4426fd6-beef-4eab-febc-e11d23e6f62b"
   },
   "outputs": [],
   "source": [
    "xbin = ( bin_edges[:-1] + bin_edges[1:] ) / 2\n",
    "xbin"
   ]
  },
  {
   "cell_type": "markdown",
   "metadata": {},
   "source": [
    "Anchos de los bines"
   ]
  },
  {
   "cell_type": "code",
   "execution_count": null,
   "metadata": {
    "colab": {
     "base_uri": "https://localhost:8080/"
    },
    "executionInfo": {
     "elapsed": 19,
     "status": "ok",
     "timestamp": 1693504274764,
     "user": {
      "displayName": "Diego Ravignani Guerrero",
      "userId": "10540030550289703153"
     },
     "user_tz": 180
    },
    "id": "J7XHAO0cQHZa",
    "outputId": "c4707ddf-8dec-4449-bff9-e7180cbdd90c",
    "scrolled": true
   },
   "outputs": [],
   "source": [
    "bin_width = bin_edges[1:] - bin_edges[:-1]\n",
    "bin_width"
   ]
  },
  {
   "cell_type": "markdown",
   "metadata": {},
   "source": [
    "## Función de densidad de probabilidad (PDF)"
   ]
  },
  {
   "cell_type": "code",
   "execution_count": null,
   "metadata": {
    "colab": {
     "base_uri": "https://localhost:8080/",
     "height": 556
    },
    "executionInfo": {
     "elapsed": 1156,
     "status": "ok",
     "timestamp": 1693504275908,
     "user": {
      "displayName": "Diego Ravignani Guerrero",
      "userId": "10540030550289703153"
     },
     "user_tz": 180
    },
    "id": "_z3VJvvMQHZb",
    "outputId": "9152f486-ef15-4efa-cc23-f717163d574a",
    "scrolled": true
   },
   "outputs": [],
   "source": [
    "fig1, ax1 = plt.subplots()\n",
    "ax1.set_xlabel(\"X\")\n",
    "ax1.set_ylabel(\"f(X)\")\n",
    "\n",
    "# Limits of x-axis\n",
    "xleft = xmin - 0.5*bin_width[0]\n",
    "xright = xmax + 0.5*bin_width[-1]\n",
    "ax1.set_xlim(xleft, xright)\n",
    "\n",
    "# PDF N(0,1)\n",
    "x = np.linspace(xmin, xmax, 100)\n",
    "ax1.plot(x, norm.pdf(x), label='N(0,1)')\n",
    "\n",
    "# Bin limits\n",
    "ymax = norm.pdf(0)\n",
    "ax1.vlines(bin_edges, 0, ymax, color='gray', ls='--',)"
   ]
  },
  {
   "cell_type": "markdown",
   "metadata": {
    "id": "4SGSsgazQHZa"
   },
   "source": [
    "## Probabilidad de los bines"
   ]
  },
  {
   "cell_type": "markdown",
   "metadata": {},
   "source": [
    "Probabilidad exacta"
   ]
  },
  {
   "cell_type": "code",
   "execution_count": null,
   "metadata": {},
   "outputs": [],
   "source": [
    "cum_proba = norm.cdf(bin_edges)\n",
    "pbin1 = cum_proba[1:] - cum_proba[:-1]\n",
    "pbin1"
   ]
  },
  {
   "cell_type": "markdown",
   "metadata": {},
   "source": [
    "Probabilidad aproximada"
   ]
  },
  {
   "cell_type": "code",
   "execution_count": null,
   "metadata": {},
   "outputs": [],
   "source": [
    "pbin2 = norm.pdf(xbin)*bin_width\n",
    "pbin2"
   ]
  },
  {
   "cell_type": "code",
   "execution_count": null,
   "metadata": {},
   "outputs": [],
   "source": [
    "fig2, ax2 = plt.subplots()\n",
    "ax2.set_xlabel(\"x\")\n",
    "ax2.set_ylabel(\"Probabilidad del bin\")\n",
    "ax2.set_xlim(xleft, xright)\n",
    "ax2.plot(xbin, pbin1, 'o', drawstyle='steps-mid', label=\"Exacta\")\n",
    "ax2.plot(xbin, pbin2, 's', drawstyle='steps-mid', label=\"Aproximada\")\n",
    "ax2.legend()"
   ]
  }
 ],
 "metadata": {
  "colab": {
   "provenance": []
  },
  "kernelspec": {
   "display_name": "Python 3 (ipykernel)",
   "language": "python",
   "name": "python3"
  },
  "language_info": {
   "codemirror_mode": {
    "name": "ipython",
    "version": 3
   },
   "file_extension": ".py",
   "mimetype": "text/x-python",
   "name": "python",
   "nbconvert_exporter": "python",
   "pygments_lexer": "ipython3",
   "version": "3.10.12"
  }
 },
 "nbformat": 4,
 "nbformat_minor": 4
}
