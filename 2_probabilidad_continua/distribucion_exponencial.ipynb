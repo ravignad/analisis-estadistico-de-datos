{
 "cells": [
  {
   "cell_type": "markdown",
   "id": "7e9b2710-016c-4961-89f2-23b23911d478",
   "metadata": {},
   "source": [
    "# Decaimiento radioactivo"
   ]
  },
  {
   "cell_type": "markdown",
   "id": "6d8b5d1f-4a55-47f0-bb1c-2b2422f35095",
   "metadata": {},
   "source": [
    "Muestra que un proceso sin memoria como un decaimiento de un radioisótopo origina una distribución exponencial.\n",
    "La variable aleatoria es el tiempo de vida de un radioisótopo."
   ]
  },
  {
   "cell_type": "code",
   "execution_count": null,
   "id": "dc891601-a79b-4e29-a8dc-a597b6c541c5",
   "metadata": {},
   "outputs": [],
   "source": [
    "import numpy as np\n",
    "rng = np.random.default_rng(seed=6870)"
   ]
  },
  {
   "cell_type": "markdown",
   "id": "2decf2fd-6b66-4fb4-9e75-9c3166da1545",
   "metadata": {},
   "source": [
    "Comenzamos con un número inicial de partículas: "
   ]
  },
  {
   "cell_type": "code",
   "execution_count": null,
   "id": "486dd5b4-de32-41c2-846d-2cece36fdcc2",
   "metadata": {},
   "outputs": [],
   "source": [
    "nparticles = 100000"
   ]
  },
  {
   "cell_type": "markdown",
   "id": "94f607c2-e07f-470d-91f8-8eb819770df9",
   "metadata": {},
   "source": [
    "Tiempo de vida medio del radioisótopo:"
   ]
  },
  {
   "cell_type": "code",
   "execution_count": null,
   "id": "e2370aab-9fc3-4b2b-8791-fe20f7350bd0",
   "metadata": {},
   "outputs": [],
   "source": [
    "tau = 1"
   ]
  },
  {
   "cell_type": "markdown",
   "id": "77dce48e-aab6-43d7-8f98-5b4f8d3229ee",
   "metadata": {},
   "source": [
    "Intervalo de tiempo para los pasos discretos de la simulación "
   ]
  },
  {
   "cell_type": "code",
   "execution_count": null,
   "id": "8af0294e-0013-4e67-a67c-2220c32a8056",
   "metadata": {},
   "outputs": [],
   "source": [
    "delta_time = tau / 100"
   ]
  },
  {
   "cell_type": "markdown",
   "id": "687b1b27-a24a-4fae-ad5a-c1ab3fba9e28",
   "metadata": {},
   "source": [
    "Probabilidad de decaimiento del radioisótopo en un intervalo temporal:"
   ]
  },
  {
   "cell_type": "code",
   "execution_count": null,
   "id": "6874d4d4-1eba-4d24-b5db-f6020b37988a",
   "metadata": {},
   "outputs": [],
   "source": [
    "decay_probability_step = delta_time / tau\n",
    "decay_probability_step"
   ]
  },
  {
   "cell_type": "markdown",
   "id": "986abc42-88a5-4ffa-9f2f-92a1213c9cb1",
   "metadata": {},
   "source": [
    "El intervalo debe ser mucho menor que el tiempo de vida media de manera que la probabilidad de decaimiento en un intervalo sea pequeña. De esta forma el proceso discreto aproxima bien al caso continuo."
   ]
  },
  {
   "cell_type": "markdown",
   "id": "e595efb2-79f1-4945-9cb8-bff328a8e1d1",
   "metadata": {},
   "source": [
    "## Simulación del proceso radioactivo"
   ]
  },
  {
   "cell_type": "markdown",
   "id": "489a2f55-033b-47e2-9113-61f70d90b631",
   "metadata": {},
   "source": [
    "La simulación itera sobre pasos temporales. Empieza por el número de partículas iniciales. En cada paso calcula el número de partículas que decaen. Por otro lado lleva la cuenta de las partículas sobrevivientes. Es interrumpe la simulación cuando quedan pocas partículas sobrevivientes con respecto a las iniciales.   "
   ]
  },
  {
   "cell_type": "code",
   "execution_count": null,
   "id": "38f888af-898d-46f9-a8bc-72b60174f160",
   "metadata": {},
   "outputs": [],
   "source": [
    "from scipy.stats import uniform\n",
    "# Initialize the number of survivors with the initial number of particles \n",
    "nsurvivors = nparticles\n",
    "# List of decaying particles in each step\n",
    "ndecays_list = []\n",
    "# Number of survivors to stop the simulation\n",
    "nsurvivors_stop = nparticles / 1000\n",
    "while True:\n",
    "    # Generate a uniform variable between 0 and 1 for all survivors of the previous step    \n",
    "    decay_data = uniform.rvs(size = nsurvivors, random_state=rng)\n",
    "    # A particle decays if its decay data is less than the decay probability of a step \n",
    "    decay_particles = decay_data < decay_probability_step\n",
    "    # Count the number of decays in this step\n",
    "    ndecays_step = decay_particles.sum()\n",
    "    # Add the number of decays in this step to the list of decays\n",
    "    ndecays_list.append(ndecays_step)\n",
    "    # Calculate the number of survivors after the current step\n",
    "    nsurvivors -= ndecays_step\n",
    "    # Break if there are fewer survivors than the threshold\n",
    "    if nsurvivors < nsurvivors_stop:\n",
    "        break"
   ]
  },
  {
   "cell_type": "markdown",
   "id": "7cb9298f-0ed5-44d9-9c71-f43c67043068",
   "metadata": {},
   "source": [
    "Histograma de densidad del tiempo de vida calculado a partir de la simulación Monte Carlo "
   ]
  },
  {
   "cell_type": "code",
   "execution_count": null,
   "id": "8538e79c-cb14-4eb7-b3db-f4614a0c4c25",
   "metadata": {},
   "outputs": [],
   "source": [
    "# Convert list to numpy.array to calculate stuff afterward \n",
    "ndecays_array = np.array(ndecays_list)\n",
    "scale_factor = nparticles * delta_time\n",
    "density = ndecays_array / scale_factor"
   ]
  },
  {
   "cell_type": "code",
   "execution_count": null,
   "id": "c3eb695a-7c7d-4ca6-b4a3-3ee4e466cbf7",
   "metadata": {},
   "outputs": [],
   "source": [
    "ndecays_array"
   ]
  },
  {
   "cell_type": "code",
   "execution_count": null,
   "id": "a9aae6b7-e597-4013-ac52-a9d9de627d6b",
   "metadata": {},
   "outputs": [],
   "source": [
    "scale_factor"
   ]
  },
  {
   "cell_type": "code",
   "execution_count": null,
   "id": "d1f1910f-9d61-40e2-85b7-92022ff673fb",
   "metadata": {},
   "outputs": [],
   "source": [
    "density"
   ]
  },
  {
   "cell_type": "markdown",
   "id": "42088e5c-76b4-4cd5-a93b-dd830cc00280",
   "metadata": {},
   "source": [
    "Calculamos los centros de los bines del histograma de densidad a partir de los pasos de la simulación "
   ]
  },
  {
   "cell_type": "code",
   "execution_count": null,
   "id": "bfaef960-749e-4566-b25e-396fc1486c5d",
   "metadata": {},
   "outputs": [],
   "source": [
    "nsteps = density.size\n",
    "time = (np.arange(nsteps) +  0.5) * delta_time"
   ]
  },
  {
   "cell_type": "markdown",
   "id": "0e98be7d-56db-4971-8c65-ee4b431cd047",
   "metadata": {},
   "source": [
    "PDF exponencial con parámetro de escala igual al tiempo de decaimiento medio usado en la simulación"
   ]
  },
  {
   "cell_type": "code",
   "execution_count": null,
   "id": "49a8b418-d9b1-4415-b5d3-65de2ff7d86d",
   "metadata": {},
   "outputs": [],
   "source": [
    "from scipy.stats import expon\n",
    "x_pdf = np.linspace(start=0, stop=time.max(), num=100)\n",
    "y_pdf = expon.pdf(x_pdf, scale=tau) "
   ]
  },
  {
   "cell_type": "markdown",
   "id": "36c37c5f-377b-4d45-a62d-6229845f37be",
   "metadata": {},
   "source": [
    "Plot de los datos simulados y la PDF exponencial"
   ]
  },
  {
   "cell_type": "code",
   "execution_count": null,
   "id": "4ec6f5f3-9822-4fd1-a5da-031d6f7b481a",
   "metadata": {},
   "outputs": [],
   "source": [
    "import matplotlib.pyplot as plt\n",
    "fig, ax = plt.subplots()\n",
    "ax.set_xlabel(\"Time\")\n",
    "ax.set_ylabel(\"Probability density\")\n",
    "ax.plot(time, density, ls='None', marker='o', label=\"Monte Carlo\")\n",
    "ax.plot(x_pdf, y_pdf, ls='--', lw=2, label=\"PDF\")\n",
    "ax.set_ylim(bottom=0)\n",
    "ax.legend()"
   ]
  }
 ],
 "metadata": {
  "kernelspec": {
   "display_name": "Python 3 (ipykernel)",
   "language": "python",
   "name": "python3"
  },
  "language_info": {
   "codemirror_mode": {
    "name": "ipython",
    "version": 3
   },
   "file_extension": ".py",
   "mimetype": "text/x-python",
   "name": "python",
   "nbconvert_exporter": "python",
   "pygments_lexer": "ipython3",
   "version": "3.10.12"
  }
 },
 "nbformat": 4,
 "nbformat_minor": 5
}
