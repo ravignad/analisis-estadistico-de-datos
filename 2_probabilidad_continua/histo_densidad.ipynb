{
 "cells": [
  {
   "cell_type": "markdown",
   "metadata": {
    "id": "FzEcosTiVOco"
   },
   "source": [
    "# Histogramas de frecuencias y de densidad"
   ]
  },
  {
   "cell_type": "markdown",
   "metadata": {},
   "source": [
    "Muestra dos opciones distintas para plotear un histograma y una PDF juntos "
   ]
  },
  {
   "cell_type": "code",
   "execution_count": null,
   "metadata": {
    "executionInfo": {
     "elapsed": 3,
     "status": "ok",
     "timestamp": 1693507018894,
     "user": {
      "displayName": "Diego Ravignani Guerrero",
      "userId": "10540030550289703153"
     },
     "user_tz": 180
    },
    "id": "W2UlvWJnVOcs"
   },
   "outputs": [],
   "source": [
    "import numpy as np\n",
    "import matplotlib.pyplot as plt\n",
    "from scipy.stats import norm"
   ]
  },
  {
   "cell_type": "markdown",
   "metadata": {
    "id": "3lgL3LnLVOcs"
   },
   "source": [
    "## Simulación de los datos"
   ]
  },
  {
   "cell_type": "code",
   "execution_count": null,
   "metadata": {
    "executionInfo": {
     "elapsed": 483,
     "status": "ok",
     "timestamp": 1693507042659,
     "user": {
      "displayName": "Diego Ravignani Guerrero",
      "userId": "10540030550289703153"
     },
     "user_tz": 180
    },
    "id": "gX-WT2IuVOct"
   },
   "outputs": [],
   "source": [
    "rng = np.random.default_rng(seed=6870)\n",
    "nevents = 1000\n",
    "data = norm.rvs(size=nevents, random_state=rng)"
   ]
  },
  {
   "cell_type": "code",
   "execution_count": null,
   "metadata": {
    "colab": {
     "base_uri": "https://localhost:8080/"
    },
    "executionInfo": {
     "elapsed": 332,
     "status": "ok",
     "timestamp": 1693507059273,
     "user": {
      "displayName": "Diego Ravignani Guerrero",
      "userId": "10540030550289703153"
     },
     "user_tz": 180
    },
    "id": "LPJpvIu74t6K",
    "outputId": "70f2eee7-7839-4e21-a7af-094a6646a6f1"
   },
   "outputs": [],
   "source": [
    "data"
   ]
  },
  {
   "cell_type": "markdown",
   "metadata": {
    "id": "IYE_seLGVOcu"
   },
   "source": [
    "## Histograma de frecuencias"
   ]
  },
  {
   "cell_type": "markdown",
   "metadata": {},
   "source": [
    "Calculamos el histograma de frecuencias con np.histogram. En otra demo usamos danatools.histogram que es similar pero provee los centros de los bines en lugar de los límites. "
   ]
  },
  {
   "cell_type": "code",
   "execution_count": null,
   "metadata": {
    "executionInfo": {
     "elapsed": 300,
     "status": "ok",
     "timestamp": 1693507074566,
     "user": {
      "displayName": "Diego Ravignani Guerrero",
      "userId": "10540030550289703153"
     },
     "user_tz": 180
    },
    "id": "Qor3erO8VOcu"
   },
   "outputs": [],
   "source": [
    "xmin, xmax = -5, 5\n",
    "counts, bin_edges = np.histogram(data, bins=20, range=[xmin, xmax])"
   ]
  },
  {
   "cell_type": "code",
   "execution_count": null,
   "metadata": {
    "colab": {
     "base_uri": "https://localhost:8080/"
    },
    "executionInfo": {
     "elapsed": 264,
     "status": "ok",
     "timestamp": 1693507098419,
     "user": {
      "displayName": "Diego Ravignani Guerrero",
      "userId": "10540030550289703153"
     },
     "user_tz": 180
    },
    "id": "64UwC5ITVOcv",
    "outputId": "7bdb40a8-e9ce-43c7-97e6-d3fa01c47fc2"
   },
   "outputs": [],
   "source": [
    "bin_edges"
   ]
  },
  {
   "cell_type": "code",
   "execution_count": null,
   "metadata": {
    "colab": {
     "base_uri": "https://localhost:8080/"
    },
    "executionInfo": {
     "elapsed": 297,
     "status": "ok",
     "timestamp": 1693507111899,
     "user": {
      "displayName": "Diego Ravignani Guerrero",
      "userId": "10540030550289703153"
     },
     "user_tz": 180
    },
    "id": "97iPL9yZVOcv",
    "outputId": "63d0b21c-ceb2-43b0-e096-fbf377aacd87"
   },
   "outputs": [],
   "source": [
    "xbin = ( bin_edges[:-1] + bin_edges[1:] ) / 2\n",
    "xbin"
   ]
  },
  {
   "cell_type": "markdown",
   "metadata": {},
   "source": [
    "Todos los bines tienen el  mismo ancho"
   ]
  },
  {
   "cell_type": "code",
   "execution_count": null,
   "metadata": {},
   "outputs": [],
   "source": [
    "bin_width = bin_edges[1] - bin_edges[0]\n",
    "bin_width"
   ]
  },
  {
   "cell_type": "markdown",
   "metadata": {},
   "source": [
    "Un histograma de frecuencia sigue la PDF solo si todos los bines tienen el mismo ancho"
   ]
  },
  {
   "cell_type": "code",
   "execution_count": null,
   "metadata": {
    "colab": {
     "base_uri": "https://localhost:8080/"
    },
    "executionInfo": {
     "elapsed": 261,
     "status": "ok",
     "timestamp": 1693507084522,
     "user": {
      "displayName": "Diego Ravignani Guerrero",
      "userId": "10540030550289703153"
     },
     "user_tz": 180
    },
    "id": "P-cMRjWlVOcv",
    "outputId": "0cf700ab-6153-435b-b48c-aa1046053c74"
   },
   "outputs": [],
   "source": [
    "counts"
   ]
  },
  {
   "cell_type": "markdown",
   "metadata": {
    "id": "llo6U5CXVOcv"
   },
   "source": [
    "Factor de escala: $ n \\, \\Delta x $"
   ]
  },
  {
   "cell_type": "code",
   "execution_count": null,
   "metadata": {
    "colab": {
     "base_uri": "https://localhost:8080/"
    },
    "executionInfo": {
     "elapsed": 288,
     "status": "ok",
     "timestamp": 1693507127974,
     "user": {
      "displayName": "Diego Ravignani Guerrero",
      "userId": "10540030550289703153"
     },
     "user_tz": 180
    },
    "id": "rGyftKXvVOcv",
    "outputId": "6d87ccb2-1519-41a6-b51f-3d7d6d37bb54",
    "scrolled": true
   },
   "outputs": [],
   "source": [
    "scale_factor = nevents * bin_width\n",
    "scale_factor"
   ]
  },
  {
   "cell_type": "code",
   "execution_count": null,
   "metadata": {
    "colab": {
     "base_uri": "https://localhost:8080/",
     "height": 449
    },
    "executionInfo": {
     "elapsed": 913,
     "status": "ok",
     "timestamp": 1693507146047,
     "user": {
      "displayName": "Diego Ravignani Guerrero",
      "userId": "10540030550289703153"
     },
     "user_tz": 180
    },
    "id": "tDTLks_LVOcv",
    "outputId": "0a5edcf6-8c5b-4352-e36b-d98f80f32ad8",
    "scrolled": true
   },
   "outputs": [],
   "source": [
    "fig1, ax1 = plt.subplots()\n",
    "ax1.set_xlabel(\"X\")\n",
    "ax1.set_ylabel(\"Frequency\")\n",
    "\n",
    "ax1.plot(xbin, counts, ls='None', marker='o', label=\"Data\")\n",
    "x = np.linspace(xmin, xmax, 256)\n",
    "ax1.plot(x, norm.pdf(x)*scale_factor, label=\"PDF\")\n",
    "ax1.legend()"
   ]
  },
  {
   "cell_type": "markdown",
   "metadata": {
    "id": "ashlkvZcVOcv"
   },
   "source": [
    "## Histograma de densidad\n"
   ]
  },
  {
   "cell_type": "code",
   "execution_count": null,
   "metadata": {
    "colab": {
     "base_uri": "https://localhost:8080/",
     "height": 449
    },
    "executionInfo": {
     "elapsed": 900,
     "status": "ok",
     "timestamp": 1693419240669,
     "user": {
      "displayName": "Diego Ravignani Guerrero",
      "userId": "10540030550289703153"
     },
     "user_tz": 180
    },
    "id": "8fiuYikfVOcw",
    "outputId": "f61d0573-f5d2-4d62-e8d1-9316c3fbbd63"
   },
   "outputs": [],
   "source": [
    "fig2, ax2 = plt.subplots()\n",
    "ax2.set_xlabel(\"X\")\n",
    "ax2.set_ylabel(\"Probability density\")\n",
    "\n",
    "density_histo,_ = np.histogram(data, bins=20, range=[xmin, xmax], density=True)\n",
    "ax2.plot(xbin, density_histo, ls='None', marker='o', label=\"Data\")\n",
    "\n",
    "ax2.plot(x, norm.pdf(x), label=\"PDF\")\n",
    "ax2.legend()"
   ]
  }
 ],
 "metadata": {
  "colab": {
   "provenance": []
  },
  "kernelspec": {
   "display_name": "Python 3 (ipykernel)",
   "language": "python",
   "name": "python3"
  },
  "language_info": {
   "codemirror_mode": {
    "name": "ipython",
    "version": 3
   },
   "file_extension": ".py",
   "mimetype": "text/x-python",
   "name": "python",
   "nbconvert_exporter": "python",
   "pygments_lexer": "ipython3",
   "version": "3.10.12"
  }
 },
 "nbformat": 4,
 "nbformat_minor": 4
}
