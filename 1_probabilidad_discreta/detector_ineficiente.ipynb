{
 "cells": [
  {
   "cell_type": "markdown",
   "id": "587ace9c-0666-4112-953e-85cc0f33aa9e",
   "metadata": {},
   "source": [
    "# Detector ineficiente"
   ]
  },
  {
   "cell_type": "markdown",
   "id": "48dc0869-ee81-4e55-b092-487f51cf2a30",
   "metadata": {},
   "source": [
    "Este demo simula el conteo de partículas con un detector ineficiente y compara el resultado con una distribución de Poisson"
   ]
  },
  {
   "cell_type": "markdown",
   "id": "a064b6ed-d2b4-46c4-813b-b3a6ce1a2538",
   "metadata": {},
   "source": [
    "Número medio de partículas incidentes en el detector"
   ]
  },
  {
   "cell_type": "code",
   "execution_count": null,
   "id": "f8dbcc59-c75c-45c4-886a-55c05619edb1",
   "metadata": {},
   "outputs": [],
   "source": [
    "mean_particles = 10.6"
   ]
  },
  {
   "cell_type": "markdown",
   "id": "8c9b89d5-7a78-49ac-9a73-4521122802c3",
   "metadata": {},
   "source": [
    "Eficiencia del detector"
   ]
  },
  {
   "cell_type": "code",
   "execution_count": null,
   "id": "4ee4c2b8-096f-4c14-84d6-ca32de2884a5",
   "metadata": {},
   "outputs": [],
   "source": [
    "efficiency = 0.9"
   ]
  },
  {
   "cell_type": "markdown",
   "id": "968ff398-ae66-4526-a814-5d6fe3746d36",
   "metadata": {},
   "source": [
    "Número de simulaciones Monte Carlo"
   ]
  },
  {
   "cell_type": "code",
   "execution_count": null,
   "id": "fc0669dd-e510-49ff-8b1a-a826cc74e1d2",
   "metadata": {},
   "outputs": [],
   "source": [
    "nsimulations = 10000"
   ]
  },
  {
   "cell_type": "code",
   "execution_count": null,
   "id": "02570440-ac4c-4f47-b395-199cfe82039d",
   "metadata": {},
   "outputs": [],
   "source": [
    "import numpy as np\n",
    "rng = np.random.default_rng(seed=6870)"
   ]
  },
  {
   "cell_type": "markdown",
   "id": "b48426de-bf90-46bc-8d5c-3332aef9639f",
   "metadata": {},
   "source": [
    "Simulamos el número de partículas que arriban al detector:"
   ]
  },
  {
   "cell_type": "code",
   "execution_count": null,
   "id": "661962e1-7b31-40cf-9a22-217f856f5ba4",
   "metadata": {},
   "outputs": [],
   "source": [
    "from scipy.stats import poisson\n",
    "impinging_particles = poisson.rvs(mu=mean_particles, size=nsimulations, random_state=rng)\n",
    "impinging_particles"
   ]
  },
  {
   "cell_type": "markdown",
   "id": "2061f428-ea9d-455a-8856-a842aa754ca4",
   "metadata": {},
   "source": [
    "Cada elemento del arreglo representa el número de partículas que llegaron al detector en una de las simulaciones"
   ]
  },
  {
   "cell_type": "markdown",
   "id": "c64181a3-d9aa-4910-8c8f-717c7bb12da1",
   "metadata": {},
   "source": [
    "Simulamos el número de partículas contadas considerando la eficiencia del detector:"
   ]
  },
  {
   "cell_type": "code",
   "execution_count": null,
   "id": "62dd6009-e3ff-4364-833a-baccc3528505",
   "metadata": {},
   "outputs": [],
   "source": [
    "from scipy.stats import binom\n",
    "counted_particles = binom.rvs(n=impinging_particles, p=efficiency, random_state=rng)\n",
    "counted_particles"
   ]
  },
  {
   "cell_type": "markdown",
   "id": "5fa89320-95a5-44b7-977c-efee900a5b4e",
   "metadata": {},
   "source": [
    "Este proceso corresponde a N pruebas de Bernoulli con N el número de partículas que llegaron al detector. Cada prueba de Bernoulli tiene una probabilidad de éxito dada por la eficiencia de detección. Simulamos el proceso con una distribución binomial."
   ]
  },
  {
   "cell_type": "markdown",
   "id": "d893f163-a816-4b66-8aa4-2b4da0105b99",
   "metadata": {},
   "source": [
    "Calculamos el número de simulaciones que tiene  0, 1, 2,... partículas detectadas:"
   ]
  },
  {
   "cell_type": "code",
   "execution_count": null,
   "id": "0da2cf06-6aca-425f-bd7b-ae4eb080ba34",
   "metadata": {},
   "outputs": [],
   "source": [
    "frequency = np.bincount(counted_particles) \n",
    "frequency"
   ]
  },
  {
   "cell_type": "code",
   "execution_count": null,
   "id": "91cc10a3-e55f-4a13-bb21-5feda75c5fe4",
   "metadata": {},
   "outputs": [],
   "source": [
    "import pandas as pd\n",
    "pd.DataFrame({'Frequency': frequency})"
   ]
  },
  {
   "cell_type": "markdown",
   "id": "1fbd8489-7c58-4446-9083-d89971b696b7",
   "metadata": {},
   "source": [
    "Calculamos la frecuencia relativa:"
   ]
  },
  {
   "cell_type": "code",
   "execution_count": null,
   "id": "bca57e93-0ffc-4d70-b14d-9f6e9b8d88d4",
   "metadata": {},
   "outputs": [],
   "source": [
    "relative_frequency = frequency / nsimulations\n",
    "relative_frequency"
   ]
  },
  {
   "cell_type": "markdown",
   "id": "12baf768-d4cf-4219-86cd-33700495a0b0",
   "metadata": {},
   "source": [
    "Calculamos la función de masa de probabilidad (PMF) del número de partículas observadas:"
   ]
  },
  {
   "cell_type": "code",
   "execution_count": null,
   "id": "895a36bf-9e4a-4263-96ae-d75002d3c7a4",
   "metadata": {},
   "outputs": [],
   "source": [
    "# Array with PMF values with the same size as the frequency data \n",
    "k_max = relative_frequency.size\n",
    "k = np.arange(k_max)"
   ]
  },
  {
   "cell_type": "markdown",
   "id": "e9507211-ea2f-42d6-822f-cc1e03921c67",
   "metadata": {},
   "source": [
    "Número medio de partículas detectadas"
   ]
  },
  {
   "cell_type": "code",
   "execution_count": null,
   "id": "a6cc6547-af0c-4356-b8dd-0e3e89393e1f",
   "metadata": {},
   "outputs": [],
   "source": [
    "mean_detected = mean_particles * efficiency\n",
    "mean_detected"
   ]
  },
  {
   "cell_type": "markdown",
   "id": "a7ee5723-9d5a-4020-a3b8-5a2cd6b835a6",
   "metadata": {},
   "source": [
    "Usamos un distribución de Poisson con parámetro μ igual a la media de partículas incidentes por la eficiencia del detector "
   ]
  },
  {
   "cell_type": "code",
   "execution_count": null,
   "id": "4a2eb797-f7cc-4eae-9756-bc286f22ce53",
   "metadata": {},
   "outputs": [],
   "source": [
    "pmf = poisson.pmf(k, mu=mean_detected)"
   ]
  },
  {
   "cell_type": "markdown",
   "id": "112b539c-350a-4471-baba-c4b1505c881f",
   "metadata": {},
   "source": [
    "Ploteo los datos generados con las simulaciones Monte Carlo y la PMF de Poisson"
   ]
  },
  {
   "cell_type": "code",
   "execution_count": null,
   "id": "59bf4b8b-d391-403e-ad53-026ee9492c45",
   "metadata": {},
   "outputs": [],
   "source": [
    "import matplotlib.pyplot as plt\n",
    "fig, ax = plt.subplots()\n",
    "ax.set_xlabel(\"Counted particles\")\n",
    "ax.set_ylabel('Probability')\n",
    "ax.plot(k, relative_frequency, ls='None', marker='o', label=\"Monte Carlo\")\n",
    "ax.plot(k, pmf, ls='', marker='o', label='PMF')\n",
    "ax.legend()"
   ]
  },
  {
   "cell_type": "markdown",
   "id": "9ba7d1e2-3550-478b-ab3b-e77a9cd7b07e",
   "metadata": {},
   "source": [
    "Hay un buen acuerdo entre los datos y la PMF! "
   ]
  },
  {
   "cell_type": "markdown",
   "id": "c5187073-6993-4436-9c65-13331e9dd140",
   "metadata": {},
   "source": [
    "Este ejemplo muestra que la convolución de variables de Poisson y binomial es una nueva variable que sigue una distribución de Poisson. "
   ]
  }
 ],
 "metadata": {
  "kernelspec": {
   "display_name": "Python 3 (ipykernel)",
   "language": "python",
   "name": "python3"
  },
  "language_info": {
   "codemirror_mode": {
    "name": "ipython",
    "version": 3
   },
   "file_extension": ".py",
   "mimetype": "text/x-python",
   "name": "python",
   "nbconvert_exporter": "python",
   "pygments_lexer": "ipython3",
   "version": "3.10.12"
  }
 },
 "nbformat": 4,
 "nbformat_minor": 5
}
