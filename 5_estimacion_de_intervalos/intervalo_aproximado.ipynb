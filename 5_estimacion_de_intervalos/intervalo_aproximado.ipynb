{
 "cells": [
  {
   "cell_type": "markdown",
   "metadata": {},
   "source": [
    "# Intervalo aproximado"
   ]
  },
  {
   "cell_type": "markdown",
   "metadata": {},
   "source": [
    "Calculo la cobertura del intervalo aproximado del parámetro $\\tau$ de una distribución exponencial."
   ]
  },
  {
   "cell_type": "markdown",
   "metadata": {},
   "source": [
    "## Definición del intervalo"
   ]
  },
  {
   "cell_type": "markdown",
   "metadata": {},
   "source": [
    "Parámetro $\\tau$ de la distribución exponencial:"
   ]
  },
  {
   "cell_type": "code",
   "execution_count": null,
   "metadata": {},
   "outputs": [],
   "source": [
    "tau = 10"
   ]
  },
  {
   "cell_type": "markdown",
   "metadata": {},
   "source": [
    "La muestra de datos consiste de variables exponenciales iid $T_i \\sim \\exp(\\tau)$ de tamaño:"
   ]
  },
  {
   "cell_type": "code",
   "execution_count": null,
   "metadata": {},
   "outputs": [],
   "source": [
    "sample_size = 100"
   ]
  },
  {
   "cell_type": "markdown",
   "metadata": {},
   "source": [
    "Nivel de confianza del intervalo:"
   ]
  },
  {
   "cell_type": "code",
   "execution_count": null,
   "metadata": {},
   "outputs": [],
   "source": [
    "confidence_level = 0.9"
   ]
  },
  {
   "cell_type": "markdown",
   "metadata": {},
   "source": [
    "Probabilidad de las colas:"
   ]
  },
  {
   "cell_type": "code",
   "execution_count": null,
   "metadata": {},
   "outputs": [],
   "source": [
    "tail_probability = (1 - confidence_level)/2\n",
    "tail_probability"
   ]
  },
  {
   "cell_type": "markdown",
   "metadata": {},
   "source": [
    "El estimador del parámetro $\\tau$ es la media muestral $\\bar{t}$. Para calcular el intervalo de confianza de $\\tau$ necesitamos la distribución de $\\bar{t}$. Vamos a suponer que desconocemos esta distribución y asumimos que $\\bar{t}$ sigue *aproximadamente* una distribución normal. Los parámetros de esta distribución normal los calculamos con los momentos de $\\bar{t}$, $\\mu = \\mathrm{E}(\\bar{t}) = \\tau$ y $\\sigma^2 = \\mathrm{Var}(\\bar{t}) = \\tau^2 / n$. Calculamos el intervalo de confianza de $\\tau$ a partir de la distribución aproximada de $\\bar{t}$."
   ]
  },
  {
   "cell_type": "markdown",
   "metadata": {},
   "source": [
    "Calculamos el cuantil de una distribución normal:"
   ]
  },
  {
   "cell_type": "code",
   "execution_count": null,
   "metadata": {},
   "outputs": [],
   "source": [
    "from scipy.stats import norm\n",
    "quantile = norm.isf(tail_probability)\n",
    "quantile"
   ]
  },
  {
   "cell_type": "markdown",
   "metadata": {},
   "source": [
    "## Simulación de datos"
   ]
  },
  {
   "cell_type": "markdown",
   "metadata": {},
   "source": [
    "Evaluamos la cobertura de este intervalo aproximado simulando muchas muestras de datos:"
   ]
  },
  {
   "cell_type": "code",
   "execution_count": null,
   "metadata": {},
   "outputs": [],
   "source": [
    "import numpy as np\n",
    "from scipy.stats import expon\n",
    "nsimulations = 100000\n",
    "rng = np.random.default_rng(seed=6870)\n",
    "data = expon.rvs(scale=tau, size=(nsimulations, sample_size), random_state=rng)\n",
    "data"
   ]
  },
  {
   "cell_type": "markdown",
   "metadata": {},
   "source": [
    "El estimador de $\\tau$ es la media muestral:"
   ]
  },
  {
   "cell_type": "code",
   "execution_count": null,
   "metadata": {},
   "outputs": [],
   "source": [
    "tau_mle = np.mean(data, axis=1)\n",
    "tau_mle"
   ]
  },
  {
   "cell_type": "markdown",
   "metadata": {},
   "source": [
    "Calculamos los límites del intervalo de confianza en base a lo que vimos en clase:"
   ]
  },
  {
   "cell_type": "code",
   "execution_count": null,
   "metadata": {},
   "outputs": [],
   "source": [
    "import math\n",
    "tau1 = tau_mle / (1 + quantile / math.sqrt(sample_size))\n",
    "tau2 = tau_mle / (1 - quantile / math.sqrt(sample_size))\n",
    "tau1"
   ]
  },
  {
   "cell_type": "code",
   "execution_count": null,
   "metadata": {},
   "outputs": [],
   "source": [
    "tau2"
   ]
  },
  {
   "cell_type": "markdown",
   "metadata": {},
   "source": [
    "## Cobertura"
   ]
  },
  {
   "cell_type": "markdown",
   "metadata": {},
   "source": [
    "Evaluamos la probabilidad de cobertura del intervalo aproximado:"
   ]
  },
  {
   "cell_type": "code",
   "execution_count": null,
   "metadata": {},
   "outputs": [],
   "source": [
    "import danatools\n",
    "coverage, coverage_error = danatools.get_coverage(tau1, tau2, tau)\n",
    "print(f\"Coverage probability: {coverage:.4f} ± {coverage_error:.4f}\")"
   ]
  },
  {
   "cell_type": "markdown",
   "metadata": {},
   "source": [
    "La probabilidad de cobertura es mayor al nivel de confianza que usamos para construir el intervalo. \n",
    "Esto es así incluso considerando la incerteza de la estimación de la cobertura por el número finito de simulaciones, \n",
    "Decimos en este caso que el intervalo *sobrecubre* al parámetro (overcovers en inglés). En el caso opuesto que la probabilidad de cobertura es *menor* al nivel de confianza, decimos que el intervalo *subcubre* al parámetro (undercovers en inglés)."
   ]
  },
  {
   "cell_type": "markdown",
   "metadata": {},
   "source": [
    "*Nota*: Para mostrar un intervalo aproximado usamos una aproximación normal a la distribución de la media muestral. Sin embargo, la distribución de la media muestral de una variable exponencial es conocida; sigue una distribución de Erlang a menos de un cambio de variables. "
   ]
  }
 ],
 "metadata": {
  "kernelspec": {
   "display_name": "Python 3 (ipykernel)",
   "language": "python",
   "name": "python3"
  },
  "language_info": {
   "codemirror_mode": {
    "name": "ipython",
    "version": 3
   },
   "file_extension": ".py",
   "mimetype": "text/x-python",
   "name": "python",
   "nbconvert_exporter": "python",
   "pygments_lexer": "ipython3",
   "version": "3.10.12"
  }
 },
 "nbformat": 4,
 "nbformat_minor": 4
}
