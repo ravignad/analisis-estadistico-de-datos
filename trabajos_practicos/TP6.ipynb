{
 "cells": [
  {
   "cell_type": "markdown",
   "id": "deaf49a4-6155-4a9c-963d-c3636da5f5f6",
   "metadata": {},
   "source": [
    "---\n",
    "---\n",
    "## Trabajo Práctico 6 - Test de Hipótesis\n",
    "---\n",
    "---"
   ]
  },
  {
   "cell_type": "markdown",
   "id": "0784092a-4fda-4622-a827-61672df80115",
   "metadata": {},
   "source": [
    "La diabetes se diagnostica en base al nivel de glucosa en sangre. Según la base de datos de indios Pima la glucosa en sangre de personas sanas tiene una media $\\mu_0 = 110.6\\:mg/dl$ y una desviación estándar $\\sigma_0 = 24.8\\:mg/dl$. Para personas con diabetes la media es $\\mu_1 = 142.3\\:mg/dl$ y la desviación estándar $\\sigma_1 = 29.6\\:mg/dl$. Asumir que la glucosa en sangre para personas sanas y con diabetes sigue una distribución normal. Siguiendo las recomendaciones de la Organización Mundial de la Salud, a una persona se le diagnostica diabetes si su nivel de glucosa en sangre excede $126\\:mg/dl$. Graficar las distribuciones de la glucosa en sangre para las hipótesis nula y alternativa. Indicar en la figura el valor crítico de la glucosa en sangre.\n",
    "\n",
    "Calcular la sensibilidad (poder) del test de glucosa en sangre, la probabilidad que un paciente sano sea diagnosticado como diabético (falso positivo) y la probabilidad que un paciente diabético sea diagnosticado como sano (falso negativo). Si la prevalencia de la diabetes es del $35\\%$, calcular aplicando el teorema de Bayes, la probabilidad que una persona con un test positivo efectivamente tenga diabetes."
   ]
  },
  {
   "cell_type": "code",
   "execution_count": null,
   "id": "4feae006-04ac-4fd5-92e4-1a802dc18fe4",
   "metadata": {},
   "outputs": [],
   "source": []
  }
 ],
 "metadata": {
  "kernelspec": {
   "display_name": "Python 3 (ipykernel)",
   "language": "python",
   "name": "python3"
  },
  "language_info": {
   "codemirror_mode": {
    "name": "ipython",
    "version": 3
   },
   "file_extension": ".py",
   "mimetype": "text/x-python",
   "name": "python",
   "nbconvert_exporter": "python",
   "pygments_lexer": "ipython3",
   "version": "3.10.12"
  }
 },
 "nbformat": 4,
 "nbformat_minor": 5
}
