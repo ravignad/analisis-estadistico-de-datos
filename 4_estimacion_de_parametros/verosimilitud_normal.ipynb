{
 "cells": [
  {
   "cell_type": "markdown",
   "metadata": {},
   "source": [
    "# Verosimilitud de una muestra normal"
   ]
  },
  {
   "cell_type": "markdown",
   "metadata": {},
   "source": [
    "Plotea la verosimilitud y todas las funciones asociadas para una muestra de datos normales.\n",
    "En este ejemplo, la media μ es el parámetro desconocido y la desviación estándar σ es conocida."
   ]
  },
  {
   "cell_type": "code",
   "execution_count": null,
   "metadata": {},
   "outputs": [],
   "source": [
    "sigma = 3.1\n",
    "variance = sigma**2"
   ]
  },
  {
   "cell_type": "markdown",
   "metadata": {},
   "source": [
    "## Datos"
   ]
  },
  {
   "cell_type": "code",
   "execution_count": null,
   "metadata": {},
   "outputs": [],
   "source": [
    "import numpy as np\n",
    "data = np.array([14.50, 10.05, 13.82, 11.31, 13.96])"
   ]
  },
  {
   "cell_type": "code",
   "execution_count": null,
   "metadata": {},
   "outputs": [],
   "source": [
    "sample_size = len(data)\n",
    "sample_size"
   ]
  },
  {
   "cell_type": "code",
   "execution_count": null,
   "metadata": {},
   "outputs": [],
   "source": [
    "sample_mean = np.mean(data)\n",
    "sample_mean"
   ]
  },
  {
   "cell_type": "markdown",
   "metadata": {},
   "source": [
    "El estimador de máxima verosimilitud es igual a la media muestral."
   ]
  },
  {
   "cell_type": "markdown",
   "metadata": {},
   "source": [
    "Varianza muestral sin corrección de Bessel ($S_n^2$):"
   ]
  },
  {
   "cell_type": "code",
   "execution_count": null,
   "metadata": {},
   "outputs": [],
   "source": [
    "sample_variance_n = np.var(data, ddof=0)\n",
    "sample_variance_n"
   ]
  },
  {
   "cell_type": "code",
   "execution_count": null,
   "metadata": {},
   "outputs": [],
   "source": [
    "sample_variance = np.var(data, ddof=1)\n",
    "sample_variance"
   ]
  },
  {
   "cell_type": "markdown",
   "metadata": {},
   "source": [
    "Desviación estándar de la media muestral:"
   ]
  },
  {
   "cell_type": "code",
   "execution_count": null,
   "metadata": {},
   "outputs": [],
   "source": [
    "import math\n",
    "sample_mean_sigma = sigma / math.sqrt(sample_size)\n",
    "sample_mean_sigma "
   ]
  },
  {
   "cell_type": "markdown",
   "metadata": {},
   "source": [
    "## Verosimilitud"
   ]
  },
  {
   "cell_type": "markdown",
   "metadata": {},
   "source": [
    "$L({\\color{red}\\mu}) = \\frac{1}{\\left( 2 \\pi \\sigma^2 \\right)^{n/2}} \\; \\exp \\left( -\\frac{n}{2\\sigma^2} \\left( s_n^2 + (\\bar{x}-{\\color{red}\\mu})^2 \\right) \\right) $"
   ]
  },
  {
   "cell_type": "markdown",
   "metadata": {},
   "source": [
    "Selecciono un intervalo en el espacio del parámetro μ:"
   ]
  },
  {
   "cell_type": "code",
   "execution_count": null,
   "metadata": {},
   "outputs": [],
   "source": [
    "mu_min = sample_mean - 3 * sample_mean_sigma\n",
    "mu_max = sample_mean + 3 * sample_mean_sigma\n",
    "mu = np.linspace(mu_min, mu_max, num=100)\n",
    "mu"
   ]
  },
  {
   "cell_type": "code",
   "execution_count": null,
   "metadata": {},
   "outputs": [],
   "source": [
    "likelihood = np.power(2*np.pi*variance, -sample_size/2) * np.exp(-sample_size/(2*variance) * (sample_variance_n + (sample_mean - mu)**2))\n",
    "likelihood"
   ]
  },
  {
   "cell_type": "markdown",
   "metadata": {},
   "source": [
    "*Ejercicio*: escribir la likelihood con scipy.stats.multivariate_normal.pdf"
   ]
  },
  {
   "cell_type": "code",
   "execution_count": null,
   "metadata": {
    "scrolled": true
   },
   "outputs": [],
   "source": [
    "import matplotlib.pyplot as plt\n",
    "fig, ax = plt.subplots()\n",
    "ax.set_xlabel(\"$\\mu$\")\n",
    "ax.set_ylabel(\"Likelihood\")\n",
    "ax.plot(mu, likelihood, label=r'L($\\mu$)')\n",
    "ax.axvline(sample_mean, ls='--', color='tab:orange')\n",
    "ax.text(sample_mean, 0.5,\"  MLE\", transform = ax.get_xaxis_transform(), color='tab:orange')"
   ]
  },
  {
   "cell_type": "markdown",
   "metadata": {},
   "source": [
    "## Logaritmo de la verosimilitud"
   ]
  },
  {
   "cell_type": "code",
   "execution_count": null,
   "metadata": {},
   "outputs": [],
   "source": [
    "log_likelihood = np.log(likelihood)"
   ]
  },
  {
   "cell_type": "code",
   "execution_count": null,
   "metadata": {
    "scrolled": true
   },
   "outputs": [],
   "source": [
    "fig, ax = plt.subplots()\n",
    "ax.set_xlabel(\"$\\mu$\")\n",
    "ax.set_ylabel(\"$\\log$Likelihood\")\n",
    "ax.plot(mu, log_likelihood)\n",
    "ax.axvline(sample_mean, ls='--', color='tab:orange')\n",
    "ax.text(sample_mean, 0.5,\"  MLE\", transform = ax.get_xaxis_transform(), color='tab:orange')"
   ]
  },
  {
   "cell_type": "markdown",
   "metadata": {},
   "source": [
    "Como la verosimilitud es menor a 1, su logaritmo es negativo. La verosimilitud y su logaritmo tienen el mismo máximo."
   ]
  },
  {
   "cell_type": "markdown",
   "metadata": {},
   "source": [
    "## Cociente de verosimilitudes"
   ]
  },
  {
   "cell_type": "markdown",
   "metadata": {},
   "source": [
    "$\\lambda(\\mu) = \\exp \\left(-\\frac{1}{2} \\left( \\frac{\\bar{X} - \\mu}{\\sigma / \\sqrt{n}} \\right)^2 \\right)$"
   ]
  },
  {
   "cell_type": "code",
   "execution_count": null,
   "metadata": {},
   "outputs": [],
   "source": [
    "likelihood_ratio = np.exp(-1/2 * ((sample_mean-mu)/sample_mean_sigma)**2)"
   ]
  },
  {
   "cell_type": "code",
   "execution_count": null,
   "metadata": {
    "scrolled": true
   },
   "outputs": [],
   "source": [
    "fig, ax = plt.subplots()\n",
    "ax.set_xlabel(\"$\\mu$\")\n",
    "ax.set_ylabel(\"Likelihood ratio\")\n",
    "ax.plot(mu, likelihood_ratio)\n",
    "ax.axvline(sample_mean, ls='--', color='tab:orange')\n",
    "ax.text(sample_mean, 0.5,\"  MLE\", transform = ax.get_xaxis_transform(), color='tab:orange')"
   ]
  },
  {
   "cell_type": "markdown",
   "metadata": {},
   "source": [
    "El cociente de verosimilitudes (likelihood ratio en inglés) está acotado entre 0 y 1. Alcanza el máximo 1 en el estimador de máxima verosimilitud."
   ]
  },
  {
   "cell_type": "markdown",
   "metadata": {},
   "source": [
    "## Función de costo "
   ]
  },
  {
   "cell_type": "markdown",
   "metadata": {},
   "source": [
    "$ J(\\mu) = \\left( \\frac{\\bar{X} - \\mu}{\\sigma / \\sqrt{n}} \\right)^2$ "
   ]
  },
  {
   "cell_type": "code",
   "execution_count": null,
   "metadata": {},
   "outputs": [],
   "source": [
    "cost_function = ((sample_mean-mu)/sample_mean_sigma)**2"
   ]
  },
  {
   "cell_type": "code",
   "execution_count": null,
   "metadata": {
    "scrolled": true
   },
   "outputs": [],
   "source": [
    "fig, ax = plt.subplots()\n",
    "ax.set_xlabel(\"$\\mu$\")\n",
    "ax.set_ylabel(\"Cost Function\")\n",
    "ax.plot(mu, cost_function)\n",
    "ax.axvline(sample_mean, ls='--', color='tab:orange')\n",
    "ax.axhline(0, ls='--', color='tab:gray')\n",
    "ax.text(sample_mean, 0.5,\"  MLE\", transform = ax.get_xaxis_transform(), color='tab:orange')"
   ]
  },
  {
   "cell_type": "markdown",
   "metadata": {},
   "source": [
    "La función de costo es parabólica. Alcanza el mínimo 0 en el estimador de máxima verosimilitud. "
   ]
  }
 ],
 "metadata": {
  "kernelspec": {
   "display_name": "Python 3 (ipykernel)",
   "language": "python",
   "name": "python3"
  },
  "language_info": {
   "codemirror_mode": {
    "name": "ipython",
    "version": 3
   },
   "file_extension": ".py",
   "mimetype": "text/x-python",
   "name": "python",
   "nbconvert_exporter": "python",
   "pygments_lexer": "ipython3",
   "version": "3.10.12"
  }
 },
 "nbformat": 4,
 "nbformat_minor": 4
}
