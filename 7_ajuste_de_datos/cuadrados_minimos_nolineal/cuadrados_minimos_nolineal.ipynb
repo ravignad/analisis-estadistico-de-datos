{
 "cells": [
  {
   "cell_type": "markdown",
   "metadata": {},
   "source": [
    "# Cuadrados mínimos no-lineal paso a paso"
   ]
  },
  {
   "cell_type": "markdown",
   "metadata": {
    "id": "aOZ_h3DT7zlt"
   },
   "source": [
    "Calibración del detector de superficie del Observatorio Pierre Auger"
   ]
  },
  {
   "cell_type": "code",
   "execution_count": null,
   "metadata": {
    "id": "5XsowlYY7zlu"
   },
   "outputs": [],
   "source": [
    "import numpy as np\n",
    "import pandas as pd\n",
    "import matplotlib.pyplot as plt\n",
    "import scipy"
   ]
  },
  {
   "cell_type": "markdown",
   "metadata": {
    "id": "ROBypVjp7zlv"
   },
   "source": [
    "## Datos"
   ]
  },
  {
   "cell_type": "markdown",
   "metadata": {},
   "source": [
    "Esta demo usa datos abiertos disponibles en https://doi.org/10.5281/zenodo.4487612."
   ]
  },
  {
   "cell_type": "code",
   "execution_count": null,
   "metadata": {
    "id": "xd4sVo5d7zlw"
   },
   "outputs": [],
   "source": [
    "data = pd.read_csv(\"cuadrados_minimos_nolineal.csv\")\n",
    "xdata = data[\"energy\"]\n",
    "ydata = data[\"shower_size\"]\n",
    "yerror = data[\"shower_size_error\"]\n",
    "print(data)"
   ]
  },
  {
   "cell_type": "markdown",
   "metadata": {
    "id": "xxAcQZVr7zlx"
   },
   "source": [
    "## Modelo"
   ]
  },
  {
   "cell_type": "code",
   "execution_count": null,
   "metadata": {
    "id": "nVumabXo7zlx"
   },
   "outputs": [],
   "source": [
    "def fit_model(energy, par):\n",
    "    size_0 = 30          # Reference shower size\n",
    "    energy_0 = par[0]\n",
    "    power_law_index = par[1]\n",
    "    return size_0 * np.power(energy / energy_0, 1 / power_law_index)"
   ]
  },
  {
   "cell_type": "markdown",
   "metadata": {
    "id": "xJMO1a6a7zlx"
   },
   "source": [
    "## Función de costo"
   ]
  },
  {
   "cell_type": "code",
   "execution_count": null,
   "metadata": {
    "id": "l0ug7c3s7zlx"
   },
   "outputs": [],
   "source": [
    "def fit_cost(x, y, ysigma, par):\n",
    "        mu = fit_model(x, par)\n",
    "        residuals = (y - mu) / ysigma\n",
    "        chi_squares = residuals**2\n",
    "        cost = chi_squares.sum()\n",
    "        return cost"
   ]
  },
  {
   "cell_type": "code",
   "execution_count": null,
   "metadata": {
    "id": "h9NRW8Bw7zly"
   },
   "outputs": [],
   "source": [
    "J = lambda par: fit_cost(xdata, ydata, yerror, par)"
   ]
  },
  {
   "cell_type": "markdown",
   "metadata": {
    "id": "ippIjIqQ7zly"
   },
   "source": [
    "## Minimización"
   ]
  },
  {
   "cell_type": "code",
   "execution_count": null,
   "metadata": {},
   "outputs": [],
   "source": [
    "help(scipy.optimize.minimize)"
   ]
  },
  {
   "cell_type": "markdown",
   "metadata": {},
   "source": [
    "Changing the tolerance from the default value $1e-7$ to force the convergence. This is necessary because there are many data. The tolerance must be higher than the value reported for the gradient (jacobian) at the minimum or  (jac variable in the output). "
   ]
  },
  {
   "cell_type": "code",
   "execution_count": null,
   "metadata": {
    "colab": {
     "base_uri": "https://localhost:8080/"
    },
    "executionInfo": {
     "elapsed": 7,
     "status": "ok",
     "timestamp": 1699555092765,
     "user": {
      "displayName": "Diego Ravignani Guerrero",
      "userId": "10540030550289703153"
     },
     "user_tz": 180
    },
    "id": "TMlT7V5Z7zly",
    "outputId": "cedc8f4d-8f2c-49ed-9a44-5bc76b9a0fb9"
   },
   "outputs": [],
   "source": [
    "res = scipy.optimize.minimize(J, x0=(7, 1), tol=1e-4)\n",
    "res"
   ]
  },
  {
   "cell_type": "markdown",
   "metadata": {
    "id": "zC45m72X7zly"
   },
   "source": [
    "## Estimadores"
   ]
  },
  {
   "cell_type": "code",
   "execution_count": null,
   "metadata": {
    "id": "S0wscugF7zly"
   },
   "outputs": [],
   "source": [
    "par_est = res.x\n",
    "par_est"
   ]
  },
  {
   "cell_type": "markdown",
   "metadata": {
    "id": "LdzPn4liJMPR"
   },
   "source": [
    "## Errores"
   ]
  },
  {
   "cell_type": "code",
   "execution_count": null,
   "metadata": {
    "colab": {
     "base_uri": "https://localhost:8080/"
    },
    "executionInfo": {
     "elapsed": 277,
     "status": "ok",
     "timestamp": 1699555241202,
     "user": {
      "displayName": "Diego Ravignani Guerrero",
      "userId": "10540030550289703153"
     },
     "user_tz": 180
    },
    "id": "52VtulpS7zly",
    "outputId": "6bece1ed-4c2c-4cdf-97c1-ad5a328aded7"
   },
   "outputs": [],
   "source": [
    "cova = 2*res.hess_inv\n",
    "error = np.sqrt( np.diagonal(cova) )\n",
    "rho = cova[0][1]/(error[0]*error[1])\n",
    "print(f\"a = {par_est[0]:.3f} ± {error[0]:.3f}\")\n",
    "print(f\"b = {par_est[1]:.3f} ± {error[1]:.3f}\")\n",
    "print(f\"ρ = {rho:.2f}\")"
   ]
  },
  {
   "cell_type": "markdown",
   "metadata": {
    "id": "1GvDjBep7zlz"
   },
   "source": [
    "## Bondad del ajuste"
   ]
  },
  {
   "cell_type": "code",
   "execution_count": null,
   "metadata": {
    "colab": {
     "base_uri": "https://localhost:8080/"
    },
    "executionInfo": {
     "elapsed": 291,
     "status": "ok",
     "timestamp": 1699555781920,
     "user": {
      "displayName": "Diego Ravignani Guerrero",
      "userId": "10540030550289703153"
     },
     "user_tz": 180
    },
    "id": "SWQac5k67zlz",
    "outputId": "ed3ac44c-ffc1-41f0-81e4-74c5b6b9f8ad"
   },
   "outputs": [],
   "source": [
    "cost_min = res.fun\n",
    "ndof = len(xdata) - len(par_est)\n",
    "pvalor = scipy.stats.chi2.sf(cost_min, ndof)\n",
    "print(f\"χ²min = {cost_min:.2f}\")\n",
    "print(f\"ndof = {ndof}\")\n",
    "print(f\"pvalor = {pvalor*100:.2}%\")"
   ]
  },
  {
   "cell_type": "markdown",
   "metadata": {},
   "source": [
    "## Plot del ajuste"
   ]
  },
  {
   "cell_type": "code",
   "execution_count": null,
   "metadata": {},
   "outputs": [],
   "source": [
    "xfit = np.linspace( xdata.min(), xdata.max(), 256)\n",
    "mu_est = fit_model(xfit, par_est)"
   ]
  },
  {
   "cell_type": "code",
   "execution_count": null,
   "metadata": {
    "colab": {
     "base_uri": "https://localhost:8080/",
     "height": 392
    },
    "executionInfo": {
     "elapsed": 843,
     "status": "ok",
     "timestamp": 1699554555442,
     "user": {
      "displayName": "Diego Ravignani Guerrero",
      "userId": "10540030550289703153"
     },
     "user_tz": 180
    },
    "id": "ggbGuciX7zlw",
    "outputId": "abcb5617-0d62-47e3-f7a5-6d8c5d25ad07",
    "scrolled": true
   },
   "outputs": [],
   "source": [
    "fig, ax = plt.subplots()\n",
    "ax.set_xlabel(\"Energy (EeV)\")\n",
    "ax.set_ylabel(\"Shower size (VEM)\")\n",
    "ax.errorbar(xdata, ydata, yerror,ls='none', marker='o', ms=4, label=\"Datos\")\n",
    "ax.plot(xfit, mu_est, label=\"Ajuste\")\n",
    "plt.legend()\n",
    "plt.show()"
   ]
  }
 ],
 "metadata": {
  "colab": {
   "provenance": [],
   "toc_visible": true
  },
  "kernelspec": {
   "display_name": "Python 3 (ipykernel)",
   "language": "python",
   "name": "python3"
  },
  "language_info": {
   "codemirror_mode": {
    "name": "ipython",
    "version": 3
   },
   "file_extension": ".py",
   "mimetype": "text/x-python",
   "name": "python",
   "nbconvert_exporter": "python",
   "pygments_lexer": "ipython3",
   "version": "3.10.12"
  }
 },
 "nbformat": 4,
 "nbformat_minor": 4
}
