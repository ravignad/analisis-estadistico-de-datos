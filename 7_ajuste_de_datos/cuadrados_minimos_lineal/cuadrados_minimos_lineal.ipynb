{
 "cells": [
  {
   "cell_type": "markdown",
   "metadata": {
    "id": "CtuGmVWxn8mF"
   },
   "source": [
    "# Cuadrados mínimos lineal"
   ]
  },
  {
   "cell_type": "markdown",
   "metadata": {},
   "source": [
    "Resolución paso a paso"
   ]
  },
  {
   "cell_type": "code",
   "execution_count": null,
   "metadata": {
    "executionInfo": {
     "elapsed": 1215,
     "status": "ok",
     "timestamp": 1699548660507,
     "user": {
      "displayName": "Diego Ravignani Guerrero",
      "userId": "10540030550289703153"
     },
     "user_tz": 180
    },
    "id": "k_qXGHAAn8mJ",
    "scrolled": true
   },
   "outputs": [],
   "source": [
    "import math\n",
    "import numpy as np\n",
    "from numpy.linalg import inv\n",
    "import pandas as pd\n",
    "import matplotlib.pyplot as plt\n",
    "from matplotlib import cm, colors\n",
    "from scipy.stats import chi2"
   ]
  },
  {
   "cell_type": "code",
   "execution_count": null,
   "metadata": {},
   "outputs": [],
   "source": [
    "import danatools"
   ]
  },
  {
   "cell_type": "markdown",
   "metadata": {
    "id": "SF0InR24n8mK"
   },
   "source": [
    "## Datos"
   ]
  },
  {
   "cell_type": "code",
   "execution_count": null,
   "metadata": {},
   "outputs": [],
   "source": [
    "input_file = \"cuadrados_minimos_lineal.csv\"\n",
    "data = pd.read_csv(input_file, index_col='i')\n",
    "data"
   ]
  },
  {
   "cell_type": "code",
   "execution_count": null,
   "metadata": {
    "colab": {
     "base_uri": "https://localhost:8080/",
     "height": 410
    },
    "executionInfo": {
     "elapsed": 27,
     "status": "ok",
     "timestamp": 1699548660508,
     "user": {
      "displayName": "Diego Ravignani Guerrero",
      "userId": "10540030550289703153"
     },
     "user_tz": 180
    },
    "id": "qPsUFcImn8mN",
    "outputId": "59e62b5d-5351-4e12-e8d2-1df03be2f503"
   },
   "outputs": [],
   "source": [
    "fig, ax = plt.subplots()\n",
    "plt.title(\"Datos\")\n",
    "ax.set_xlabel(\"x\")\n",
    "ax.set_ylabel(\"y\")\n",
    "ax.errorbar(data['x'], data['y'], data['dy'],ls='none', marker='o', label=\"Datos\")\n",
    "# fig.savefig('linear_least_squares_data.svg')"
   ]
  },
  {
   "cell_type": "markdown",
   "metadata": {
    "id": "Ngth9sJMn8mT"
   },
   "source": [
    "## Estimador de máxima verosimilitud"
   ]
  },
  {
   "cell_type": "markdown",
   "metadata": {},
   "source": [
    "Covariance matrix of the independent variable $y$"
   ]
  },
  {
   "cell_type": "code",
   "execution_count": null,
   "metadata": {
    "colab": {
     "base_uri": "https://localhost:8080/"
    },
    "executionInfo": {
     "elapsed": 21,
     "status": "ok",
     "timestamp": 1699548662433,
     "user": {
      "displayName": "Diego Ravignani Guerrero",
      "userId": "10540030550289703153"
     },
     "user_tz": 180
    },
    "id": "5KCisIe8n8mU",
    "outputId": "8e80f816-5672-4382-82dc-a7a28168fdaf",
    "scrolled": true
   },
   "outputs": [],
   "source": [
    "cova_y = np.diag(data['dy']**2)\n",
    "cova_y"
   ]
  },
  {
   "cell_type": "markdown",
   "metadata": {},
   "source": [
    "The fit model is par[0] + par[1] * x"
   ]
  },
  {
   "cell_type": "code",
   "execution_count": null,
   "metadata": {
    "colab": {
     "base_uri": "https://localhost:8080/"
    },
    "executionInfo": {
     "elapsed": 18,
     "status": "ok",
     "timestamp": 1699548662433,
     "user": {
      "displayName": "Diego Ravignani Guerrero",
      "userId": "10540030550289703153"
     },
     "user_tz": 180
    },
    "id": "SRw07hjrn8mV",
    "outputId": "2f64c2a5-cbc9-4366-876e-86d70fda9068",
    "scrolled": true
   },
   "outputs": [],
   "source": [
    "design_matrix = np.column_stack([data['x']**0, data['x']])\n",
    "design_matrix"
   ]
  },
  {
   "cell_type": "markdown",
   "metadata": {},
   "source": [
    "Covariance matrix of the maximum likelihood estimator"
   ]
  },
  {
   "cell_type": "code",
   "execution_count": null,
   "metadata": {
    "colab": {
     "base_uri": "https://localhost:8080/"
    },
    "executionInfo": {
     "elapsed": 16,
     "status": "ok",
     "timestamp": 1699548662433,
     "user": {
      "displayName": "Diego Ravignani Guerrero",
      "userId": "10540030550289703153"
     },
     "user_tz": 180
    },
    "id": "FpHn6M2Pn8mV",
    "outputId": "6beccfb8-ab23-4bef-e639-0bf862014cfd"
   },
   "outputs": [],
   "source": [
    "cova_mle = inv( design_matrix.T @ inv(cova_y) @ design_matrix )\n",
    "cova_mle"
   ]
  },
  {
   "cell_type": "code",
   "execution_count": null,
   "metadata": {
    "colab": {
     "base_uri": "https://localhost:8080/"
    },
    "executionInfo": {
     "elapsed": 14,
     "status": "ok",
     "timestamp": 1699548662433,
     "user": {
      "displayName": "Diego Ravignani Guerrero",
      "userId": "10540030550289703153"
     },
     "user_tz": 180
    },
    "id": "HhDtfeqan8mW",
    "outputId": "8412535d-1c04-4180-a3b2-192808391439",
    "scrolled": true
   },
   "outputs": [],
   "source": [
    "matrix_B = cova_mle @ design_matrix.T @ inv(cova_y)\n",
    "matrix_B"
   ]
  },
  {
   "cell_type": "markdown",
   "metadata": {},
   "source": [
    "Maximum likelihood estimator of the parameter $\\theta$"
   ]
  },
  {
   "cell_type": "code",
   "execution_count": null,
   "metadata": {
    "colab": {
     "base_uri": "https://localhost:8080/"
    },
    "executionInfo": {
     "elapsed": 12,
     "status": "ok",
     "timestamp": 1699548662433,
     "user": {
      "displayName": "Diego Ravignani Guerrero",
      "userId": "10540030550289703153"
     },
     "user_tz": 180
    },
    "id": "GcdbFqK0n8mW",
    "outputId": "de948258-6ad2-4132-eb6e-f4e2119a06e6"
   },
   "outputs": [],
   "source": [
    "par_est = matrix_B @ data['y']\n",
    "y0_est = par_est[0]\n",
    "m_est = par_est[1]\n",
    "par_est"
   ]
  },
  {
   "cell_type": "markdown",
   "metadata": {
    "id": "HuCiEbJmn8mW"
   },
   "source": [
    "## Plot del ajuste"
   ]
  },
  {
   "cell_type": "code",
   "execution_count": null,
   "metadata": {},
   "outputs": [],
   "source": [
    "xfit = np.linspace( data['x'].min(), data['x'].max(), num=50)\n",
    "xfit"
   ]
  },
  {
   "cell_type": "code",
   "execution_count": null,
   "metadata": {
    "executionInfo": {
     "elapsed": 25,
     "status": "ok",
     "timestamp": 1699548660509,
     "user": {
      "displayName": "Diego Ravignani Guerrero",
      "userId": "10540030550289703153"
     },
     "user_tz": 180
    },
    "id": "2gefwExun8mO"
   },
   "outputs": [],
   "source": [
    "Afit = np.column_stack([xfit**0, xfit])\n",
    "Afit"
   ]
  },
  {
   "cell_type": "code",
   "execution_count": null,
   "metadata": {},
   "outputs": [],
   "source": [
    "mu_est = Afit @ par_est\n",
    "mu_est"
   ]
  },
  {
   "cell_type": "code",
   "execution_count": null,
   "metadata": {
    "colab": {
     "base_uri": "https://localhost:8080/",
     "height": 388
    },
    "executionInfo": {
     "elapsed": 51,
     "status": "ok",
     "timestamp": 1699548663565,
     "user": {
      "displayName": "Diego Ravignani Guerrero",
      "userId": "10540030550289703153"
     },
     "user_tz": 180
    },
    "id": "NHYwAxQDn8mX",
    "outputId": "51372ca9-d4b6-4194-8f02-46aef7e0ba7d"
   },
   "outputs": [],
   "source": [
    "fig, ax = plt.subplots()\n",
    "ax.set_xlabel('x')\n",
    "ax.set_ylabel('y')\n",
    "ax.errorbar(data['x'], data['y'], data['dy'],ls='none', marker='o', label=\"Datos\")\n",
    "ax.plot(xfit, mu_est, ls='--', label=\"Ajuste\")\n",
    "ax.legend()"
   ]
  },
  {
   "cell_type": "markdown",
   "metadata": {
    "id": "51eoZcdBn8mX"
   },
   "source": [
    "## Errores de los parámetros"
   ]
  },
  {
   "cell_type": "code",
   "execution_count": null,
   "metadata": {
    "executionInfo": {
     "elapsed": 47,
     "status": "ok",
     "timestamp": 1699548663565,
     "user": {
      "displayName": "Diego Ravignani Guerrero",
      "userId": "10540030550289703153"
     },
     "user_tz": 180
    },
    "id": "oMsR1jdpn8mY"
   },
   "outputs": [],
   "source": [
    "dy0 = math.sqrt(cova_mle[0][0])\n",
    "dm = math.sqrt(cova_mle[1][1])\n",
    "rho = cova_mle[0][1] / (dy0 *dm)"
   ]
  },
  {
   "cell_type": "code",
   "execution_count": null,
   "metadata": {
    "colab": {
     "base_uri": "https://localhost:8080/"
    },
    "executionInfo": {
     "elapsed": 46,
     "status": "ok",
     "timestamp": 1699548663565,
     "user": {
      "displayName": "Diego Ravignani Guerrero",
      "userId": "10540030550289703153"
     },
     "user_tz": 180
    },
    "id": "nKx5Hn3Bn8mY",
    "outputId": "8aa5e4d4-8705-43d7-e12d-ae4087d1a5ef",
    "scrolled": true
   },
   "outputs": [],
   "source": [
    "print(f'Ordenada al origen:  {y0_est:.3f} ± {dy0:.3f}')\n",
    "print(f'Pendiente ajustada: {m_est:2.2f} ± {dm:2.2f}')\n",
    "print(f'Correlación: {rho:2.2f}')"
   ]
  },
  {
   "cell_type": "code",
   "execution_count": null,
   "metadata": {
    "colab": {
     "base_uri": "https://localhost:8080/",
     "height": 388
    },
    "executionInfo": {
     "elapsed": 42,
     "status": "ok",
     "timestamp": 1699548663567,
     "user": {
      "displayName": "Diego Ravignani Guerrero",
      "userId": "10540030550289703153"
     },
     "user_tz": 180
    },
    "id": "HLljIS0Vn8mY",
    "outputId": "55cd74b9-2889-4f92-d6d0-e81852294dc6"
   },
   "outputs": [],
   "source": [
    "fig, ax = plt.subplots()\n",
    "ax.set_xlabel(\"Intercept\")\n",
    "ax.set_ylabel(\"Slope\")\n",
    "ax.plot(*par_est, 'o')\n",
    "elipse_1sigma = danatools.get_ellipse(par_est, cova_mle, nsigma=1)\n",
    "ax.plot(*elipse_1sigma, ls='--')\n",
    "elipse_2sigma = danatools.get_ellipse(par_est, cova_mle, nsigma=2)\n",
    "ax.plot(*elipse_2sigma, ls='--')"
   ]
  },
  {
   "cell_type": "markdown",
   "metadata": {
    "id": "hk3PIj9Mn8mZ"
   },
   "source": [
    "## Bondad del ajuste"
   ]
  },
  {
   "cell_type": "code",
   "execution_count": null,
   "metadata": {
    "colab": {
     "base_uri": "https://localhost:8080/"
    },
    "executionInfo": {
     "elapsed": 38,
     "status": "ok",
     "timestamp": 1699548663567,
     "user": {
      "displayName": "Diego Ravignani Guerrero",
      "userId": "10540030550289703153"
     },
     "user_tz": 180
    },
    "id": "R8hWK5-6n8mZ",
    "outputId": "9150968e-4859-4aa5-e2ab-ce89250c3ab9"
   },
   "outputs": [],
   "source": [
    "residuos = data['y'] - design_matrix @ par_est\n",
    "J_min_observado = residuos.T @ inv(cova_y) @ residuos\n",
    "J_min_observado"
   ]
  },
  {
   "cell_type": "code",
   "execution_count": null,
   "metadata": {
    "colab": {
     "base_uri": "https://localhost:8080/"
    },
    "executionInfo": {
     "elapsed": 34,
     "status": "ok",
     "timestamp": 1699548663567,
     "user": {
      "displayName": "Diego Ravignani Guerrero",
      "userId": "10540030550289703153"
     },
     "user_tz": 180
    },
    "id": "E7ZGv_nVn8ma",
    "outputId": "3289f270-6078-463a-bcc8-e80a36ca2b73",
    "scrolled": true
   },
   "outputs": [],
   "source": [
    "ndatos = len(data['x'])\n",
    "grados_libertad = ndatos - 2\n",
    "grados_libertad"
   ]
  },
  {
   "cell_type": "code",
   "execution_count": null,
   "metadata": {
    "colab": {
     "base_uri": "https://localhost:8080/"
    },
    "executionInfo": {
     "elapsed": 30,
     "status": "ok",
     "timestamp": 1699548663568,
     "user": {
      "displayName": "Diego Ravignani Guerrero",
      "userId": "10540030550289703153"
     },
     "user_tz": 180
    },
    "id": "PJUSaMzsn8ma",
    "outputId": "0f08c7b2-b12d-4611-b452-0ac05cffd7d3"
   },
   "outputs": [],
   "source": [
    "pvalor = chi2.sf(J_min_observado, grados_libertad)\n",
    "print(f\"pvalor = {pvalor*100:.2f}%\")"
   ]
  },
  {
   "cell_type": "markdown",
   "metadata": {
    "id": "1kzd7SWYn8ma"
   },
   "source": [
    "## Banda de error"
   ]
  },
  {
   "cell_type": "code",
   "execution_count": null,
   "metadata": {
    "colab": {
     "base_uri": "https://localhost:8080/",
     "height": 449
    },
    "executionInfo": {
     "elapsed": 17,
     "status": "ok",
     "timestamp": 1699551080165,
     "user": {
      "displayName": "Diego Ravignani Guerrero",
      "userId": "10540030550289703153"
     },
     "user_tz": 180
    },
    "id": "XJ-M64spn8mb",
    "outputId": "a5371457-f830-4a09-d2d7-d4878f63fec2"
   },
   "outputs": [],
   "source": [
    "fig, ax = plt.subplots()\n",
    "ax.set_xlabel(\"x\")\n",
    "ax.set_ylabel(\"y\")\n",
    "ax.errorbar(data['x'], data['y'], data['dy'],ls='none', marker='o', label=\"Datos\")\n",
    "ax.plot(xfit, mu_est, ls='--', label=\"Ajuste\")\n",
    "var_mu_est = cova_mle[0][0] + xfit**2*cova_mle[1][1] + 2*xfit*cova_mle[0][1]\n",
    "sigma_mu_est = np.sqrt(var_mu_est)\n",
    "ax.fill_between(xfit, mu_est-sigma_mu_est, mu_est+sigma_mu_est, color='tab:orange', alpha=0.2)\n",
    "ax.legend()\n",
    "# fig.savefig('linear_least_squares_fit.svg')"
   ]
  },
  {
   "cell_type": "code",
   "execution_count": null,
   "metadata": {},
   "outputs": [],
   "source": []
  }
 ],
 "metadata": {
  "colab": {
   "provenance": [],
   "toc_visible": true
  },
  "kernelspec": {
   "display_name": "Python 3 (ipykernel)",
   "language": "python",
   "name": "python3"
  },
  "language_info": {
   "codemirror_mode": {
    "name": "ipython",
    "version": 3
   },
   "file_extension": ".py",
   "mimetype": "text/x-python",
   "name": "python",
   "nbconvert_exporter": "python",
   "pygments_lexer": "ipython3",
   "version": "3.10.12"
  }
 },
 "nbformat": 4,
 "nbformat_minor": 4
}
