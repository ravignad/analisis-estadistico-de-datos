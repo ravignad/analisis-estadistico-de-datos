{
 "cells": [
  {
   "cell_type": "markdown",
   "id": "5b7e68f9-a2cf-46f1-a59b-841a9ec52bc6",
   "metadata": {},
   "source": [
    "# Ajuste de un histograma paso a paso"
   ]
  },
  {
   "cell_type": "markdown",
   "id": "6db8506a-054b-4140-9581-28777faf188f",
   "metadata": {},
   "source": [
    "## Datos"
   ]
  },
  {
   "cell_type": "code",
   "execution_count": null,
   "id": "dc4239c3-9821-4572-9949-90138c49eeea",
   "metadata": {},
   "outputs": [],
   "source": [
    "import pandas as pd\n",
    "data = pd.read_csv(\"histogram.csv\")\n",
    "xdata = data[\"x\"]\n",
    "ydata = data[\"y\"]\n",
    "data"
   ]
  },
  {
   "cell_type": "markdown",
   "id": "01f70924-5c5e-4503-b3be-7a0ab6ef10ae",
   "metadata": {},
   "source": [
    "## Modelo"
   ]
  },
  {
   "cell_type": "markdown",
   "id": "93fcb68c-a46a-48a4-9474-5668b656b3bd",
   "metadata": {},
   "source": [
    "El modelo es una PDF normal escalada por una constante de normalización.  \n",
    "Parámetros:\n",
    "- Constante de normalización\n",
    "- Media $\\mu$\n",
    "- Desviación estándar $\\sigma$"
   ]
  },
  {
   "cell_type": "code",
   "execution_count": null,
   "id": "4487483d-d73d-4a43-a188-a44098441ea8",
   "metadata": {},
   "outputs": [],
   "source": [
    "from scipy.stats import norm\n",
    "def fit_model(x, par):\n",
    "    return par[0] * norm.pdf(x, loc=par[1], scale=par[2])"
   ]
  },
  {
   "cell_type": "markdown",
   "id": "4d04197e-8f62-44f0-955c-3285bfdc2eaf",
   "metadata": {},
   "source": [
    "## Función de costo de un dato"
   ]
  },
  {
   "cell_type": "markdown",
   "id": "9c97ea00-42a4-4dd1-a403-04e51c25c92b",
   "metadata": {},
   "source": [
    "Función de costo para variable dependiente y que sigue una distribución de Poisson"
   ]
  },
  {
   "cell_type": "code",
   "execution_count": null,
   "id": "4801298a-a228-426b-8388-5475e6624a33",
   "metadata": {},
   "outputs": [],
   "source": [
    "import math\n",
    "def poisson_cost(mu, y):\n",
    "    if y==0:\n",
    "        cost = 2 * mu\n",
    "    else:\n",
    "        cost = 2 * (mu - y) - 2 * y * math.log(mu/y)  \n",
    "    return cost"
   ]
  },
  {
   "cell_type": "markdown",
   "id": "1f00abf3-3d5f-444c-9688-f32db205c9b6",
   "metadata": {},
   "source": [
    "## Función de costo del ajuste"
   ]
  },
  {
   "cell_type": "code",
   "execution_count": null,
   "id": "6b7ea333-7866-4c10-a671-20cb02df6003",
   "metadata": {},
   "outputs": [],
   "source": [
    "def fit_cost(x, y, par):     \n",
    "    mu = fit_model(x, par)\n",
    "    cost = 0   \n",
    "    for mu1, y1 in zip(mu, y):\n",
    "        cost += poisson_cost(mu1, y1)\n",
    "    return cost"
   ]
  },
  {
   "cell_type": "code",
   "execution_count": null,
   "id": "0caa119c-b269-4c4b-b999-575b225ac74d",
   "metadata": {},
   "outputs": [],
   "source": [
    "J = lambda par: fit_cost(xdata, ydata, par)"
   ]
  },
  {
   "cell_type": "markdown",
   "id": "635a3510-89e8-4834-b92e-11a83fb467bd",
   "metadata": {},
   "source": [
    "## Minimización"
   ]
  },
  {
   "cell_type": "code",
   "execution_count": null,
   "id": "bd29580e-53df-4dfc-83d2-a2b096ae389a",
   "metadata": {},
   "outputs": [],
   "source": [
    "import numpy as np\n",
    "from scipy.optimize import minimize\n",
    "initial_parameters = np.array([1, 0, 1])\n",
    "res = minimize(J, x0=initial_parameters)\n",
    "res"
   ]
  },
  {
   "cell_type": "markdown",
   "id": "aa9e9821-aa87-44a3-bc77-c493056cfa50",
   "metadata": {},
   "source": [
    "## Parámetros"
   ]
  },
  {
   "cell_type": "code",
   "execution_count": null,
   "id": "1e948d61-f74c-41b9-b64d-60158def7bd4",
   "metadata": {},
   "outputs": [],
   "source": [
    "par_est = res.x\n",
    "cova = 2*res.hess_inv\n",
    "error = np.sqrt( np.diagonal(cova) )\n",
    "rho = cova[0][1]/(error[0]*error[1])\n",
    "print(f\"Normalization = {par_est[0]:.2f} ± {error[0]:.2f}\")\n",
    "print(f\"Mean = {par_est[1]:.3f} ± {error[1]:.3f}\")\n",
    "print(f\"Standard deviation = {par_est[2]:.3f} ± {error[2]:.3f}\")"
   ]
  },
  {
   "cell_type": "markdown",
   "id": "d18a8c42-30a0-4065-b461-356c7b53a658",
   "metadata": {},
   "source": [
    "## Bondad del ajuste"
   ]
  },
  {
   "cell_type": "code",
   "execution_count": null,
   "id": "aad630d3-dceb-4a64-a1ca-69fbd75d940d",
   "metadata": {},
   "outputs": [],
   "source": [
    "from scipy.stats import chi2\n",
    "cost_min = res.fun\n",
    "ndof = len(xdata) - len(par_est)\n",
    "pvalor = chi2.sf(cost_min, ndof)\n",
    "print(f'Jmin = {cost_min:.2f}')\n",
    "print(f'ndof = {ndof}')\n",
    "print(f'pvalor = {pvalor*100:.1f}%')"
   ]
  },
  {
   "cell_type": "markdown",
   "id": "732746f0-c202-49da-afc4-2ada8f1e3894",
   "metadata": {},
   "source": [
    "## Plot del ajuste"
   ]
  },
  {
   "cell_type": "code",
   "execution_count": null,
   "id": "fa4d08c2-390b-4ade-a293-b62bd6fde327",
   "metadata": {},
   "outputs": [],
   "source": [
    "xfit = np.linspace( xdata.min(), xdata.max(), 256)\n",
    "mu_est = fit_model(xfit, par_est)"
   ]
  },
  {
   "cell_type": "code",
   "execution_count": null,
   "id": "de468616-7a9d-450d-b2d8-81004dddfad5",
   "metadata": {},
   "outputs": [],
   "source": [
    "import matplotlib.pyplot as plt\n",
    "fig, ax = plt.subplots()\n",
    "ax.set_xlabel(\"x\")\n",
    "ax.set_ylabel(\"Events\")\n",
    "yerror = np.sqrt(ydata)\n",
    "ax.errorbar(xdata, ydata, yerror,ls='none', marker='o', ms=4, label=\"Data\")\n",
    "ax.plot(xfit, mu_est, label=\"Fit\")\n",
    "plt.legend()\n",
    "plt.show()"
   ]
  },
  {
   "cell_type": "code",
   "execution_count": null,
   "id": "67058c36-2b6f-4ab6-b65e-dbfaa1e43e96",
   "metadata": {},
   "outputs": [],
   "source": []
  }
 ],
 "metadata": {
  "kernelspec": {
   "display_name": "Python 3 (ipykernel)",
   "language": "python",
   "name": "python3"
  },
  "language_info": {
   "codemirror_mode": {
    "name": "ipython",
    "version": 3
   },
   "file_extension": ".py",
   "mimetype": "text/x-python",
   "name": "python",
   "nbconvert_exporter": "python",
   "pygments_lexer": "ipython3",
   "version": "3.10.12"
  }
 },
 "nbformat": 4,
 "nbformat_minor": 5
}
