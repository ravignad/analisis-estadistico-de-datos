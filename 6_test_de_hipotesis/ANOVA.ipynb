{
 "cells": [
  {
   "cell_type": "markdown",
   "metadata": {
    "id": "WQVmvPoRtCv5"
   },
   "source": [
    "# Edad de los ladrones de guante blanco"
   ]
  },
  {
   "cell_type": "markdown",
   "metadata": {
    "id": "vZullcrRw9fi"
   },
   "source": [
    "Fuente: Statistics in Criminal Justice, David Weisburd, Chester Britt, https://doi.org/10.1007/978-1-4614-9170-5"
   ]
  },
  {
   "cell_type": "markdown",
   "metadata": {
    "id": "ajVF4068t9Hu"
   },
   "source": [
    "**Hipótesis nula**: La edad media de los tres delitos es igual"
   ]
  },
  {
   "cell_type": "code",
   "execution_count": null,
   "metadata": {
    "id": "tVFnFkJ6SYZQ"
   },
   "outputs": [],
   "source": [
    "import numpy as np\n",
    "import pandas as pd\n",
    "import matplotlib.pyplot as plt\n",
    "import scipy.stats"
   ]
  },
  {
   "cell_type": "markdown",
   "metadata": {},
   "source": [
    "## Datos"
   ]
  },
  {
   "cell_type": "markdown",
   "metadata": {
    "id": "K15TuhXHXfIg"
   },
   "source": [
    "Edades por delito"
   ]
  },
  {
   "cell_type": "code",
   "execution_count": null,
   "metadata": {
    "colab": {
     "base_uri": "https://localhost:8080/"
    },
    "id": "FxPF4edVWx3-",
    "outputId": "2a0ed12a-b1ef-4261-8e3f-ee5b65aa6c56",
    "scrolled": true
   },
   "outputs": [],
   "source": [
    "guante_blanco = pd.read_csv(\"guante_blanco.csv\", index_col=0)\n",
    "guante_blanco"
   ]
  },
  {
   "cell_type": "code",
   "execution_count": null,
   "metadata": {
    "id": "u8pYpW46exkW"
   },
   "outputs": [],
   "source": [
    "sample_size = guante_blanco.size\n",
    "sample_size"
   ]
  },
  {
   "cell_type": "code",
   "execution_count": null,
   "metadata": {},
   "outputs": [],
   "source": [
    "group_size = len(guante_blanco.index)\n",
    "group_size"
   ]
  },
  {
   "cell_type": "code",
   "execution_count": null,
   "metadata": {},
   "outputs": [],
   "source": [
    "number_of_groups = len(guante_blanco.columns)\n",
    "number_of_groups"
   ]
  },
  {
   "cell_type": "code",
   "execution_count": null,
   "metadata": {},
   "outputs": [],
   "source": [
    "fig, ax = plt.subplots()\n",
    "ax.set_xlabel(\"Delito\")\n",
    "ax.set_ylabel(\"Edad\")\n",
    "ax.errorbar(x=guante_blanco.columns, y=guante_blanco.mean(), yerr=guante_blanco.std(), ls='', marker='o')"
   ]
  },
  {
   "cell_type": "markdown",
   "metadata": {},
   "source": [
    "## Suma de los cuadrados **dentro** de los grupos (SSW)"
   ]
  },
  {
   "cell_type": "markdown",
   "metadata": {},
   "source": [
    "*Nota*: Las varianzas muestrales usan el denominador n-1 (corrección de Bessel)"
   ]
  },
  {
   "cell_type": "code",
   "execution_count": null,
   "metadata": {},
   "outputs": [],
   "source": [
    "group_var = guante_blanco.var()\n",
    "group_var"
   ]
  },
  {
   "cell_type": "code",
   "execution_count": null,
   "metadata": {},
   "outputs": [],
   "source": [
    "square_sum_within = (group_size-1) * group_var.sum()\n",
    "square_sum_within"
   ]
  },
  {
   "cell_type": "markdown",
   "metadata": {},
   "source": [
    "## Suma de los cuadrados **entre** grupos (SSB)"
   ]
  },
  {
   "cell_type": "code",
   "execution_count": null,
   "metadata": {},
   "outputs": [],
   "source": [
    "age_mean = guante_blanco.mean()\n",
    "age_mean"
   ]
  },
  {
   "cell_type": "code",
   "execution_count": null,
   "metadata": {},
   "outputs": [],
   "source": [
    "square_sum_between = group_size * (number_of_groups-1) * age_mean.var()\n",
    "square_sum_between"
   ]
  },
  {
   "cell_type": "markdown",
   "metadata": {},
   "source": [
    "## Suma de los cuadrados total (SST)"
   ]
  },
  {
   "cell_type": "markdown",
   "metadata": {},
   "source": [
    "Verificamos que la suma de los cuadrados total es igual a la suma de las contribuciones entre y dentro de los grupos "
   ]
  },
  {
   "cell_type": "code",
   "execution_count": null,
   "metadata": {},
   "outputs": [],
   "source": [
    "square_sum_total = (sample_size - 1) * guante_blanco.stack().var()\n",
    "square_sum_total"
   ]
  },
  {
   "cell_type": "code",
   "execution_count": null,
   "metadata": {},
   "outputs": [],
   "source": [
    "square_sum_within + square_sum_between"
   ]
  },
  {
   "cell_type": "markdown",
   "metadata": {},
   "source": [
    "## Estadístico F observado"
   ]
  },
  {
   "cell_type": "code",
   "execution_count": null,
   "metadata": {
    "colab": {
     "base_uri": "https://localhost:8080/"
    },
    "id": "ZxJ8ZhEyiWLy",
    "outputId": "50b82245-9583-427e-d366-385877f0c2a9"
   },
   "outputs": [],
   "source": [
    "ndof_between = number_of_groups - 1\n",
    "ndof_between"
   ]
  },
  {
   "cell_type": "code",
   "execution_count": null,
   "metadata": {},
   "outputs": [],
   "source": [
    "ndof_within = sample_size - number_of_groups\n",
    "ndof_within"
   ]
  },
  {
   "cell_type": "code",
   "execution_count": null,
   "metadata": {},
   "outputs": [],
   "source": [
    "ndof_total = sample_size - 1\n",
    "ndof_total"
   ]
  },
  {
   "cell_type": "code",
   "execution_count": null,
   "metadata": {},
   "outputs": [],
   "source": [
    "F_observed = ( square_sum_between / ndof_between ) / (square_sum_within / ndof_within)\n",
    "F_observed"
   ]
  },
  {
   "cell_type": "markdown",
   "metadata": {},
   "source": [
    "## Pvalor"
   ]
  },
  {
   "cell_type": "code",
   "execution_count": null,
   "metadata": {},
   "outputs": [],
   "source": [
    "F_distribution = scipy.stats.f(ndof_between, ndof_within)\n",
    "pvalue = F_distribution.sf(F_observed)\n",
    "pvalue"
   ]
  },
  {
   "cell_type": "markdown",
   "metadata": {
    "id": "Mjq5fdXIzi3R"
   },
   "source": [
    "## Test de Fisher con scipy"
   ]
  },
  {
   "cell_type": "code",
   "execution_count": null,
   "metadata": {},
   "outputs": [],
   "source": [
    "print(*guante_blanco.values.T)"
   ]
  },
  {
   "cell_type": "code",
   "execution_count": null,
   "metadata": {
    "colab": {
     "base_uri": "https://localhost:8080/"
    },
    "id": "Lhcp-dMizrES",
    "outputId": "e000a51b-667c-4b83-a241-cd07ef44e1f1"
   },
   "outputs": [],
   "source": [
    "F_observed, pvalue = scipy.stats.f_oneway(*guante_blanco.values.T)\n",
    "print(f\"F observed = {F_observed}\")\n",
    "print(f\"Pvalue = {pvalue}\")"
   ]
  },
  {
   "cell_type": "markdown",
   "metadata": {},
   "source": [
    "## Plot"
   ]
  },
  {
   "cell_type": "code",
   "execution_count": null,
   "metadata": {
    "colab": {
     "base_uri": "https://localhost:8080/",
     "height": 466
    },
    "id": "wC7JVruSmOt4",
    "outputId": "355e5e8d-28ef-4337-b9af-d59f5e4f3eb7"
   },
   "outputs": [],
   "source": [
    "fig2, ax2 = plt.subplots()\n",
    "ax2.set_xlabel(\"F statistic\")\n",
    "ax2.set_ylabel(\"PDF\")\n",
    "x = np.linspace(0, 20, 100)\n",
    "y = scipy.stats.f.pdf(x, ndof_between, ndof_within)\n",
    "ax2.plot(x,y)\n",
    "trans = ax2.get_xaxis_transform()\n",
    "ax2.axvline(F_observed, color='tab:orange', ls='--')\n",
    "plt.text(F_observed, .5, r\" $F_{observed}$\", transform=trans)"
   ]
  },
  {
   "cell_type": "code",
   "execution_count": null,
   "metadata": {},
   "outputs": [],
   "source": []
  }
 ],
 "metadata": {
  "colab": {
   "provenance": []
  },
  "kernelspec": {
   "display_name": "Python 3 (ipykernel)",
   "language": "python",
   "name": "python3"
  },
  "language_info": {
   "codemirror_mode": {
    "name": "ipython",
    "version": 3
   },
   "file_extension": ".py",
   "mimetype": "text/x-python",
   "name": "python",
   "nbconvert_exporter": "python",
   "pygments_lexer": "ipython3",
   "version": "3.10.12"
  }
 },
 "nbformat": 4,
 "nbformat_minor": 4
}
