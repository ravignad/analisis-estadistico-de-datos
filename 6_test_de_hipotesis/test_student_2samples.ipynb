{
 "cells": [
  {
   "cell_type": "markdown",
   "metadata": {
    "id": "wPgbGnCm7dLY"
   },
   "source": [
    "# Test del efecto hipnótico de la hiosciamina"
   ]
  },
  {
   "cell_type": "markdown",
   "metadata": {
    "id": "AkGKIGGM7dLe"
   },
   "source": [
    "## Test de Student con dos muestras"
   ]
  },
  {
   "cell_type": "markdown",
   "metadata": {
    "id": "vNGqiJYg7dLb"
   },
   "source": [
    "The probable error of a mean, Student, Biometrika volumen 6, issue 1, (1908), section IX, pág. 20."
   ]
  },
  {
   "cell_type": "code",
   "execution_count": null,
   "metadata": {
    "executionInfo": {
     "elapsed": 1918,
     "status": "ok",
     "timestamp": 1698339209627,
     "user": {
      "displayName": "Diego Ravignani Guerrero",
      "userId": "10540030550289703153"
     },
     "user_tz": 180
    },
    "id": "CksT_ndY7dLb"
   },
   "outputs": [],
   "source": [
    "import math\n",
    "import numpy as np\n",
    "import matplotlib.pyplot as plt\n",
    "import pandas as pd\n",
    "import scipy.stats"
   ]
  },
  {
   "cell_type": "markdown",
   "metadata": {
    "id": "bk1hF4gd7dLe"
   },
   "source": [
    "**Hipótesis nula**  $H_0$: Levo es igual de hipnótica que dextro  \n",
    "**Hipótesis alternativa** $H_1$: Levo es más hipnótica que dextro "
   ]
  },
  {
   "cell_type": "markdown",
   "metadata": {
    "id": "h7PhdtEG7dLc"
   },
   "source": [
    "**Datos**"
   ]
  },
  {
   "cell_type": "code",
   "execution_count": null,
   "metadata": {
    "colab": {
     "base_uri": "https://localhost:8080/",
     "height": 363
    },
    "executionInfo": {
     "elapsed": 27,
     "status": "ok",
     "timestamp": 1698339238872,
     "user": {
      "displayName": "Diego Ravignani Guerrero",
      "userId": "10540030550289703153"
     },
     "user_tz": 180
    },
    "id": "rNS7bO6S7dLc",
    "outputId": "457bdda4-c050-4d65-8dd7-681a04080cc6"
   },
   "outputs": [],
   "source": [
    "scyamine_data = pd.read_csv(\"test_student.csv\")\n",
    "scyamine_data['Difference'] = scyamine_data['Levo']-scyamine_data['Dextro']\n",
    "scyamine_data"
   ]
  },
  {
   "cell_type": "markdown",
   "metadata": {},
   "source": [
    "Evento: $\\bar{Y} = \\bar{y}$"
   ]
  },
  {
   "cell_type": "code",
   "execution_count": null,
   "metadata": {
    "colab": {
     "base_uri": "https://localhost:8080/"
    },
    "executionInfo": {
     "elapsed": 348,
     "status": "ok",
     "timestamp": 1698340840451,
     "user": {
      "displayName": "Diego Ravignani Guerrero",
      "userId": "10540030550289703153"
     },
     "user_tz": 180
    },
    "id": "JNvKy5Hy7dLe",
    "outputId": "12457578-6c1d-4257-ef50-a00f67369fcf"
   },
   "outputs": [],
   "source": [
    "sample_mean = scyamine_data['Difference'].mean()\n",
    "print(\"Media de los datos: $\\\\bar{y}$=\", sample_mean)"
   ]
  },
  {
   "cell_type": "markdown",
   "metadata": {},
   "source": [
    "Evento: $S = s$"
   ]
  },
  {
   "cell_type": "code",
   "execution_count": null,
   "metadata": {
    "colab": {
     "base_uri": "https://localhost:8080/"
    },
    "executionInfo": {
     "elapsed": 354,
     "status": "ok",
     "timestamp": 1698340851525,
     "user": {
      "displayName": "Diego Ravignani Guerrero",
      "userId": "10540030550289703153"
     },
     "user_tz": 180
    },
    "id": "XtrZlp077dLf",
    "outputId": "78930f46-3a35-4f48-d1a0-6a2741a69ade"
   },
   "outputs": [],
   "source": [
    "sample_std = scyamine_data['Difference'].std(ddof=1)\n",
    "print(\"Desviación estándar de los datos: \", sample_std)"
   ]
  },
  {
   "cell_type": "code",
   "execution_count": null,
   "metadata": {
    "colab": {
     "base_uri": "https://localhost:8080/"
    },
    "executionInfo": {
     "elapsed": 342,
     "status": "ok",
     "timestamp": 1698340882219,
     "user": {
      "displayName": "Diego Ravignani Guerrero",
      "userId": "10540030550289703153"
     },
     "user_tz": 180
    },
    "id": "6772dh_17dLf",
    "outputId": "874f9e9b-57b1-41cc-d5af-e69af989beb5",
    "scrolled": true
   },
   "outputs": [],
   "source": [
    "ndata = len(scyamine_data.index)\n",
    "sample_mean_std = sample_std/ math.sqrt(ndata)\n",
    "print(\"Desviación estándar muestral de la media muestral: \", sample_mean_std )"
   ]
  },
  {
   "cell_type": "markdown",
   "metadata": {
    "id": "B-B9bhZj7dLf"
   },
   "source": [
    "Estadística t de Student"
   ]
  },
  {
   "cell_type": "code",
   "execution_count": null,
   "metadata": {
    "colab": {
     "base_uri": "https://localhost:8080/"
    },
    "executionInfo": {
     "elapsed": 432,
     "status": "ok",
     "timestamp": 1698340901876,
     "user": {
      "displayName": "Diego Ravignani Guerrero",
      "userId": "10540030550289703153"
     },
     "user_tz": 180
    },
    "id": "8LbL1FYh7dLf",
    "outputId": "341dfe71-125b-4421-cc6d-f8d1da1cc7df"
   },
   "outputs": [],
   "source": [
    "t_observed = sample_mean / sample_mean_std\n",
    "t_observed"
   ]
  },
  {
   "cell_type": "code",
   "execution_count": null,
   "metadata": {
    "colab": {
     "base_uri": "https://localhost:8080/"
    },
    "executionInfo": {
     "elapsed": 363,
     "status": "ok",
     "timestamp": 1698340969141,
     "user": {
      "displayName": "Diego Ravignani Guerrero",
      "userId": "10540030550289703153"
     },
     "user_tz": 180
    },
    "id": "vNPheZMl7dLf",
    "outputId": "e4bd386a-1964-470c-9b7c-609a5a2985af"
   },
   "outputs": [],
   "source": [
    "ndof = ndata - 1\n",
    "pvalue = scipy.stats.t.sf(t_observed, df=ndof)\n",
    "print(f\"Pvalue: {pvalue:.2e}\")"
   ]
  },
  {
   "cell_type": "code",
   "execution_count": null,
   "metadata": {
    "colab": {
     "base_uri": "https://localhost:8080/",
     "height": 633
    },
    "executionInfo": {
     "elapsed": 652,
     "status": "ok",
     "timestamp": 1698340986083,
     "user": {
      "displayName": "Diego Ravignani Guerrero",
      "userId": "10540030550289703153"
     },
     "user_tz": 180
    },
    "id": "pM4FyHNp7dLf",
    "outputId": "9d139928-6cc9-47d8-dc36-04794f390d1f",
    "scrolled": true
   },
   "outputs": [],
   "source": [
    "fig2, ax2 = plt.subplots()\n",
    "ax2.set_xlabel(\"t\")\n",
    "ax2.set_ylabel(\"f(t)\")\n",
    "x = np.linspace(-5,5,1000)\n",
    "ax2.plot(x, scipy.stats.t.pdf(x, ndof), ls='--', color='tab:grey', label=\"PDF\")\n",
    "ax2.axvline(t_observed, color='tab:blue', label=r\"$t_{obs}$\")\n",
    "ax2.legend()\n",
    "plt.show()"
   ]
  },
  {
   "cell_type": "markdown",
   "metadata": {},
   "source": [
    "## Test de Student de dos muestras con scipy"
   ]
  },
  {
   "cell_type": "markdown",
   "metadata": {},
   "source": [
    "Las horas de sueño ganadas dependen de cada paciente. Los pacientes que durmieron más con la hiosciamina levo también durmieron más la dextro. En términos estadísticos significa que las variables $X_1$: {horas ganadas con dextro} y $X_2$: {horas ganadas con levo} están correlacionadas. Por lo tanto, aplico la versión correlacionada del test de Student de dos muestras con la función [scipy.stats.ttest_rel](https://docs.scipy.org/doc/scipy/reference/generated/scipy.stats.ttest_rel.html). "
   ]
  },
  {
   "cell_type": "markdown",
   "metadata": {},
   "source": [
    "El argumento `alternative='greater'` corresponde al test de la cola superior. La elección de la cola superior corresponde a la hipótesis "
   ]
  },
  {
   "cell_type": "code",
   "execution_count": null,
   "metadata": {},
   "outputs": [],
   "source": [
    "t_obs, pvalue = scipy.stats.ttest_rel(scyamine_data[\"Levo\"], scyamine_data[\"Dextro\"], alternative='greater')\n",
    "print(f\"t observado = {t_obs:.2f}\")\n",
    "print(f\"pvalue = {pvalue*100:.2f}%\")"
   ]
  },
  {
   "cell_type": "markdown",
   "metadata": {},
   "source": [
    "Si las muestras no están correlacionadas corresponde aplicar la versión independiente del test con scipy.stats.ttest_ind.    "
   ]
  },
  {
   "cell_type": "markdown",
   "metadata": {
    "id": "eZy8lfgi7dLf"
   },
   "source": [
    "## Informe del resultado"
   ]
  },
  {
   "cell_type": "code",
   "execution_count": null,
   "metadata": {
    "colab": {
     "base_uri": "https://localhost:8080/"
    },
    "executionInfo": {
     "elapsed": 374,
     "status": "ok",
     "timestamp": 1698341025071,
     "user": {
      "displayName": "Diego Ravignani Guerrero",
      "userId": "10540030550289703153"
     },
     "user_tz": 180
    },
    "id": "3XKFNgKL7dLf",
    "outputId": "11c91049-e6a8-4885-bb4f-3ed7bca4d73e"
   },
   "outputs": [],
   "source": [
    "alpha = pvalue\n",
    "print(f\"La hiosciamina levo es más hipnótica que la dextro con una signficancia de {100*alpha:.2f}%\")"
   ]
  },
  {
   "cell_type": "code",
   "execution_count": null,
   "metadata": {
    "colab": {
     "base_uri": "https://localhost:8080/"
    },
    "executionInfo": {
     "elapsed": 341,
     "status": "ok",
     "timestamp": 1698341062753,
     "user": {
      "displayName": "Diego Ravignani Guerrero",
      "userId": "10540030550289703153"
     },
     "user_tz": 180
    },
    "id": "sOer68CZ7dLf",
    "outputId": "7916d158-121e-446e-99ec-7a86e3a22e6e"
   },
   "outputs": [],
   "source": [
    "CL = 1 - alpha\n",
    "print(f\"La hiosciamina levo es más hipnótica que la dextro con un nivel de confianza de {100*CL:.2f}%\")"
   ]
  },
  {
   "cell_type": "code",
   "execution_count": null,
   "metadata": {},
   "outputs": [],
   "source": [
    "nsigmas = scipy.stats.norm.ppf(CL)\n",
    "print(f\"La hiosciamina levo es más hipnótica que la dextro con un nivel de confianza de {nsigmas:.1f} sigmas\")"
   ]
  },
  {
   "cell_type": "code",
   "execution_count": null,
   "metadata": {},
   "outputs": [],
   "source": []
  }
 ],
 "metadata": {
  "colab": {
   "provenance": []
  },
  "kernelspec": {
   "display_name": "Python 3 (ipykernel)",
   "language": "python",
   "name": "python3"
  },
  "language_info": {
   "codemirror_mode": {
    "name": "ipython",
    "version": 3
   },
   "file_extension": ".py",
   "mimetype": "text/x-python",
   "name": "python",
   "nbconvert_exporter": "python",
   "pygments_lexer": "ipython3",
   "version": "3.10.12"
  }
 },
 "nbformat": 4,
 "nbformat_minor": 4
}
