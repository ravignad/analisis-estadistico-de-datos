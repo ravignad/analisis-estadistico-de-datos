{
 "cells": [
  {
   "cell_type": "markdown",
   "id": "f244d137-c6ff-498d-8463-976823087fba",
   "metadata": {},
   "source": [
    "# Breast cancer classification"
   ]
  },
  {
   "cell_type": "markdown",
   "id": "0124e381-768b-47ac-98cf-af58ebf198c4",
   "metadata": {},
   "source": [
    "Example taken from https://www.learndatasci.com/glossary/binary-classification/"
   ]
  },
  {
   "cell_type": "code",
   "execution_count": null,
   "id": "8eb6159a-88bc-45d6-8219-ae3b66b5563b",
   "metadata": {},
   "outputs": [],
   "source": [
    "import pandas as pd\n",
    "import matplotlib.pyplot as plt"
   ]
  },
  {
   "cell_type": "markdown",
   "id": "ea7a7fff-0f5a-4e1a-baf0-d2c8367b5e00",
   "metadata": {},
   "source": [
    "## Data"
   ]
  },
  {
   "cell_type": "markdown",
   "id": "3603f23b-cb67-4413-aa46-aaf9144f799e",
   "metadata": {},
   "source": [
    "Install sklearn if necessary"
   ]
  },
  {
   "cell_type": "code",
   "execution_count": null,
   "id": "6e7b4aae-9c1a-4139-9f8c-edd16f41498e",
   "metadata": {},
   "outputs": [],
   "source": [
    "# pip install scikit-learn"
   ]
  },
  {
   "cell_type": "code",
   "execution_count": null,
   "id": "3c6a61c8-7fbf-4364-80fc-f1ab960f90b9",
   "metadata": {},
   "outputs": [],
   "source": [
    "import sklearn.datasets\n",
    "dataset = sklearn.datasets.load_breast_cancer(as_frame=True)"
   ]
  },
  {
   "cell_type": "code",
   "execution_count": null,
   "id": "7d5457e5-481f-4e0c-87be-a03a6e546631",
   "metadata": {},
   "outputs": [],
   "source": [
    "dataset['data'].head()"
   ]
  },
  {
   "cell_type": "code",
   "execution_count": null,
   "id": "0493fd7e-57d9-4f7c-a5a7-9c50d0d50c3a",
   "metadata": {},
   "outputs": [],
   "source": [
    "dataset['target'].value_counts()"
   ]
  },
  {
   "cell_type": "code",
   "execution_count": null,
   "id": "0d355434-e0c9-42e6-99c8-ffc55725cd8c",
   "metadata": {},
   "outputs": [],
   "source": [
    "X = dataset['data']\n",
    "y = dataset['target']\n",
    "y"
   ]
  },
  {
   "cell_type": "markdown",
   "id": "44f12812-443e-4f30-bf76-b9d0998f1c34",
   "metadata": {},
   "source": [
    "## Train and test sets"
   ]
  },
  {
   "cell_type": "code",
   "execution_count": null,
   "id": "c69db914-5228-4fd2-aa2a-9affac23bd68",
   "metadata": {},
   "outputs": [],
   "source": [
    "import sklearn.model_selection\n",
    "X_train, X_test, y_train, y_test = sklearn.model_selection.train_test_split(X, y , test_size=0.5, random_state=0)"
   ]
  },
  {
   "cell_type": "code",
   "execution_count": null,
   "id": "e72eb93d-d8b3-4bb2-ba8e-c41554b8fd86",
   "metadata": {},
   "outputs": [],
   "source": [
    "X_train"
   ]
  },
  {
   "cell_type": "code",
   "execution_count": null,
   "id": "97c0afa7-6f67-4ed3-971f-6e5e6f788adb",
   "metadata": {},
   "outputs": [],
   "source": [
    "X_test"
   ]
  },
  {
   "cell_type": "markdown",
   "id": "205e7795-e5c9-467b-a8ea-b6ec11c10d64",
   "metadata": {},
   "source": [
    "Standarize the explanatory variables $z = (x-\\bar{x})/s$"
   ]
  },
  {
   "cell_type": "code",
   "execution_count": null,
   "id": "c6a88012-e26e-4029-a138-be70904bcffc",
   "metadata": {},
   "outputs": [],
   "source": [
    "import sklearn.preprocessing\n",
    "ss_train = sklearn.preprocessing.StandardScaler()\n",
    "X_train = ss_train.fit_transform(X_train)\n",
    "X_train[0]"
   ]
  },
  {
   "cell_type": "code",
   "execution_count": null,
   "id": "d97ee4dc-a67b-4f34-9bc1-1f2bc66ff484",
   "metadata": {},
   "outputs": [],
   "source": [
    "ss_test = sklearn.preprocessing.StandardScaler()\n",
    "X_test = ss_test.fit_transform(X_test)\n",
    "X_test\n",
    "X_test[0]"
   ]
  },
  {
   "cell_type": "markdown",
   "id": "56dcc65d-5b44-4b57-a6aa-149076d401a4",
   "metadata": {},
   "source": [
    "## Logistic Regression"
   ]
  },
  {
   "cell_type": "code",
   "execution_count": null,
   "id": "3d790c0b-00a3-4217-a8ba-bc0a87a7c7b3",
   "metadata": {},
   "outputs": [],
   "source": [
    "import sklearn.linear_model\n",
    "model = sklearn.linear_model.LogisticRegression()\n",
    "model.fit(X_train, y_train)"
   ]
  },
  {
   "cell_type": "code",
   "execution_count": null,
   "id": "47349d5e-7409-4ae2-884d-847f7e25b8b1",
   "metadata": {},
   "outputs": [],
   "source": [
    "predictions = model.predict(X_test)\n",
    "pd.set_option('display.max_rows', 500)\n",
    "pd.DataFrame({\"Prediction\": predictions, \"Target\": y_test})"
   ]
  },
  {
   "cell_type": "markdown",
   "id": "d43fb2f3-9dba-44f2-86d0-a5bf18907fac",
   "metadata": {},
   "source": [
    "## Confusion matrix"
   ]
  },
  {
   "cell_type": "code",
   "execution_count": null,
   "id": "e15c3191-a822-43c1-b867-bb0788a8d937",
   "metadata": {},
   "outputs": [],
   "source": [
    "import sklearn.metrics\n",
    "cm_array = sklearn.metrics.confusion_matrix(y_test, predictions)\n",
    "confusion_matrix = pd.DataFrame(cm_array.T, index=(\"Negative\", \"Positive\"), columns=(\"Benign\",\"Malign\"))\n",
    "confusion_matrix"
   ]
  },
  {
   "cell_type": "code",
   "execution_count": null,
   "id": "ef50dd2f-5b30-4337-87ab-50be50d6993a",
   "metadata": {},
   "outputs": [],
   "source": [
    "test_patients = confusion_matrix.to_numpy().sum()\n",
    "print(f\"Total test patients: {test_patients}\")\n",
    "benigns = confusion_matrix[\"Benign\"].sum()\n",
    "print(f\"Benigns: {benigns}\")\n",
    "maligns = confusion_matrix[\"Malign\"].sum()\n",
    "print(f\"Maligns: {maligns}\")\n",
    "negatives = confusion_matrix.loc[\"Negative\"].sum()\n",
    "print(f\"Negatives: {negatives}\")\n",
    "positives = confusion_matrix.loc[\"Positive\"].sum()\n",
    "print(f\"Positives: {positives}\")"
   ]
  },
  {
   "cell_type": "code",
   "execution_count": null,
   "id": "35dd27bc-6341-4ad0-9c77-909809f5dd33",
   "metadata": {},
   "outputs": [],
   "source": [
    "true_negatives = confusion_matrix.loc[\"Negative\", \"Benign\"]\n",
    "print(f\"True negatives: {true_negatives}\")\n",
    "false_negatives = confusion_matrix.loc[\"Negative\", \"Malign\"]\n",
    "print(f\"False negatives: {false_negatives}\")\n",
    "false_positives = confusion_matrix.loc[\"Positive\", \"Benign\"]\n",
    "print(f\"False positives: {false_positives}\")\n",
    "true_positives = confusion_matrix.loc[\"Positive\", \"Malign\"]\n",
    "print(f\"True positives: {true_positives}\")"
   ]
  },
  {
   "cell_type": "markdown",
   "id": "e4aec6f9-d16d-4566-bb50-03b2cee2fd80",
   "metadata": {},
   "source": [
    "## Sensitivity and specificity (medical jargon)"
   ]
  },
  {
   "cell_type": "code",
   "execution_count": null,
   "id": "28c860ab-2bf9-4c0b-a61e-edc1bd8e194e",
   "metadata": {},
   "outputs": [],
   "source": [
    "sensitivity = true_positives / maligns\n",
    "print(f\"Sensitivity {sensitivity:.3f}\")\n",
    "specificity = true_negatives / benigns\n",
    "print(f\"Specificity {specificity:.3f}\")"
   ]
  },
  {
   "cell_type": "markdown",
   "id": "a12d4cd0-f67d-4280-b32a-8723b60945a1",
   "metadata": {},
   "source": [
    "https://en.wikipedia.org/wiki/Sensitivity_and_specificity\n",
    "- **Sensitivity**: test power\n",
    "- **Specificity**: test confidence level"
   ]
  },
  {
   "cell_type": "markdown",
   "id": "4ebc9546-b4d0-49ca-9bbe-2edd3d6b9d6c",
   "metadata": {},
   "source": [
    "## Precision, recall and accuracy (data science)"
   ]
  },
  {
   "cell_type": "code",
   "execution_count": null,
   "id": "bbca112d-2149-49cb-a283-9ba4dd72dd7f",
   "metadata": {},
   "outputs": [],
   "source": [
    "precision = true_positives / positives \n",
    "print(f\"Precision: {precision:.3f}\")\n",
    "recall = true_positives / maligns   \n",
    "print(f\"Recall: {recall:.3f}\")\n",
    "accuracy = (true_negatives + true_positives) / test_patients\n",
    "print(f\"Accuracy: {accuracy:.3f}\")"
   ]
  },
  {
   "attachments": {},
   "cell_type": "markdown",
   "id": "126a1fa9-3a93-4a72-8454-81323d7524a7",
   "metadata": {},
   "source": [
    "https://en.wikipedia.org/wiki/Precision_and_recall\n",
    "- **Recall** = test power = sensitivity\n",
    "- **Precision** ≠ confidence level  "
   ]
  },
  {
   "cell_type": "markdown",
   "id": "284e9e27-bc0c-4495-8b9f-1b7c3a15ae44",
   "metadata": {},
   "source": [
    "## Efficiency and contamination (High energy physics)"
   ]
  },
  {
   "cell_type": "code",
   "execution_count": null,
   "id": "ca084ffa-ad8e-4eee-a8d3-cba7b1bb8104",
   "metadata": {},
   "outputs": [],
   "source": [
    "efficiency = true_positives / maligns\n",
    "contamination = false_positives / positives"
   ]
  },
  {
   "cell_type": "markdown",
   "id": "c48df439-10b2-479a-8bb7-2ac54efddd49",
   "metadata": {},
   "source": [
    "- **Efficiency** = test power = sensitivity = recall\n",
    "- **Contamination** = 1 - precision  "
   ]
  }
 ],
 "metadata": {
  "kernelspec": {
   "display_name": "Python 3 (ipykernel)",
   "language": "python",
   "name": "python3"
  },
  "language_info": {
   "codemirror_mode": {
    "name": "ipython",
    "version": 3
   },
   "file_extension": ".py",
   "mimetype": "text/x-python",
   "name": "python",
   "nbconvert_exporter": "python",
   "pygments_lexer": "ipython3",
   "version": "3.10.12"
  }
 },
 "nbformat": 4,
 "nbformat_minor": 5
}
