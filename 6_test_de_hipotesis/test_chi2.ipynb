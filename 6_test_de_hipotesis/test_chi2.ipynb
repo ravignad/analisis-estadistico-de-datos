{
 "cells": [
  {
   "cell_type": "markdown",
   "metadata": {
    "id": "sjOrdnuM7cet"
   },
   "source": [
    "## Test chi-cuadrado para histogramas"
   ]
  },
  {
   "cell_type": "markdown",
   "metadata": {
    "id": "p4r0W04K7cev"
   },
   "source": [
    "Correr la demo para el conjunto de 1000 datos primero para mostrar que la hipótesis nula no puede ser rechazada. Tengo dos opciones: 1) medir más datos o 2) dejar de medir no rechazar la hipótesis nula. Elijo la opción 1: corro el script para 10000 datos y muestro que se rechaza la hipótesis nula."
   ]
  },
  {
   "cell_type": "code",
   "execution_count": null,
   "metadata": {
    "executionInfo": {
     "elapsed": 1306,
     "status": "ok",
     "timestamp": 1698172018347,
     "user": {
      "displayName": "Diego Ravignani Guerrero",
      "userId": "10540030550289703153"
     },
     "user_tz": 180
    },
    "id": "bmTNQTnk7cew"
   },
   "outputs": [],
   "source": [
    "import math\n",
    "import numpy as np\n",
    "import matplotlib.pyplot as plt\n",
    "import scipy.stats"
   ]
  },
  {
   "cell_type": "code",
   "execution_count": null,
   "metadata": {
    "colab": {
     "base_uri": "https://localhost:8080/"
    },
    "executionInfo": {
     "elapsed": 10,
     "status": "ok",
     "timestamp": 1698172020640,
     "user": {
      "displayName": "Diego Ravignani Guerrero",
      "userId": "10540030550289703153"
     },
     "user_tz": 180
    },
    "id": "M1PoigK17cex",
    "outputId": "66483f18-9671-4cf3-9055-fe00482dcabd"
   },
   "outputs": [],
   "source": [
    "datos = np.loadtxt('test_chi2_1k.txt') # muestra de 1.000 datos\n",
    "# datos = np.loadtxt('test_chi2_10k.txt') # muestra de 10.000 datos"
   ]
  },
  {
   "cell_type": "markdown",
   "metadata": {
    "id": "vHxlp5Rs7cex"
   },
   "source": [
    "Histograma"
   ]
  },
  {
   "cell_type": "code",
   "execution_count": null,
   "metadata": {
    "executionInfo": {
     "elapsed": 8,
     "status": "ok",
     "timestamp": 1698172020641,
     "user": {
      "displayName": "Diego Ravignani Guerrero",
      "userId": "10540030550289703153"
     },
     "user_tz": 180
    },
    "id": "n4k5pcBu7cex"
   },
   "outputs": [],
   "source": [
    "histo, borde_bin = np.histogram(datos, bins=20, range=[-3, 3])\n",
    "centro_bin = ( borde_bin[0:-1] + borde_bin[1:] ) / 2"
   ]
  },
  {
   "cell_type": "markdown",
   "metadata": {
    "id": "RNcEIrs97cex"
   },
   "source": [
    "Parámetros de la PDF según la hipótesis nula $H_0$ (distribución normal estándar)"
   ]
  },
  {
   "cell_type": "code",
   "execution_count": null,
   "metadata": {
    "executionInfo": {
     "elapsed": 7,
     "status": "ok",
     "timestamp": 1698172020641,
     "user": {
      "displayName": "Diego Ravignani Guerrero",
      "userId": "10540030550289703153"
     },
     "user_tz": 180
    },
    "id": "Ksp-vt3t7cey"
   },
   "outputs": [],
   "source": [
    "mu = 0\n",
    "sigma = 1"
   ]
  },
  {
   "cell_type": "markdown",
   "metadata": {
    "id": "YR1qH4bY7cey"
   },
   "source": [
    "## Plot datos y PDF "
   ]
  },
  {
   "cell_type": "code",
   "execution_count": null,
   "metadata": {
    "executionInfo": {
     "elapsed": 9,
     "status": "ok",
     "timestamp": 1698172021258,
     "user": {
      "displayName": "Diego Ravignani Guerrero",
      "userId": "10540030550289703153"
     },
     "user_tz": 180
    },
    "id": "tEr__8ZJ7cey"
   },
   "outputs": [],
   "source": [
    "ndatos = len(datos)\n",
    "ancho_bin = borde_bin[1] - borde_bin[0]\n",
    "mu = scipy.stats.norm.pdf(centro_bin, loc=mu, scale=sigma)  * ndatos * ancho_bin"
   ]
  },
  {
   "cell_type": "code",
   "execution_count": null,
   "metadata": {
    "colab": {
     "base_uri": "https://localhost:8080/",
     "height": 556
    },
    "executionInfo": {
     "elapsed": 839,
     "status": "ok",
     "timestamp": 1698172022088,
     "user": {
      "displayName": "Diego Ravignani Guerrero",
      "userId": "10540030550289703153"
     },
     "user_tz": 180
    },
    "id": "xuYwV7p37cey",
    "outputId": "ab39ee42-751e-40c4-d65c-7da051d93c7d"
   },
   "outputs": [],
   "source": [
    "fig1, ax1 = plt.subplots()\n",
    "ax1.set_xlabel(\"x\")\n",
    "ax1.set_ylabel(\"Frecuencia\")\n",
    "ax1.plot(centro_bin, histo, 'o', label=\"Datos\")\n",
    "ax1.plot(centro_bin, mu, 's', label=\"N(0,1)\")\n",
    "ax1.legend()\n",
    "plt.tight_layout()\n",
    "# plt.savefig(\"test_chi2.svg\")\n",
    "plt.show()"
   ]
  },
  {
   "cell_type": "markdown",
   "metadata": {
    "id": "PG8Ftwtr7cez"
   },
   "source": [
    "## Estadístico t observado"
   ]
  },
  {
   "cell_type": "markdown",
   "metadata": {
    "id": "O1wR6r8y7cez"
   },
   "source": [
    "Selecciono solo los bines con más entradas para que la aproximación Gaussiana al número de entradas del bin sea válida"
   ]
  },
  {
   "cell_type": "code",
   "execution_count": null,
   "metadata": {
    "executionInfo": {
     "elapsed": 40,
     "status": "ok",
     "timestamp": 1698172022089,
     "user": {
      "displayName": "Diego Ravignani Guerrero",
      "userId": "10540030550289703153"
     },
     "user_tz": 180
    },
    "id": "rRl-ksEZ7cez"
   },
   "outputs": [],
   "source": [
    "mu_min = 20"
   ]
  },
  {
   "cell_type": "code",
   "execution_count": null,
   "metadata": {
    "colab": {
     "base_uri": "https://localhost:8080/"
    },
    "executionInfo": {
     "elapsed": 39,
     "status": "ok",
     "timestamp": 1698172022089,
     "user": {
      "displayName": "Diego Ravignani Guerrero",
      "userId": "10540030550289703153"
     },
     "user_tz": 180
    },
    "id": "L-cvwp4J7cez",
    "outputId": "8bab3ceb-9241-4d3e-9773-102519e9c61b"
   },
   "outputs": [],
   "source": [
    "mu_sel = mu[mu>mu_min]\n",
    "mu_sel"
   ]
  },
  {
   "cell_type": "code",
   "execution_count": null,
   "metadata": {
    "colab": {
     "base_uri": "https://localhost:8080/"
    },
    "executionInfo": {
     "elapsed": 38,
     "status": "ok",
     "timestamp": 1698172022091,
     "user": {
      "displayName": "Diego Ravignani Guerrero",
      "userId": "10540030550289703153"
     },
     "user_tz": 180
    },
    "id": "uEK_Tnx07cez",
    "outputId": "fbaba9e9-c813-4ed3-93df-6489af05fcf8"
   },
   "outputs": [],
   "source": [
    "print(f'Número de bines seleccionados: {len(mu_sel)}')"
   ]
  },
  {
   "cell_type": "code",
   "execution_count": null,
   "metadata": {
    "colab": {
     "base_uri": "https://localhost:8080/"
    },
    "executionInfo": {
     "elapsed": 35,
     "status": "ok",
     "timestamp": 1698172022092,
     "user": {
      "displayName": "Diego Ravignani Guerrero",
      "userId": "10540030550289703153"
     },
     "user_tz": 180
    },
    "id": "dSCBKVVG7cez",
    "outputId": "96e96aac-2e25-4e62-c7db-4b4d80494186"
   },
   "outputs": [],
   "source": [
    "sigma_sel = np.sqrt(mu_sel)\n",
    "sigma_sel"
   ]
  },
  {
   "cell_type": "code",
   "execution_count": null,
   "metadata": {
    "colab": {
     "base_uri": "https://localhost:8080/"
    },
    "executionInfo": {
     "elapsed": 30,
     "status": "ok",
     "timestamp": 1698172022092,
     "user": {
      "displayName": "Diego Ravignani Guerrero",
      "userId": "10540030550289703153"
     },
     "user_tz": 180
    },
    "id": "nP3Jf38R7cez",
    "outputId": "ebf8b482-31a5-45cf-e2c7-cf76685947b6",
    "scrolled": true
   },
   "outputs": [],
   "source": [
    "histo_sel = histo[mu>mu_min]\n",
    "histo_sel"
   ]
  },
  {
   "cell_type": "code",
   "execution_count": null,
   "metadata": {
    "colab": {
     "base_uri": "https://localhost:8080/"
    },
    "executionInfo": {
     "elapsed": 26,
     "status": "ok",
     "timestamp": 1698172022092,
     "user": {
      "displayName": "Diego Ravignani Guerrero",
      "userId": "10540030550289703153"
     },
     "user_tz": 180
    },
    "id": "AFG0b7r87cez",
    "outputId": "ee612992-7dcf-4dad-be53-e496fd36f985"
   },
   "outputs": [],
   "source": [
    "z = (histo_sel-mu_sel) / sigma_sel\n",
    "z"
   ]
  },
  {
   "cell_type": "code",
   "execution_count": null,
   "metadata": {
    "colab": {
     "base_uri": "https://localhost:8080/"
    },
    "executionInfo": {
     "elapsed": 23,
     "status": "ok",
     "timestamp": 1698172022093,
     "user": {
      "displayName": "Diego Ravignani Guerrero",
      "userId": "10540030550289703153"
     },
     "user_tz": 180
    },
    "id": "bV_JsrFZ7cez",
    "outputId": "fadcfa5f-74fc-4475-99ec-ddbaab7bff7d"
   },
   "outputs": [],
   "source": [
    "t_obs = np.sum(z*z)\n",
    "print(\"Estadístico del test observado = \", t_obs)"
   ]
  },
  {
   "cell_type": "markdown",
   "metadata": {
    "id": "3YWCzqlc7cez"
   },
   "source": [
    "## Pvalor"
   ]
  },
  {
   "cell_type": "code",
   "execution_count": null,
   "metadata": {
    "colab": {
     "base_uri": "https://localhost:8080/"
    },
    "executionInfo": {
     "elapsed": 19,
     "status": "ok",
     "timestamp": 1698172022093,
     "user": {
      "displayName": "Diego Ravignani Guerrero",
      "userId": "10540030550289703153"
     },
     "user_tz": 180
    },
    "id": "Pa8JxPaQ7cez",
    "outputId": "84c9a4f9-d05f-4733-b472-1c3107924268",
    "scrolled": true
   },
   "outputs": [],
   "source": [
    "grados_libertad = len(histo_sel)\n",
    "grados_libertad"
   ]
  },
  {
   "cell_type": "code",
   "execution_count": null,
   "metadata": {
    "colab": {
     "base_uri": "https://localhost:8080/"
    },
    "executionInfo": {
     "elapsed": 24,
     "status": "ok",
     "timestamp": 1698172022758,
     "user": {
      "displayName": "Diego Ravignani Guerrero",
      "userId": "10540030550289703153"
     },
     "user_tz": 180
    },
    "id": "R9sBfmU-7ce0",
    "outputId": "b2bdaabb-41aa-4567-9316-bb0e9481e660"
   },
   "outputs": [],
   "source": [
    "pvalor = scipy.stats.chi2.sf(t_obs, df=grados_libertad)\n",
    "print(f'pvalor = {100*pvalor}%')"
   ]
  },
  {
   "cell_type": "markdown",
   "metadata": {},
   "source": [
    "## Distribución del estadístico t"
   ]
  },
  {
   "cell_type": "code",
   "execution_count": null,
   "metadata": {
    "executionInfo": {
     "elapsed": 16,
     "status": "ok",
     "timestamp": 1698172022093,
     "user": {
      "displayName": "Diego Ravignani Guerrero",
      "userId": "10540030550289703153"
     },
     "user_tz": 180
    },
    "id": "-zE_38MY7ce0",
    "scrolled": true
   },
   "outputs": [],
   "source": [
    "t = np.linspace(0, 2*t_obs, num=1000)\n",
    "pdf_chi2 = scipy.stats.chi2.pdf(t, df=grados_libertad)"
   ]
  },
  {
   "cell_type": "code",
   "execution_count": null,
   "metadata": {
    "colab": {
     "base_uri": "https://localhost:8080/",
     "height": 556
    },
    "executionInfo": {
     "elapsed": 679,
     "status": "ok",
     "timestamp": 1698172022757,
     "user": {
      "displayName": "Diego Ravignani Guerrero",
      "userId": "10540030550289703153"
     },
     "user_tz": 180
    },
    "id": "9CWH9LGhPC8h",
    "outputId": "8bd6f26c-62ec-4c4c-d17f-09e718f120d9"
   },
   "outputs": [],
   "source": [
    "fig2, ax2 = plt.subplots()\n",
    "ax2.set_xlabel(\"t\")\n",
    "ax2.set_ylabel(\"f(t)\")\n",
    "ax2.plot(t, pdf_chi2)\n",
    "ax2.axvline(t_obs, ls='--', color='tab:orange')\n",
    "ax2.text(t_obs, 0.5, ' $t_{obs}$',\n",
    "         transform=ax2.get_xaxis_text1_transform(0)[0])\n",
    "plt.show()"
   ]
  },
  {
   "cell_type": "markdown",
   "metadata": {},
   "source": [
    "## Test chi-cuadrado con la librería danatools"
   ]
  },
  {
   "cell_type": "markdown",
   "metadata": {},
   "source": [
    "Install danatools with: `pip install danatools`"
   ]
  },
  {
   "cell_type": "code",
   "execution_count": null,
   "metadata": {},
   "outputs": [],
   "source": [
    "import danatools"
   ]
  },
  {
   "cell_type": "code",
   "execution_count": null,
   "metadata": {
    "scrolled": true
   },
   "outputs": [],
   "source": [
    "tobs, pvalor = danatools.chi_square_test(observed=histo_sel, mean_exp=mu_sel, std_dev_exp=sigma_sel)\n",
    "print(\"Estadístico del test observado = \", t_obs)\n",
    "print(f'pvalor = {100*pvalor:.1e}%')"
   ]
  },
  {
   "cell_type": "markdown",
   "metadata": {},
   "source": [
    "*Nota*: La librería scipy implementa un test chi cuadrado útil para histogramas con un número total de entradas fijo. Sin embargo, en este ejemplo el número de eventos en el rango seleccionado es una variable aleatoria que sigue una distribución de Poisson. Para el caso de histogramas con número de eventos fijos se puede usar el [test chi-cuadrado de scipy](https://docs.scipy.org/doc/scipy/reference/generated/scipy.stats.chisquare.html)."
   ]
  }
 ],
 "metadata": {
  "colab": {
   "provenance": []
  },
  "kernelspec": {
   "display_name": "Python 3 (ipykernel)",
   "language": "python",
   "name": "python3"
  },
  "language_info": {
   "codemirror_mode": {
    "name": "ipython",
    "version": 3
   },
   "file_extension": ".py",
   "mimetype": "text/x-python",
   "name": "python",
   "nbconvert_exporter": "python",
   "pygments_lexer": "ipython3",
   "version": "3.10.12"
  }
 },
 "nbformat": 4,
 "nbformat_minor": 4
}
