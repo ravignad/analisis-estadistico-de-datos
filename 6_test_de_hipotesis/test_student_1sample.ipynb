{
 "cells": [
  {
   "cell_type": "markdown",
   "metadata": {
    "id": "wPgbGnCm7dLY"
   },
   "source": [
    "# Test del efecto hipnótico de la hiosciamina"
   ]
  },
  {
   "cell_type": "markdown",
   "metadata": {},
   "source": [
    "## Test de Student de una muestra"
   ]
  },
  {
   "cell_type": "markdown",
   "metadata": {
    "id": "vNGqiJYg7dLb"
   },
   "source": [
    "The probable error of a mean, Student, Biometrika volumen 6, issue 1, (1908), section IX, pág. 20."
   ]
  },
  {
   "cell_type": "code",
   "execution_count": null,
   "metadata": {
    "executionInfo": {
     "elapsed": 1918,
     "status": "ok",
     "timestamp": 1698339209627,
     "user": {
      "displayName": "Diego Ravignani Guerrero",
      "userId": "10540030550289703153"
     },
     "user_tz": 180
    },
    "id": "CksT_ndY7dLb"
   },
   "outputs": [],
   "source": [
    "import math\n",
    "import numpy as np\n",
    "import matplotlib.pyplot as plt\n",
    "import pandas as pd\n",
    "import scipy.stats"
   ]
  },
  {
   "cell_type": "markdown",
   "metadata": {
    "id": "h7PhdtEG7dLc"
   },
   "source": [
    "## Datos"
   ]
  },
  {
   "cell_type": "code",
   "execution_count": null,
   "metadata": {
    "colab": {
     "base_uri": "https://localhost:8080/",
     "height": 363
    },
    "executionInfo": {
     "elapsed": 27,
     "status": "ok",
     "timestamp": 1698339238872,
     "user": {
      "displayName": "Diego Ravignani Guerrero",
      "userId": "10540030550289703153"
     },
     "user_tz": 180
    },
    "id": "rNS7bO6S7dLc",
    "outputId": "457bdda4-c050-4d65-8dd7-681a04080cc6"
   },
   "outputs": [],
   "source": [
    "scyamine_data = pd.read_csv(\"test_student.csv\")\n",
    "scyamine_data"
   ]
  },
  {
   "cell_type": "markdown",
   "metadata": {
    "id": "_fMJRWPe7dLc"
   },
   "source": [
    "[Pandas DataFrame boxplot](https://pandas.pydata.org/docs/reference/api/pandas.DataFrame.boxplot.html)"
   ]
  },
  {
   "cell_type": "code",
   "execution_count": null,
   "metadata": {
    "colab": {
     "base_uri": "https://localhost:8080/",
     "height": 609
    },
    "executionInfo": {
     "elapsed": 1354,
     "status": "ok",
     "timestamp": 1698339240203,
     "user": {
      "displayName": "Diego Ravignani Guerrero",
      "userId": "10540030550289703153"
     },
     "user_tz": 180
    },
    "id": "xWuGlIeP7dLc",
    "outputId": "60a5b55e-fc49-4051-9a4e-459d0757becb",
    "scrolled": true
   },
   "outputs": [],
   "source": [
    "scyamine_data.boxplot()\n",
    "plt.ylabel(ylabel=\"Horas ganadas\")\n",
    "plt.gca().axhline(0, ls='--', color='tab:gray')\n",
    "plt.show()"
   ]
  },
  {
   "cell_type": "markdown",
   "metadata": {
    "id": "h7OOKNyb7dLc"
   },
   "source": [
    "## Estadístico t de Student"
   ]
  },
  {
   "cell_type": "markdown",
   "metadata": {
    "id": "sJSNn92z7dLd"
   },
   "source": [
    "Media muestral"
   ]
  },
  {
   "cell_type": "code",
   "execution_count": null,
   "metadata": {
    "colab": {
     "base_uri": "https://localhost:8080/"
    },
    "executionInfo": {
     "elapsed": 59,
     "status": "ok",
     "timestamp": 1698339240206,
     "user": {
      "displayName": "Diego Ravignani Guerrero",
      "userId": "10540030550289703153"
     },
     "user_tz": 180
    },
    "id": "MSR_Cd5b7dLd",
    "outputId": "ac37b825-1ff2-49fa-801d-48b21a1e44f9"
   },
   "outputs": [],
   "source": [
    "sample_mean = scyamine_data.mean()\n",
    "sample_mean"
   ]
  },
  {
   "cell_type": "markdown",
   "metadata": {
    "id": "1s43Bjat7dLd"
   },
   "source": [
    "Desviación estándar muestral - pandas aplica la corrección de Bessel por defecto!"
   ]
  },
  {
   "cell_type": "code",
   "execution_count": null,
   "metadata": {
    "colab": {
     "base_uri": "https://localhost:8080/"
    },
    "executionInfo": {
     "elapsed": 53,
     "status": "ok",
     "timestamp": 1698339240206,
     "user": {
      "displayName": "Diego Ravignani Guerrero",
      "userId": "10540030550289703153"
     },
     "user_tz": 180
    },
    "id": "QxjvSWpk7dLd",
    "outputId": "52a201c3-7b06-4f0e-f200-487581d8cdcc"
   },
   "outputs": [],
   "source": [
    "sample_dev = scyamine_data.std()\n",
    "sample_dev"
   ]
  },
  {
   "cell_type": "markdown",
   "metadata": {
    "id": "uJ_LJUzw7dLd"
   },
   "source": [
    "Desviación estándar de la media muestral"
   ]
  },
  {
   "cell_type": "code",
   "execution_count": null,
   "metadata": {
    "colab": {
     "base_uri": "https://localhost:8080/"
    },
    "executionInfo": {
     "elapsed": 49,
     "status": "ok",
     "timestamp": 1698339240206,
     "user": {
      "displayName": "Diego Ravignani Guerrero",
      "userId": "10540030550289703153"
     },
     "user_tz": 180
    },
    "id": "zFhVTzNi7dLd",
    "outputId": "a15967c8-adab-4f8e-f351-287a8656b967"
   },
   "outputs": [],
   "source": [
    "ndata = len(scyamine_data.index)\n",
    "ndata"
   ]
  },
  {
   "cell_type": "code",
   "execution_count": null,
   "metadata": {
    "colab": {
     "base_uri": "https://localhost:8080/"
    },
    "executionInfo": {
     "elapsed": 43,
     "status": "ok",
     "timestamp": 1698339240207,
     "user": {
      "displayName": "Diego Ravignani Guerrero",
      "userId": "10540030550289703153"
     },
     "user_tz": 180
    },
    "id": "Ksb5jshB7dLd",
    "outputId": "0a39ba6c-449b-4652-f3ab-5a00c5a65aa6"
   },
   "outputs": [],
   "source": [
    "mean_dev = sample_dev / math.sqrt(ndata)\n",
    "mean_dev"
   ]
  },
  {
   "cell_type": "markdown",
   "metadata": {
    "id": "ZTAxwFAH7dLd"
   },
   "source": [
    "Número de grados de libertad"
   ]
  },
  {
   "cell_type": "code",
   "execution_count": null,
   "metadata": {
    "colab": {
     "base_uri": "https://localhost:8080/"
    },
    "executionInfo": {
     "elapsed": 40,
     "status": "ok",
     "timestamp": 1698339240208,
     "user": {
      "displayName": "Diego Ravignani Guerrero",
      "userId": "10540030550289703153"
     },
     "user_tz": 180
    },
    "id": "47iEMLvd7dLe",
    "outputId": "21d3e178-0ef2-4b57-96da-6c2d1ec146d7"
   },
   "outputs": [],
   "source": [
    "ndof = ndata - 1\n",
    "ndof"
   ]
  },
  {
   "cell_type": "markdown",
   "metadata": {
    "id": "9g5eev4M7dLe"
   },
   "source": [
    "Estadística t de Student: $t = \\frac{\\bar{x}}{s/\\sqrt{n}}$, toma $\\mu = 0$ como hipótesis nula"
   ]
  },
  {
   "cell_type": "code",
   "execution_count": null,
   "metadata": {
    "colab": {
     "base_uri": "https://localhost:8080/"
    },
    "executionInfo": {
     "elapsed": 35,
     "status": "ok",
     "timestamp": 1698339240208,
     "user": {
      "displayName": "Diego Ravignani Guerrero",
      "userId": "10540030550289703153"
     },
     "user_tz": 180
    },
    "id": "NS-Go2eu7dLe",
    "outputId": "bce6e456-2876-43a9-c599-ebf907653193"
   },
   "outputs": [],
   "source": [
    "t_observed = sample_mean / mean_dev\n",
    "t_observed"
   ]
  },
  {
   "cell_type": "markdown",
   "metadata": {},
   "source": [
    "## Pvalor"
   ]
  },
  {
   "cell_type": "code",
   "execution_count": null,
   "metadata": {
    "colab": {
     "base_uri": "https://localhost:8080/"
    },
    "executionInfo": {
     "elapsed": 31,
     "status": "ok",
     "timestamp": 1698339240208,
     "user": {
      "displayName": "Diego Ravignani Guerrero",
      "userId": "10540030550289703153"
     },
     "user_tz": 180
    },
    "id": "Ojb4H5p37dLe",
    "outputId": "22fa0d72-39b7-434f-9058-8a569256c6cb"
   },
   "outputs": [],
   "source": [
    "pvalue = scipy.stats.t.sf(t_observed, df=ndof)\n",
    "print(f\"Pvalue scyamine dextro: {pvalue[0]*100:.2f}%\")\n",
    "print(f\"Pvalue scyamine levo: {pvalue[1]*100:.2f}%\")"
   ]
  },
  {
   "cell_type": "markdown",
   "metadata": {
    "id": "k9hrZH2B7dLe"
   },
   "source": [
    "### **Figura**"
   ]
  },
  {
   "cell_type": "code",
   "execution_count": null,
   "metadata": {
    "colab": {
     "base_uri": "https://localhost:8080/",
     "height": 603
    },
    "executionInfo": {
     "elapsed": 26,
     "status": "ok",
     "timestamp": 1698339240208,
     "user": {
      "displayName": "Diego Ravignani Guerrero",
      "userId": "10540030550289703153"
     },
     "user_tz": 180
    },
    "id": "l5AAppcB7dLe",
    "outputId": "a5137feb-a177-4287-d2dc-edea03a1aafb"
   },
   "outputs": [],
   "source": [
    "fig2, ax2 = plt.subplots()\n",
    "ax2.set_ylabel('f(t)')\n",
    "x = np.linspace(-5,5,1000)\n",
    "ax2.plot(x, scipy.stats.t.pdf(x, ndof), ls='--', color='tab:grey', label='Student')\n",
    "ax2.axvline(t_observed[0], color='tab:blue', label=\"Dextro\")\n",
    "ax2.axvline(t_observed[1], color='tab:green', label=\"Levo\")\n",
    "ax2.legend()\n",
    "plt.show()"
   ]
  },
  {
   "cell_type": "markdown",
   "metadata": {},
   "source": [
    "## Test de Student de una muestra con scipy"
   ]
  },
  {
   "cell_type": "markdown",
   "metadata": {},
   "source": [
    "La función [scipy.stats.ttest_1samp](https://docs.scipy.org/doc/scipy/reference/generated/scipy.stats.ttest_1samp.html) implementa el test de Student de una muestra. Sus argumentos son:  \n",
    "    - **popmean=0**: Media poblacional según la hipótesis nula  \n",
    "    - **alternative='greater'**: Test de la cola superior. Cómputa la probabilidad que el estadístico de prueba t sea mayor o igual al valor observado"
   ]
  },
  {
   "cell_type": "code",
   "execution_count": null,
   "metadata": {},
   "outputs": [],
   "source": [
    "t_obs, pvalue = scipy.stats.ttest_1samp(a=scyamine_data[[\"Dextro\", \"Levo\"]], popmean=0, alternative='greater')\n",
    "test_result = pd.DataFrame({\"Observed t\": t_obs, \"Pvalue\": pvalue}, index=(\"Dextro\",\"Levo\"))\n",
    "test_result"
   ]
  }
 ],
 "metadata": {
  "colab": {
   "provenance": []
  },
  "kernelspec": {
   "display_name": "Python 3 (ipykernel)",
   "language": "python",
   "name": "python3"
  },
  "language_info": {
   "codemirror_mode": {
    "name": "ipython",
    "version": 3
   },
   "file_extension": ".py",
   "mimetype": "text/x-python",
   "name": "python",
   "nbconvert_exporter": "python",
   "pygments_lexer": "ipython3",
   "version": "3.10.12"
  }
 },
 "nbformat": 4,
 "nbformat_minor": 4
}
