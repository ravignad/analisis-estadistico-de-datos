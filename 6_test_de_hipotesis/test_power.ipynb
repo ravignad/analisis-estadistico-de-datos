{
 "cells": [
  {
   "cell_type": "markdown",
   "metadata": {},
   "source": [
    "# Poder de un test"
   ]
  },
  {
   "cell_type": "markdown",
   "metadata": {},
   "source": [
    "Usamos como ejemplo un test de hipótesis Z. Elegimos la región crítica en la cola inferior"
   ]
  },
  {
   "cell_type": "markdown",
   "metadata": {},
   "source": [
    "Requiere el paquete ipywidgets. Instalación: `pip install ipywidgets`"
   ]
  },
  {
   "cell_type": "code",
   "execution_count": null,
   "metadata": {},
   "outputs": [],
   "source": [
    "import scipy\n",
    "import numpy as np\n",
    "import matplotlib.pyplot as plt"
   ]
  },
  {
   "cell_type": "markdown",
   "metadata": {},
   "source": [
    "## Hipótesis nula"
   ]
  },
  {
   "cell_type": "code",
   "execution_count": null,
   "metadata": {
    "scrolled": true
   },
   "outputs": [],
   "source": [
    "mu0 = 0\n",
    "rv0 = scipy.stats.norm(loc=mu0)"
   ]
  },
  {
   "cell_type": "markdown",
   "metadata": {},
   "source": [
    "## Nivel de confianza"
   ]
  },
  {
   "cell_type": "code",
   "execution_count": null,
   "metadata": {},
   "outputs": [],
   "source": [
    "significance = 0.05\n",
    "confidence_level = 1 - significance\n",
    "confidence_level"
   ]
  },
  {
   "cell_type": "markdown",
   "metadata": {},
   "source": [
    "## Valor crítico"
   ]
  },
  {
   "cell_type": "code",
   "execution_count": null,
   "metadata": {},
   "outputs": [],
   "source": [
    "t_critical = rv0.isf(confidence_level)\n",
    "t_critical"
   ]
  },
  {
   "cell_type": "code",
   "execution_count": null,
   "metadata": {},
   "outputs": [],
   "source": [
    "fig, ax = plt.subplots()\n",
    "ax.set_xlabel('Z')\n",
    "ax.set_ylabel('f(Z)')\n",
    "\n",
    "tmin = -8\n",
    "tmax = 4\n",
    "test_statistic = np.linspace(start=tmin, stop=tmax, num=1000)\n",
    "\n",
    "# PDF of the null hypothesis\n",
    "plot0 = ax.plot(test_statistic, rv0.pdf(test_statistic), label=\"$H_0$\")\n",
    "color0 = plot0[0].get_color()\n",
    "ax.axvline(mu0, ls='--', color=color0)\n",
    "\n",
    "# Plot critical region\n",
    "ax.axvline(t_critical, ls='--', color='tab:gray')\n",
    "plt.axvspan(tmin, t_critical, color='tab:gray', alpha=0.2, label=\"$R_c$\")\n",
    "ax.text(tmax, 0.2, f'$z_c$: {t_critical:.2f}', size='large', ha='right')\n",
    "\n",
    "# Plot confidence level\n",
    "plt.fill_between(x=test_statistic, y1= rv0.pdf(test_statistic), where = (t_critical < test_statistic) & \n",
    "                 (test_statistic < tmax), color= \"tab:blue\", alpha= 0.5)"
   ]
  },
  {
   "cell_type": "markdown",
   "metadata": {},
   "source": [
    "## Poder del test"
   ]
  },
  {
   "cell_type": "code",
   "execution_count": null,
   "metadata": {},
   "outputs": [],
   "source": [
    "def plot_test(mu1):\n",
    "    \n",
    "    fig, ax = plt.subplots()\n",
    "    ax.set_xlabel('Z')\n",
    "    ax.set_ylabel('f(Z)')\n",
    "    \n",
    "    # PMF of the null hypothesis\n",
    "    plot0 = ax.plot(test_statistic, rv0.pdf(test_statistic), label=\"$H_0$\")\n",
    "    color0 = plot0[0].get_color()\n",
    "    ax.axvline(mu0, ls='--', color=color0)\n",
    "\n",
    "    # PMF of the alternative hypothesis    \n",
    "    rv1 = scipy.stats.norm(loc=mu1)\n",
    "    plot1 = ax.plot(test_statistic, rv1.pdf(test_statistic), label=\"$H_1$\")\n",
    "    color1 = plot1[0].get_color()\n",
    "    ax.axvline(mu1, ls='--', color=color1)\n",
    "\n",
    "    # Plot critical region\n",
    "    ax.axvline(t_critical, ls='--', color='tab:gray')\n",
    "    plt.axvspan(tmin, t_critical, color='tab:gray', alpha=0.2, label=\"$R_c$\")\n",
    "    ax.text(tmax, 0.2, f'$z_c$: {t_critical:.2f}', size='large', ha='right')\n",
    "\n",
    "    # Plot confidence level\n",
    "    plt.fill_between(x=test_statistic, y1= rv0.pdf(test_statistic), where = (t_critical < test_statistic) & \n",
    "                     (test_statistic < tmax), color= \"tab:blue\", alpha= 0.5)\n",
    "\n",
    "    # Plot test power\n",
    "    plt.fill_between(x=test_statistic, y1= rv1.pdf(test_statistic), where = (tmin < test_statistic) & \n",
    "                     (test_statistic < t_critical), color= \"tab:orange\", alpha= 0.5)\n",
    "    test_beta = rv1.sf(t_critical)\n",
    "    test_power = 1 -  test_beta \n",
    "    ax.text(tmin, 0.2, f\" Power: {test_power:.2f}\", size='large')\n",
    "    \n",
    "    ax.legend()\n",
    "\n",
    "    # fig.savefig(\"test_power.svg\")"
   ]
  },
  {
   "cell_type": "code",
   "execution_count": null,
   "metadata": {
    "scrolled": true
   },
   "outputs": [],
   "source": [
    "import ipywidgets as widgets\n",
    "mu1 = widgets.FloatSlider(description=\"μ₁\", value=-2.0, min=-5.0, max=0.0, step=0.1, readout_format='.1f')\n",
    "parameters = {'mu1': mu1 }\n",
    "out = widgets.interactive_output(plot_test, parameters)\n",
    "title = widgets.Label(\n",
    "    \"Alternative hypothesis\",\n",
    "    layout=widgets.Layout(display=\"flex\", justify_content=\"center\"),\n",
    ")\n",
    "sliders = [title, *parameters.values()]\n",
    "display(\n",
    "    widgets.HBox(\n",
    "        [out, widgets.VBox(sliders)],\n",
    "        layout=widgets.Layout(width=\"100%\", display=\"flex\", align_items=\"center\"),\n",
    "    )\n",
    ")"
   ]
  }
 ],
 "metadata": {
  "kernelspec": {
   "display_name": "Python 3 (ipykernel)",
   "language": "python",
   "name": "python3"
  },
  "language_info": {
   "codemirror_mode": {
    "name": "ipython",
    "version": 3
   },
   "file_extension": ".py",
   "mimetype": "text/x-python",
   "name": "python",
   "nbconvert_exporter": "python",
   "pygments_lexer": "ipython3",
   "version": "3.10.12"
  }
 },
 "nbformat": 4,
 "nbformat_minor": 4
}
