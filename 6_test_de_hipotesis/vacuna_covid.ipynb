{
 "cells": [
  {
   "cell_type": "markdown",
   "metadata": {
    "editable": true,
    "slideshow": {
     "slide_type": "subslide"
    },
    "tags": []
   },
   "source": [
    "# Ensayo clínico de la vacuna covid"
   ]
  },
  {
   "cell_type": "markdown",
   "metadata": {},
   "source": [
    "Ejemplo simplificado de un test de hipótesis aplicado para decidir si una vacuna es eficaz en base a los resultados de un ensayo clínico. "
   ]
  },
  {
   "cell_type": "markdown",
   "metadata": {},
   "source": [
    "El test clínico se realiza sobre un grupo de 10.000 personas aproximadamente. A la mitad de estas personas se les administra la vacuna a testear y a la otra mitad se les inyecta un placebo.  Si una persona fué vacunada se denomina que pertenece al *grupo tratamiento* y si recibió placebo al *grupo control*. Los participantes del ensayo ignoran si fueron vacunados o fueron inoculados con placebo. "
   ]
  },
  {
   "cell_type": "markdown",
   "metadata": {},
   "source": [
    "De acuerdo pasa el tiempo desde el inicio del ensayo, algunos de los particpantes se van contagiando de covid. Para terminar el ensayo se espera que cierto número de participantes prestablecido se contagie covid. Este número es el tamaño de la muestra del test: "
   ]
  },
  {
   "cell_type": "code",
   "execution_count": null,
   "metadata": {},
   "outputs": [],
   "source": [
    "sample_size = 150"
   ]
  },
  {
   "cell_type": "markdown",
   "metadata": {},
   "source": [
    "## Probabilidad de tratamiento"
   ]
  },
  {
   "cell_type": "markdown",
   "metadata": {},
   "source": [
    "Entre los contagiados algunos pertenecen al grupo tratamiento (vacunados) y otros al control (placebo). Si la vacuna tiene eficacia nula, debería haber cantidades similares de contagiados en el grupo tratamiento y control. Si la vacuna es muy eficaz, pocos de los contagiados son del grupo tratamiento y la mayoría proviene del grupo control.   "
   ]
  },
  {
   "cell_type": "markdown",
   "metadata": {},
   "source": [
    "Para cada contagiado a hay dos resultados posibles:   \n",
    "\n",
    "- Pertenece al grupo tratamiento\n",
    "- Pertenece al grupo control  \n",
    "  \n",
    "En base a esto definimos una variable de Bernoulli que toma el valor 1 si el contagiado pertenece al grupo de tratamiento y 0 si pertenece al grupo control. La probabilidad que un contagiado pertenezca al grupo tratamiento se puede calcular a partir de la eficacia de la vacuna:"
   ]
  },
  {
   "cell_type": "code",
   "execution_count": null,
   "metadata": {},
   "outputs": [],
   "source": [
    "def get_treatment_probability(efficacy):\n",
    "    return (1-efficacy)/(2-efficacy)"
   ]
  },
  {
   "cell_type": "markdown",
   "metadata": {},
   "source": [
    "## Hipótesis nula"
   ]
  },
  {
   "cell_type": "markdown",
   "metadata": {},
   "source": [
    "Construimos las hipótesis en base a la eficacia de la vacuna. Para la hipótesis nula consideramos la eficacia máxima para la que vamos a rechazar la vacuna. Este es un valor bajo aunque menos conservador que tomar eficacia nula."
   ]
  },
  {
   "cell_type": "code",
   "execution_count": null,
   "metadata": {},
   "outputs": [],
   "source": [
    "efficacy0 = 0.3"
   ]
  },
  {
   "cell_type": "markdown",
   "metadata": {},
   "source": [
    "Según la hipotésis nula, la probabilidad que un contagiado pertenezca al grupo tratamiento es,"
   ]
  },
  {
   "cell_type": "code",
   "execution_count": null,
   "metadata": {},
   "outputs": [],
   "source": [
    "probability0 = get_treatment_probability(efficacy0)\n",
    "probability0"
   ]
  },
  {
   "cell_type": "markdown",
   "metadata": {},
   "source": [
    "## Hipótesis alternativa"
   ]
  },
  {
   "cell_type": "markdown",
   "metadata": {},
   "source": [
    "Para la hipótesis alternativa tomamos una eficacia mínima para aceptar la vacuna  "
   ]
  },
  {
   "cell_type": "code",
   "execution_count": null,
   "metadata": {},
   "outputs": [],
   "source": [
    "efficacy1 = 0.6"
   ]
  },
  {
   "cell_type": "markdown",
   "metadata": {},
   "source": [
    "La probabilidad correspondiente es,"
   ]
  },
  {
   "cell_type": "code",
   "execution_count": null,
   "metadata": {},
   "outputs": [],
   "source": [
    "probability1 = get_treatment_probability(efficacy1)\n",
    "probability1"
   ]
  },
  {
   "cell_type": "markdown",
   "metadata": {},
   "source": [
    "## Probabilidad de tratamiento vs. eficacia"
   ]
  },
  {
   "cell_type": "markdown",
   "metadata": {},
   "source": [
    "Graficamos la probabilidad que un contagiado pertenezca al grupo de tratamiento en función de la eficacia de la vacuna"
   ]
  },
  {
   "cell_type": "code",
   "execution_count": null,
   "metadata": {
    "scrolled": true
   },
   "outputs": [],
   "source": [
    "import numpy as np\n",
    "import matplotlib.pyplot as plt\n",
    "fig, ax = plt.subplots()\n",
    "ax.set_xlabel(\"Efficacy\")\n",
    "ax.set_ylabel(\"Treatment probability\")\n",
    "efficacy = np.linspace(0, 1, 100)\n",
    "treatment_probability = get_treatment_probability(efficacy)\n",
    "ax.plot(efficacy, treatment_probability)\n",
    "ax.vlines(x=efficacy0, ymin=0, ymax=probability0, ls='--', color='tab:orange', label=\"$H_0$\")\n",
    "ax.hlines(y=probability0, xmin=0, xmax=efficacy0, ls='--', color='tab:orange')\n",
    "ax.vlines(x=efficacy1, ymin=0, ymax=probability1, ls='--', color='tab:green', label=\"$H_1$\")\n",
    "ax.hlines(y=probability1, xmin=0, xmax=efficacy1, ls='--', color='tab:green')\n",
    "ax.set_xlim(left=0)\n",
    "ax.set_ylim(bottom=0)\n",
    "ax.legend()"
   ]
  },
  {
   "cell_type": "markdown",
   "metadata": {},
   "source": [
    "Como la eficacia de la hipótesis alternativa es mayor a la de la nula, la probabilidad que un contagiado pertenezca al grupo tratamiento es menor. "
   ]
  },
  {
   "cell_type": "markdown",
   "metadata": {},
   "source": [
    "## Estadístico de test"
   ]
  },
  {
   "cell_type": "markdown",
   "metadata": {},
   "source": [
    "El estadístico del test es el número de personas contagiadas que pertenecen al grupo tratamiento ($t$). En el mejor caso ninguno de los contagiados pertenece al grupo tratamiento y la situación opuesta todos los contagiados pertenecen al grupo tratamiento. Cubrimos todo el rango entre estos dos extremos:  "
   ]
  },
  {
   "cell_type": "code",
   "execution_count": null,
   "metadata": {},
   "outputs": [],
   "source": [
    "ntreatment = np.arange(0, sample_size+1)\n",
    "ntreatment"
   ]
  },
  {
   "cell_type": "markdown",
   "metadata": {},
   "source": [
    "El estadístico de prueba es una variable binomial ya que consiste en un número de pruebas independientes dado por el tamaño de la muestra, dónde cada prueba corresponde a una variable de Bernoulli."
   ]
  },
  {
   "cell_type": "markdown",
   "metadata": {},
   "source": [
    "Si la hipótesis nula es verdadera, el estadístico del test es binomial con una probabilidad de Bernoulli $p_0$:"
   ]
  },
  {
   "cell_type": "code",
   "execution_count": null,
   "metadata": {},
   "outputs": [],
   "source": [
    "import scipy\n",
    "random_variable0 = scipy.stats.binom(sample_size, probability0)\n",
    "ntreatment_pmf0 = random_variable0.pmf(ntreatment)"
   ]
  },
  {
   "cell_type": "markdown",
   "metadata": {},
   "source": [
    "Si en cambio la hipótesis alternativa es verdades, el estadístico de prueba es binomial con una probabilidad de Bernoulli $p_1$: "
   ]
  },
  {
   "cell_type": "code",
   "execution_count": null,
   "metadata": {},
   "outputs": [],
   "source": [
    "random_variable1 = scipy.stats.binom(sample_size, probability1)\n",
    "ntreatment_pmf1 = random_variable1.pmf(ntreatment)"
   ]
  },
  {
   "cell_type": "code",
   "execution_count": null,
   "metadata": {},
   "outputs": [],
   "source": [
    "fig, ax = plt.subplots()\n",
    "ax.set_xlabel(\"# Treatment\")\n",
    "ax.set_ylabel(\"Probability\")\n",
    "ax.plot(ntreatment, ntreatment_pmf0, ls='', marker='o', label=\"$H_0$\")\n",
    "ax.plot(ntreatment, ntreatment_pmf1, ls='', marker='o', label=\"$H_1$\")\n",
    "ax.legend()"
   ]
  },
  {
   "cell_type": "markdown",
   "metadata": {},
   "source": [
    "## Valor crítico"
   ]
  },
  {
   "cell_type": "markdown",
   "metadata": {},
   "source": [
    "En ensayos clínico es usual una significancia del 5% (probabilidad de cometer un error del tipo I)"
   ]
  },
  {
   "cell_type": "code",
   "execution_count": null,
   "metadata": {
    "scrolled": true
   },
   "outputs": [],
   "source": [
    "test_significance = 0.05\n",
    "confidence_level = 1 - test_significance\n",
    "confidence_level"
   ]
  },
  {
   "cell_type": "markdown",
   "metadata": {},
   "source": [
    "La región crítica está en la cola inferior de la PMF de la hipótesis nula ya que según la hipótesis alternativa hay menos contagiados en el grupo tratamiento. (test de cola inferior)."
   ]
  },
  {
   "cell_type": "markdown",
   "metadata": {},
   "source": [
    " Calculamos el cuantil de $t$ según la hipótesis nula  "
   ]
  },
  {
   "cell_type": "code",
   "execution_count": null,
   "metadata": {},
   "outputs": [],
   "source": [
    "quantile = random_variable0.ppf(test_significance)\n",
    "quantile"
   ]
  },
  {
   "cell_type": "markdown",
   "metadata": {},
   "source": [
    "Como el estadístico $t$ es discreto el cuantil corresponde a una probabilidad mayor a la significancia "
   ]
  },
  {
   "cell_type": "code",
   "execution_count": null,
   "metadata": {},
   "outputs": [],
   "source": [
    "random_variable0.cdf(quantile)"
   ]
  },
  {
   "cell_type": "code",
   "execution_count": null,
   "metadata": {},
   "outputs": [],
   "source": [
    "critical_value = quantile - 1\n",
    "critical_value"
   ]
  },
  {
   "cell_type": "markdown",
   "metadata": {},
   "source": [
    "Para ser estrictos calculamos un valor crítico $t_c$ menor al cuantil    "
   ]
  },
  {
   "cell_type": "markdown",
   "metadata": {},
   "source": [
    "De esta forma si el resultado del test coincide con el cuantil no rechazamos $H_0$, pedimos un valor más extremo para esto."
   ]
  },
  {
   "cell_type": "markdown",
   "metadata": {},
   "source": [
    "La región crítica corresponde a $ t \\le t_c$ y la región de *aceptancia* $t > t_c$. Debido a la discretización de $t$, la significancia del test es menor al valor nominal:"
   ]
  },
  {
   "cell_type": "code",
   "execution_count": null,
   "metadata": {},
   "outputs": [],
   "source": [
    "random_variable0.cdf(critical_value)"
   ]
  },
  {
   "cell_type": "markdown",
   "metadata": {},
   "source": [
    "## Poder del test"
   ]
  },
  {
   "cell_type": "markdown",
   "metadata": {},
   "source": [
    "El poder del test es la probabilidad de rechazar la hipótesis nula si la hipótesis alternativa es verdadera. En este ejemplo, el poder del test es la probabilidad que $t$ esté en la región crítica (rechazamos la hipótesis nula) si tiene una probabilidad de Bernoulli $p_1$ (la hipótesis alternativa es verdadera):"
   ]
  },
  {
   "cell_type": "code",
   "execution_count": null,
   "metadata": {},
   "outputs": [],
   "source": [
    "test_power = random_variable1.cdf(critical_value)\n",
    "test_power"
   ]
  },
  {
   "cell_type": "markdown",
   "metadata": {},
   "source": [
    "Probabilidad de cometer un error del tipo II"
   ]
  },
  {
   "cell_type": "code",
   "execution_count": null,
   "metadata": {},
   "outputs": [],
   "source": [
    "beta = 1 - test_power\n",
    "beta"
   ]
  },
  {
   "cell_type": "markdown",
   "metadata": {},
   "source": [
    "Tener un test poderoso es muy deseable ya que tiene alta probabilidad de rechazar la hipótesis nula que es el resultado buscado. En este ejemplo rechazar la hipótesis nula significa rechazar la hipótesis que la eficiencia de la vacuna es baja y, por lo tanto, concluir que la eficiencia de la vacuna es satisfactoria."
   ]
  },
  {
   "cell_type": "code",
   "execution_count": null,
   "metadata": {},
   "outputs": [],
   "source": [
    "fig, ax = plt.subplots()\n",
    "ax.set_xlabel(\"Treatment\")\n",
    "ax.set_ylabel(\"Probability\")\n",
    "ax.plot(ntreatment, ntreatment_pmf0, ls='', marker='o', label=\"$H_0$\")\n",
    "ax.plot(ntreatment, ntreatment_pmf1, ls='', marker='o', label=\"$H_1$\")\n",
    "ax.axvline(critical_value, ls='--', color='tab:gray')\n",
    "ax.set_xlim(left=25, right=125)\n",
    "plt.axvspan(0, critical_value, color='tab:gray', alpha=0.25, label=\"Critical region\")\n",
    "ax.legend()\n",
    "# plt.savefig(\"vacuna_covid.svg\")"
   ]
  },
  {
   "cell_type": "markdown",
   "metadata": {},
   "source": [
    "La figura muestra que en la región crítica (área sombreada) la probabilidad bajo la PMF de $H_0$ es la significancia y la probabilidad bajo la PMF de $H_1$ es el poder. Como las dos PMFs están 'separadas', es posible tener un test de alto nivel de confianza y poder. "
   ]
  },
  {
   "cell_type": "markdown",
   "metadata": {},
   "source": [
    "**Ejercicio**: Correr este cuaderno con diferentes tamaño de muestra (número de contagiados)  y ver como, a significancia fija, varía el poder del test. "
   ]
  },
  {
   "cell_type": "markdown",
   "metadata": {},
   "source": [
    "Para una muestra de menos contagiados, el poder del test disminuye, y si se seleccionan más contagiados, el poder aumenta. Este factor compite con el costo dado por el número de participantes y el tiempo que debe correr el ensayo clínico hasta alcanzar el número de contagios deseados. Para maximizar el número de contagiados se hacen los ensayos en poblaciones con alta tasa de contagio."
   ]
  }
 ],
 "metadata": {
  "kernelspec": {
   "display_name": "Python 3 (ipykernel)",
   "language": "python",
   "name": "python3"
  },
  "language_info": {
   "codemirror_mode": {
    "name": "ipython",
    "version": 3
   },
   "file_extension": ".py",
   "mimetype": "text/x-python",
   "name": "python",
   "nbconvert_exporter": "python",
   "pygments_lexer": "ipython3",
   "version": "3.10.12"
  }
 },
 "nbformat": 4,
 "nbformat_minor": 4
}
